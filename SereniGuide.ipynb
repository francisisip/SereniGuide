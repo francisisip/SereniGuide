{
 "cells": [
  {
   "cell_type": "markdown",
   "id": "e9744049",
   "metadata": {},
   "source": [
    "# SereniGuide: a sleep wellness tracking app\n",
    "\n",
    "<div style=\"font-style: italic;\">\n",
    "    <br>\n",
    "    <p style=\"margin-top: 0; margin-bottom: 0;\"> EMPATHY S11 </p>\n",
    "    <p style=\"margin-top: 0; margin-bottom: 0;\"> Group 2: Bawa, Gomez, Lejano, Nadela, Roxas</p>\n",
    "</div>"
   ]
  },
  {
   "cell_type": "markdown",
   "id": "d09f6a95",
   "metadata": {},
   "source": [
    "## I. Dataset Description\n",
    "\n",
    "Sleep is crucial for the overall health of a person and their emotional well-being. It allows the body to recharge so that people can function properly and perform their daily tasks. Sleep efficiency is a metric that measures the percentage of time spent asleep compared to the total time spent in bed. It reflects the effectiveness of sleep duration in relation to the time spent attempting to sleep. \n",
    "\n",
    "The dataset this project used is sourced from Kaggle and titled: \"Sleep Efficiency Dataset\". The dataset provides insights into the sleep patterns of a group of test subjects, including details on their sleep duration, efficiency, stages, and nocturnal awakenings. It also includes information on factors such as caffeine and alcohol consumption, smoking habits, exercise frequency, age, and gender. "
   ]
  },
  {
   "cell_type": "markdown",
   "id": "edefea2b",
   "metadata": {},
   "source": [
    "### Collection Methodology\n",
    "\n",
    "The dataset originates from a research study conducted in Morocco by a team of artificial intelligence engineering students from ENSIAS. Over a period of several months, the team enlisted participants from the local community and gathered data through a blend of self-reported surveys, actigraphy, and polysomnography—a method for monitoring sleep patterns."
   ]
  },
  {
   "cell_type": "markdown",
   "id": "80c7d3f0",
   "metadata": {},
   "source": [
    "### Structure of the Dataset\n",
    "\n",
    "To take a look at the structure of the dataset, as well as to manipulate and analyze the data, some libraries in Python (such as NumPy and Pandas) are imported. The dataset downloaded from [Kaggle](https://www.kaggle.com/datasets/equilibriumm/sleep-efficiency) is also imported using Pandas."
   ]
  },
  {
   "cell_type": "code",
   "execution_count": 42,
   "id": "82849b6f",
   "metadata": {},
   "outputs": [],
   "source": [
    "import numpy as np\n",
    "import pandas as pd\n",
    "\n",
    "sleep_df = pd.read_csv(\"Sleep_Efficiency.csv\")"
   ]
  },
  {
   "cell_type": "code",
   "execution_count": 43,
   "id": "457982a7",
   "metadata": {},
   "outputs": [
    {
     "data": {
      "text/html": [
       "<div>\n",
       "<style scoped>\n",
       "    .dataframe tbody tr th:only-of-type {\n",
       "        vertical-align: middle;\n",
       "    }\n",
       "\n",
       "    .dataframe tbody tr th {\n",
       "        vertical-align: top;\n",
       "    }\n",
       "\n",
       "    .dataframe thead th {\n",
       "        text-align: right;\n",
       "    }\n",
       "</style>\n",
       "<table border=\"1\" class=\"dataframe\">\n",
       "  <thead>\n",
       "    <tr style=\"text-align: right;\">\n",
       "      <th></th>\n",
       "      <th>ID</th>\n",
       "      <th>Age</th>\n",
       "      <th>Gender</th>\n",
       "      <th>Bedtime</th>\n",
       "      <th>Wakeup time</th>\n",
       "      <th>Sleep duration</th>\n",
       "      <th>Sleep efficiency</th>\n",
       "      <th>REM sleep percentage</th>\n",
       "      <th>Deep sleep percentage</th>\n",
       "      <th>Light sleep percentage</th>\n",
       "      <th>Awakenings</th>\n",
       "      <th>Caffeine consumption</th>\n",
       "      <th>Alcohol consumption</th>\n",
       "      <th>Smoking status</th>\n",
       "      <th>Exercise frequency</th>\n",
       "    </tr>\n",
       "  </thead>\n",
       "  <tbody>\n",
       "    <tr>\n",
       "      <th>0</th>\n",
       "      <td>1</td>\n",
       "      <td>65</td>\n",
       "      <td>Female</td>\n",
       "      <td>2021-03-06 01:00:00</td>\n",
       "      <td>2021-03-06 07:00:00</td>\n",
       "      <td>6.0</td>\n",
       "      <td>0.88</td>\n",
       "      <td>18</td>\n",
       "      <td>70</td>\n",
       "      <td>12</td>\n",
       "      <td>0.0</td>\n",
       "      <td>0.0</td>\n",
       "      <td>0.0</td>\n",
       "      <td>Yes</td>\n",
       "      <td>3.0</td>\n",
       "    </tr>\n",
       "    <tr>\n",
       "      <th>1</th>\n",
       "      <td>2</td>\n",
       "      <td>69</td>\n",
       "      <td>Male</td>\n",
       "      <td>2021-12-05 02:00:00</td>\n",
       "      <td>2021-12-05 09:00:00</td>\n",
       "      <td>7.0</td>\n",
       "      <td>0.66</td>\n",
       "      <td>19</td>\n",
       "      <td>28</td>\n",
       "      <td>53</td>\n",
       "      <td>3.0</td>\n",
       "      <td>0.0</td>\n",
       "      <td>3.0</td>\n",
       "      <td>Yes</td>\n",
       "      <td>3.0</td>\n",
       "    </tr>\n",
       "    <tr>\n",
       "      <th>2</th>\n",
       "      <td>3</td>\n",
       "      <td>40</td>\n",
       "      <td>Female</td>\n",
       "      <td>2021-05-25 21:30:00</td>\n",
       "      <td>2021-05-25 05:30:00</td>\n",
       "      <td>8.0</td>\n",
       "      <td>0.89</td>\n",
       "      <td>20</td>\n",
       "      <td>70</td>\n",
       "      <td>10</td>\n",
       "      <td>1.0</td>\n",
       "      <td>0.0</td>\n",
       "      <td>0.0</td>\n",
       "      <td>No</td>\n",
       "      <td>3.0</td>\n",
       "    </tr>\n",
       "    <tr>\n",
       "      <th>3</th>\n",
       "      <td>4</td>\n",
       "      <td>40</td>\n",
       "      <td>Female</td>\n",
       "      <td>2021-11-03 02:30:00</td>\n",
       "      <td>2021-11-03 08:30:00</td>\n",
       "      <td>6.0</td>\n",
       "      <td>0.51</td>\n",
       "      <td>23</td>\n",
       "      <td>25</td>\n",
       "      <td>52</td>\n",
       "      <td>3.0</td>\n",
       "      <td>50.0</td>\n",
       "      <td>5.0</td>\n",
       "      <td>Yes</td>\n",
       "      <td>1.0</td>\n",
       "    </tr>\n",
       "    <tr>\n",
       "      <th>4</th>\n",
       "      <td>5</td>\n",
       "      <td>57</td>\n",
       "      <td>Male</td>\n",
       "      <td>2021-03-13 01:00:00</td>\n",
       "      <td>2021-03-13 09:00:00</td>\n",
       "      <td>8.0</td>\n",
       "      <td>0.76</td>\n",
       "      <td>27</td>\n",
       "      <td>55</td>\n",
       "      <td>18</td>\n",
       "      <td>3.0</td>\n",
       "      <td>0.0</td>\n",
       "      <td>3.0</td>\n",
       "      <td>No</td>\n",
       "      <td>3.0</td>\n",
       "    </tr>\n",
       "  </tbody>\n",
       "</table>\n",
       "</div>"
      ],
      "text/plain": [
       "   ID  Age  Gender              Bedtime          Wakeup time  Sleep duration  \\\n",
       "0   1   65  Female  2021-03-06 01:00:00  2021-03-06 07:00:00             6.0   \n",
       "1   2   69    Male  2021-12-05 02:00:00  2021-12-05 09:00:00             7.0   \n",
       "2   3   40  Female  2021-05-25 21:30:00  2021-05-25 05:30:00             8.0   \n",
       "3   4   40  Female  2021-11-03 02:30:00  2021-11-03 08:30:00             6.0   \n",
       "4   5   57    Male  2021-03-13 01:00:00  2021-03-13 09:00:00             8.0   \n",
       "\n",
       "   Sleep efficiency  REM sleep percentage  Deep sleep percentage  \\\n",
       "0              0.88                    18                     70   \n",
       "1              0.66                    19                     28   \n",
       "2              0.89                    20                     70   \n",
       "3              0.51                    23                     25   \n",
       "4              0.76                    27                     55   \n",
       "\n",
       "   Light sleep percentage  Awakenings  Caffeine consumption  \\\n",
       "0                      12         0.0                   0.0   \n",
       "1                      53         3.0                   0.0   \n",
       "2                      10         1.0                   0.0   \n",
       "3                      52         3.0                  50.0   \n",
       "4                      18         3.0                   0.0   \n",
       "\n",
       "   Alcohol consumption Smoking status  Exercise frequency  \n",
       "0                  0.0            Yes                 3.0  \n",
       "1                  3.0            Yes                 3.0  \n",
       "2                  0.0             No                 3.0  \n",
       "3                  5.0            Yes                 1.0  \n",
       "4                  3.0             No                 3.0  "
      ]
     },
     "execution_count": 43,
     "metadata": {},
     "output_type": "execute_result"
    }
   ],
   "source": [
    "sleep_df.head()"
   ]
  },
  {
   "cell_type": "markdown",
   "id": "71446b07",
   "metadata": {},
   "source": [
    "By using the `head` function, the researchers are able to get a glimpse of some records included in the dataset. Each row represents a specific person and their statistics while each column describe that statistic."
   ]
  },
  {
   "cell_type": "markdown",
   "id": "0d26b514",
   "metadata": {},
   "source": [
    "To understand the characteristics of the dataset (insights into the distribution and central tendency) and identify potential outliers, the researchers call the `describe` function which displays the summary statistics of the data."
   ]
  },
  {
   "cell_type": "code",
   "execution_count": 44,
   "id": "20dabdf1",
   "metadata": {},
   "outputs": [
    {
     "data": {
      "text/html": [
       "<div>\n",
       "<style scoped>\n",
       "    .dataframe tbody tr th:only-of-type {\n",
       "        vertical-align: middle;\n",
       "    }\n",
       "\n",
       "    .dataframe tbody tr th {\n",
       "        vertical-align: top;\n",
       "    }\n",
       "\n",
       "    .dataframe thead th {\n",
       "        text-align: right;\n",
       "    }\n",
       "</style>\n",
       "<table border=\"1\" class=\"dataframe\">\n",
       "  <thead>\n",
       "    <tr style=\"text-align: right;\">\n",
       "      <th></th>\n",
       "      <th>ID</th>\n",
       "      <th>Age</th>\n",
       "      <th>Sleep duration</th>\n",
       "      <th>Sleep efficiency</th>\n",
       "      <th>REM sleep percentage</th>\n",
       "      <th>Deep sleep percentage</th>\n",
       "      <th>Light sleep percentage</th>\n",
       "      <th>Awakenings</th>\n",
       "      <th>Caffeine consumption</th>\n",
       "      <th>Alcohol consumption</th>\n",
       "      <th>Exercise frequency</th>\n",
       "    </tr>\n",
       "  </thead>\n",
       "  <tbody>\n",
       "    <tr>\n",
       "      <th>count</th>\n",
       "      <td>452.000000</td>\n",
       "      <td>452.000000</td>\n",
       "      <td>452.000000</td>\n",
       "      <td>452.000000</td>\n",
       "      <td>452.000000</td>\n",
       "      <td>452.000000</td>\n",
       "      <td>452.000000</td>\n",
       "      <td>432.000000</td>\n",
       "      <td>427.000000</td>\n",
       "      <td>438.000000</td>\n",
       "      <td>446.000000</td>\n",
       "    </tr>\n",
       "    <tr>\n",
       "      <th>mean</th>\n",
       "      <td>226.500000</td>\n",
       "      <td>40.285398</td>\n",
       "      <td>7.465708</td>\n",
       "      <td>0.788916</td>\n",
       "      <td>22.615044</td>\n",
       "      <td>52.823009</td>\n",
       "      <td>24.561947</td>\n",
       "      <td>1.641204</td>\n",
       "      <td>23.653396</td>\n",
       "      <td>1.173516</td>\n",
       "      <td>1.791480</td>\n",
       "    </tr>\n",
       "    <tr>\n",
       "      <th>std</th>\n",
       "      <td>130.625419</td>\n",
       "      <td>13.172250</td>\n",
       "      <td>0.866625</td>\n",
       "      <td>0.135237</td>\n",
       "      <td>3.525963</td>\n",
       "      <td>15.654235</td>\n",
       "      <td>15.313665</td>\n",
       "      <td>1.356762</td>\n",
       "      <td>30.202785</td>\n",
       "      <td>1.621377</td>\n",
       "      <td>1.428134</td>\n",
       "    </tr>\n",
       "    <tr>\n",
       "      <th>min</th>\n",
       "      <td>1.000000</td>\n",
       "      <td>9.000000</td>\n",
       "      <td>5.000000</td>\n",
       "      <td>0.500000</td>\n",
       "      <td>15.000000</td>\n",
       "      <td>18.000000</td>\n",
       "      <td>7.000000</td>\n",
       "      <td>0.000000</td>\n",
       "      <td>0.000000</td>\n",
       "      <td>0.000000</td>\n",
       "      <td>0.000000</td>\n",
       "    </tr>\n",
       "    <tr>\n",
       "      <th>25%</th>\n",
       "      <td>113.750000</td>\n",
       "      <td>29.000000</td>\n",
       "      <td>7.000000</td>\n",
       "      <td>0.697500</td>\n",
       "      <td>20.000000</td>\n",
       "      <td>48.250000</td>\n",
       "      <td>15.000000</td>\n",
       "      <td>1.000000</td>\n",
       "      <td>0.000000</td>\n",
       "      <td>0.000000</td>\n",
       "      <td>0.000000</td>\n",
       "    </tr>\n",
       "    <tr>\n",
       "      <th>50%</th>\n",
       "      <td>226.500000</td>\n",
       "      <td>40.000000</td>\n",
       "      <td>7.500000</td>\n",
       "      <td>0.820000</td>\n",
       "      <td>22.000000</td>\n",
       "      <td>58.000000</td>\n",
       "      <td>18.000000</td>\n",
       "      <td>1.000000</td>\n",
       "      <td>25.000000</td>\n",
       "      <td>0.000000</td>\n",
       "      <td>2.000000</td>\n",
       "    </tr>\n",
       "    <tr>\n",
       "      <th>75%</th>\n",
       "      <td>339.250000</td>\n",
       "      <td>52.000000</td>\n",
       "      <td>8.000000</td>\n",
       "      <td>0.900000</td>\n",
       "      <td>25.000000</td>\n",
       "      <td>63.000000</td>\n",
       "      <td>32.500000</td>\n",
       "      <td>3.000000</td>\n",
       "      <td>50.000000</td>\n",
       "      <td>2.000000</td>\n",
       "      <td>3.000000</td>\n",
       "    </tr>\n",
       "    <tr>\n",
       "      <th>max</th>\n",
       "      <td>452.000000</td>\n",
       "      <td>69.000000</td>\n",
       "      <td>10.000000</td>\n",
       "      <td>0.990000</td>\n",
       "      <td>30.000000</td>\n",
       "      <td>75.000000</td>\n",
       "      <td>63.000000</td>\n",
       "      <td>4.000000</td>\n",
       "      <td>200.000000</td>\n",
       "      <td>5.000000</td>\n",
       "      <td>5.000000</td>\n",
       "    </tr>\n",
       "  </tbody>\n",
       "</table>\n",
       "</div>"
      ],
      "text/plain": [
       "               ID         Age  Sleep duration  Sleep efficiency  \\\n",
       "count  452.000000  452.000000      452.000000        452.000000   \n",
       "mean   226.500000   40.285398        7.465708          0.788916   \n",
       "std    130.625419   13.172250        0.866625          0.135237   \n",
       "min      1.000000    9.000000        5.000000          0.500000   \n",
       "25%    113.750000   29.000000        7.000000          0.697500   \n",
       "50%    226.500000   40.000000        7.500000          0.820000   \n",
       "75%    339.250000   52.000000        8.000000          0.900000   \n",
       "max    452.000000   69.000000       10.000000          0.990000   \n",
       "\n",
       "       REM sleep percentage  Deep sleep percentage  Light sleep percentage  \\\n",
       "count            452.000000             452.000000              452.000000   \n",
       "mean              22.615044              52.823009               24.561947   \n",
       "std                3.525963              15.654235               15.313665   \n",
       "min               15.000000              18.000000                7.000000   \n",
       "25%               20.000000              48.250000               15.000000   \n",
       "50%               22.000000              58.000000               18.000000   \n",
       "75%               25.000000              63.000000               32.500000   \n",
       "max               30.000000              75.000000               63.000000   \n",
       "\n",
       "       Awakenings  Caffeine consumption  Alcohol consumption  \\\n",
       "count  432.000000            427.000000           438.000000   \n",
       "mean     1.641204             23.653396             1.173516   \n",
       "std      1.356762             30.202785             1.621377   \n",
       "min      0.000000              0.000000             0.000000   \n",
       "25%      1.000000              0.000000             0.000000   \n",
       "50%      1.000000             25.000000             0.000000   \n",
       "75%      3.000000             50.000000             2.000000   \n",
       "max      4.000000            200.000000             5.000000   \n",
       "\n",
       "       Exercise frequency  \n",
       "count          446.000000  \n",
       "mean             1.791480  \n",
       "std              1.428134  \n",
       "min              0.000000  \n",
       "25%              0.000000  \n",
       "50%              2.000000  \n",
       "75%              3.000000  \n",
       "max              5.000000  "
      ]
     },
     "execution_count": 44,
     "metadata": {},
     "output_type": "execute_result"
    }
   ],
   "source": [
    "sleep_df.describe()"
   ]
  },
  {
   "cell_type": "markdown",
   "id": "c323ccfe",
   "metadata": {},
   "source": [
    "The `info` function is then be used to obtain the number of observations in the dataset as well as to know the data type of each column."
   ]
  },
  {
   "cell_type": "code",
   "execution_count": 45,
   "id": "210e7912",
   "metadata": {},
   "outputs": [
    {
     "name": "stdout",
     "output_type": "stream",
     "text": [
      "<class 'pandas.core.frame.DataFrame'>\n",
      "RangeIndex: 452 entries, 0 to 451\n",
      "Data columns (total 15 columns):\n",
      " #   Column                  Non-Null Count  Dtype  \n",
      "---  ------                  --------------  -----  \n",
      " 0   ID                      452 non-null    int64  \n",
      " 1   Age                     452 non-null    int64  \n",
      " 2   Gender                  452 non-null    object \n",
      " 3   Bedtime                 452 non-null    object \n",
      " 4   Wakeup time             452 non-null    object \n",
      " 5   Sleep duration          452 non-null    float64\n",
      " 6   Sleep efficiency        452 non-null    float64\n",
      " 7   REM sleep percentage    452 non-null    int64  \n",
      " 8   Deep sleep percentage   452 non-null    int64  \n",
      " 9   Light sleep percentage  452 non-null    int64  \n",
      " 10  Awakenings              432 non-null    float64\n",
      " 11  Caffeine consumption    427 non-null    float64\n",
      " 12  Alcohol consumption     438 non-null    float64\n",
      " 13  Smoking status          452 non-null    object \n",
      " 14  Exercise frequency      446 non-null    float64\n",
      "dtypes: float64(6), int64(5), object(4)\n",
      "memory usage: 53.1+ KB\n"
     ]
    }
   ],
   "source": [
    "sleep_df.info()"
   ]
  },
  {
   "cell_type": "markdown",
   "id": "a4baf5f7",
   "metadata": {},
   "source": [
    "From the results of the `info` function above, the researchers conclude that there are 452 entries in the dataset. Additionally, there are also 15 columns or variables that can be found in the dataset. A brief description of each variable can be seen below."
   ]
  },
  {
   "cell_type": "markdown",
   "id": "8015c6bf",
   "metadata": {},
   "source": [
    "### Variables Description\n",
    "\n",
    "<br>\n",
    "\n",
    "**ID:** a unique identifier for each test subject\n",
    "\n",
    "**Age:** age of the test subject\n",
    "\n",
    "**Gender:** male or female\n",
    "\n",
    "**Bedtime:** the time the test subject goes to bed each night\n",
    "\n",
    "**Wakeup time:** the time the test subject wakes up each morning \n",
    "\n",
    "**Sleep duration:** the total amount of time the test subject slept (in hours) \n",
    "\n",
    "**Sleep efficiency:** a measure of the proportion of time in bed spent asleep \n",
    "\n",
    "**REM sleep percentage:** the percentage of total sleep time spent in REM sleep \n",
    "\n",
    "**Deep sleep percentage:** the percentage of total sleep time spent in deep sleep \n",
    "\n",
    "**Light sleep percentage:** the percentage of total sleep time spent in light sleep \n",
    "\n",
    "**Awakenings:** the number of times the test subject wakes up during the night \n",
    "\n",
    "**Caffeine consumption:** the amount of caffeine consumed in the 24 hours prior to bedtime (in mg) \n",
    "\n",
    "**Alcohol consumption:** the amount of alcohol consumed in the 24 hours prior to bedtime (in oz) \n",
    "\n",
    "**Smoking status:** whether or not the test subject smokes \n",
    "\n",
    "**Exercise frequency:** the number of times the test subject exercises each week"
   ]
  },
  {
   "cell_type": "markdown",
   "id": "a0f28e56",
   "metadata": {},
   "source": [
    "## II. Data Cleaning"
   ]
  },
  {
   "cell_type": "markdown",
   "id": "4f37ec5e",
   "metadata": {},
   "source": [
    "### Renaming Column Names\n",
    "\n",
    "For a more efficient access to the different variables of the dataset, the researchers decided to rename some columns."
   ]
  },
  {
   "cell_type": "code",
   "execution_count": 46,
   "id": "1df3fd60",
   "metadata": {},
   "outputs": [
    {
     "name": "stdout",
     "output_type": "stream",
     "text": [
      "<class 'pandas.core.frame.DataFrame'>\n",
      "RangeIndex: 452 entries, 0 to 451\n",
      "Data columns (total 15 columns):\n",
      " #   Column            Non-Null Count  Dtype  \n",
      "---  ------            --------------  -----  \n",
      " 0   ID                452 non-null    int64  \n",
      " 1   Age               452 non-null    int64  \n",
      " 2   Gender            452 non-null    object \n",
      " 3   Bedtime           452 non-null    object \n",
      " 4   Wakeup_Time       452 non-null    object \n",
      " 5   Sleep_Duration    452 non-null    float64\n",
      " 6   Sleep efficiency  452 non-null    float64\n",
      " 7   RSP               452 non-null    int64  \n",
      " 8   DSP               452 non-null    int64  \n",
      " 9   LSP               452 non-null    int64  \n",
      " 10  Awakenings        432 non-null    float64\n",
      " 11  Caffeine          427 non-null    float64\n",
      " 12  Alcohol           438 non-null    float64\n",
      " 13  Smokes            452 non-null    object \n",
      " 14  Exercises         446 non-null    float64\n",
      "dtypes: float64(6), int64(5), object(4)\n",
      "memory usage: 53.1+ KB\n"
     ]
    }
   ],
   "source": [
    "sleep_df.rename(columns={ \"REM sleep percentage\" : \"RSP\",\n",
    "                          \"Deep sleep percentage\" : \"DSP\",\n",
    "                          \"Light sleep percentage\" : \"LSP\",\n",
    "                          \"Caffeine consumption\" : \"Caffeine\",\n",
    "                          \"Alcohol consumption\" : \"Alcohol\",\n",
    "                          \"Smoking status\" : \"Smokes\",\n",
    "                         \"Sleep duration\": \"Sleep_Duration\",\n",
    "                          \"Exercise frequency\" : \"Exercises\",\n",
    "                          \"Wakeup time\" : \"Wakeup_Time\"}, inplace=True)\n",
    "sleep_df.info()"
   ]
  },
  {
   "cell_type": "markdown",
   "id": "c74d89d0",
   "metadata": {},
   "source": [
    "### Addressing Null Values\n",
    "\n",
    "The first thing the researchers noticed when they performed the `info` function above is that some columns from the dataset do not match the expected number of 452 observations. To address the null values of each variable, the researchers perform the following:"
   ]
  },
  {
   "cell_type": "markdown",
   "id": "c36edd01",
   "metadata": {},
   "source": [
    "To get the number of null values per column, a `null_counts` variable is initialized that is assigned the sum of null values of each column"
   ]
  },
  {
   "cell_type": "code",
   "execution_count": 47,
   "id": "cb0b878a",
   "metadata": {},
   "outputs": [
    {
     "name": "stdout",
     "output_type": "stream",
     "text": [
      "ID                   0\n",
      "Age                  0\n",
      "Gender               0\n",
      "Bedtime              0\n",
      "Wakeup_Time          0\n",
      "Sleep_Duration       0\n",
      "Sleep efficiency     0\n",
      "RSP                  0\n",
      "DSP                  0\n",
      "LSP                  0\n",
      "Awakenings          20\n",
      "Caffeine            25\n",
      "Alcohol             14\n",
      "Smokes               0\n",
      "Exercises            6\n",
      "dtype: int64\n"
     ]
    }
   ],
   "source": [
    "null_counts = sleep_df.isna().sum()\n",
    "print(null_counts)"
   ]
  },
  {
   "cell_type": "markdown",
   "id": "c7d9302f",
   "metadata": {},
   "source": [
    "After careful consideration of each column and what it represents, the researchers decided to replace the null values with a value of `0.0` instead of dropping the rows that contains missing data. This is because each of these variables either describes \"the number of times\" or \"the amount of times\" the test subject performs something. Thus, a value of `0.0` can represent that these test subjects did not perform these actions."
   ]
  },
  {
   "cell_type": "markdown",
   "id": "e08ef106",
   "metadata": {},
   "source": [
    "To replace the missing values with `0.0`, the following code is executed:"
   ]
  },
  {
   "cell_type": "code",
   "execution_count": 48,
   "id": "35f1e645",
   "metadata": {},
   "outputs": [
    {
     "name": "stdout",
     "output_type": "stream",
     "text": [
      "ID                  0\n",
      "Age                 0\n",
      "Gender              0\n",
      "Bedtime             0\n",
      "Wakeup_Time         0\n",
      "Sleep_Duration      0\n",
      "Sleep efficiency    0\n",
      "RSP                 0\n",
      "DSP                 0\n",
      "LSP                 0\n",
      "Awakenings          0\n",
      "Caffeine            0\n",
      "Alcohol             0\n",
      "Smokes              0\n",
      "Exercises           0\n",
      "dtype: int64\n"
     ]
    }
   ],
   "source": [
    "sleep_df = sleep_df.fillna(0.0)\n",
    "\n",
    "null_counts = sleep_df.isna().sum()\n",
    "print(null_counts)"
   ]
  },
  {
   "cell_type": "markdown",
   "id": "ceda781e",
   "metadata": {},
   "source": [
    "### Multiple Representation\n",
    "\n",
    "The researchers also decided to check if there are multiple representations of data for object-type data such as `Gender` and `Smoking status`. To do this, the values of these variables and its count are obtained by performing the code below:"
   ]
  },
  {
   "cell_type": "code",
   "execution_count": 49,
   "id": "314f41b8",
   "metadata": {},
   "outputs": [
    {
     "name": "stdout",
     "output_type": "stream",
     "text": [
      "Gender\n",
      "Male      228\n",
      "Female    224\n",
      "Name: count, dtype: int64\n",
      "\n",
      "\n",
      "Smokes\n",
      "No     298\n",
      "Yes    154\n",
      "Name: count, dtype: int64\n"
     ]
    }
   ],
   "source": [
    "gender_counts = sleep_df['Gender'].value_counts()\n",
    "print(gender_counts)\n",
    "\n",
    "print(\"\\n\")\n",
    "ss_counts = sleep_df['Smokes'].value_counts()\n",
    "print(ss_counts)"
   ]
  },
  {
   "cell_type": "markdown",
   "id": "d1e3260b",
   "metadata": {},
   "source": [
    "The researchers concluded that there are no multiple representations of data."
   ]
  },
  {
   "cell_type": "markdown",
   "id": "8f7b6fc2",
   "metadata": {},
   "source": [
    "### Duplicate Data\n",
    "\n",
    "The researchers confirm after careful deliberation that duplicate values for each column, except for the individual ID of a test subject, is allowed. Thus the following code is performed to check if by mistake there are duplicate values of ID."
   ]
  },
  {
   "cell_type": "code",
   "execution_count": 50,
   "id": "2a65d212",
   "metadata": {},
   "outputs": [
    {
     "name": "stdout",
     "output_type": "stream",
     "text": [
      "ID\n",
      "False    452\n",
      "Name: count, dtype: int64\n"
     ]
    }
   ],
   "source": [
    "id_duplicates = sleep_df['ID'].duplicated()\n",
    "\n",
    "id_duplicates_count = id_duplicates.value_counts()\n",
    "print(id_duplicates_count)"
   ]
  },
  {
   "cell_type": "markdown",
   "id": "59f2220b",
   "metadata": {},
   "source": [
    "The researchers confirm that there are no duplicate values in the variable `ID`."
   ]
  },
  {
   "cell_type": "markdown",
   "id": "176599e1",
   "metadata": {},
   "source": [
    "### Incorrect Datatype\n",
    "\n",
    "While inspecting the datatypes of each variable, the researchers noticed that the variables `REM Sleep Percentage`, `Deep Sleep Percentage`, and `Light Sleep percentage` are in `int64` type. Although this would not cause any errors as long as addressed properly, the researchers decided to convert them in their decimal format and transform the data type to `float64`."
   ]
  },
  {
   "cell_type": "code",
   "execution_count": 51,
   "id": "5ff5d103",
   "metadata": {},
   "outputs": [
    {
     "name": "stdout",
     "output_type": "stream",
     "text": [
      "<class 'pandas.core.frame.DataFrame'>\n",
      "RangeIndex: 452 entries, 0 to 451\n",
      "Data columns (total 15 columns):\n",
      " #   Column            Non-Null Count  Dtype  \n",
      "---  ------            --------------  -----  \n",
      " 0   ID                452 non-null    int64  \n",
      " 1   Age               452 non-null    int64  \n",
      " 2   Gender            452 non-null    object \n",
      " 3   Bedtime           452 non-null    object \n",
      " 4   Wakeup_Time       452 non-null    object \n",
      " 5   Sleep_Duration    452 non-null    float64\n",
      " 6   Sleep efficiency  452 non-null    float64\n",
      " 7   RSP               452 non-null    float64\n",
      " 8   DSP               452 non-null    float64\n",
      " 9   LSP               452 non-null    float64\n",
      " 10  Awakenings        452 non-null    float64\n",
      " 11  Caffeine          452 non-null    float64\n",
      " 12  Alcohol           452 non-null    float64\n",
      " 13  Smokes            452 non-null    object \n",
      " 14  Exercises         452 non-null    float64\n",
      "dtypes: float64(9), int64(2), object(4)\n",
      "memory usage: 53.1+ KB\n"
     ]
    }
   ],
   "source": [
    "sleep_df['RSP'] = sleep_df['RSP'].astype('float64')\n",
    "sleep_df['DSP'] = sleep_df['DSP'].astype('float64')\n",
    "sleep_df['LSP'] = sleep_df['LSP'].astype('float64')\n",
    "\n",
    "sleep_df.info()"
   ]
  },
  {
   "cell_type": "markdown",
   "id": "1ae1e40b",
   "metadata": {},
   "source": [
    "Afterwards, each value in all three columns would then be divided by `100.0` to get the equivalent value from its integer form."
   ]
  },
  {
   "cell_type": "code",
   "execution_count": 52,
   "id": "b1923cc8",
   "metadata": {},
   "outputs": [
    {
     "data": {
      "text/html": [
       "<div>\n",
       "<style scoped>\n",
       "    .dataframe tbody tr th:only-of-type {\n",
       "        vertical-align: middle;\n",
       "    }\n",
       "\n",
       "    .dataframe tbody tr th {\n",
       "        vertical-align: top;\n",
       "    }\n",
       "\n",
       "    .dataframe thead th {\n",
       "        text-align: right;\n",
       "    }\n",
       "</style>\n",
       "<table border=\"1\" class=\"dataframe\">\n",
       "  <thead>\n",
       "    <tr style=\"text-align: right;\">\n",
       "      <th></th>\n",
       "      <th>ID</th>\n",
       "      <th>Age</th>\n",
       "      <th>Gender</th>\n",
       "      <th>Bedtime</th>\n",
       "      <th>Wakeup_Time</th>\n",
       "      <th>Sleep_Duration</th>\n",
       "      <th>Sleep efficiency</th>\n",
       "      <th>RSP</th>\n",
       "      <th>DSP</th>\n",
       "      <th>LSP</th>\n",
       "      <th>Awakenings</th>\n",
       "      <th>Caffeine</th>\n",
       "      <th>Alcohol</th>\n",
       "      <th>Smokes</th>\n",
       "      <th>Exercises</th>\n",
       "    </tr>\n",
       "  </thead>\n",
       "  <tbody>\n",
       "    <tr>\n",
       "      <th>0</th>\n",
       "      <td>1</td>\n",
       "      <td>65</td>\n",
       "      <td>Female</td>\n",
       "      <td>2021-03-06 01:00:00</td>\n",
       "      <td>2021-03-06 07:00:00</td>\n",
       "      <td>6.0</td>\n",
       "      <td>0.88</td>\n",
       "      <td>18.0</td>\n",
       "      <td>70.0</td>\n",
       "      <td>12.0</td>\n",
       "      <td>0.0</td>\n",
       "      <td>0.0</td>\n",
       "      <td>0.0</td>\n",
       "      <td>Yes</td>\n",
       "      <td>3.0</td>\n",
       "    </tr>\n",
       "    <tr>\n",
       "      <th>1</th>\n",
       "      <td>2</td>\n",
       "      <td>69</td>\n",
       "      <td>Male</td>\n",
       "      <td>2021-12-05 02:00:00</td>\n",
       "      <td>2021-12-05 09:00:00</td>\n",
       "      <td>7.0</td>\n",
       "      <td>0.66</td>\n",
       "      <td>19.0</td>\n",
       "      <td>28.0</td>\n",
       "      <td>53.0</td>\n",
       "      <td>3.0</td>\n",
       "      <td>0.0</td>\n",
       "      <td>3.0</td>\n",
       "      <td>Yes</td>\n",
       "      <td>3.0</td>\n",
       "    </tr>\n",
       "    <tr>\n",
       "      <th>2</th>\n",
       "      <td>3</td>\n",
       "      <td>40</td>\n",
       "      <td>Female</td>\n",
       "      <td>2021-05-25 21:30:00</td>\n",
       "      <td>2021-05-25 05:30:00</td>\n",
       "      <td>8.0</td>\n",
       "      <td>0.89</td>\n",
       "      <td>20.0</td>\n",
       "      <td>70.0</td>\n",
       "      <td>10.0</td>\n",
       "      <td>1.0</td>\n",
       "      <td>0.0</td>\n",
       "      <td>0.0</td>\n",
       "      <td>No</td>\n",
       "      <td>3.0</td>\n",
       "    </tr>\n",
       "    <tr>\n",
       "      <th>3</th>\n",
       "      <td>4</td>\n",
       "      <td>40</td>\n",
       "      <td>Female</td>\n",
       "      <td>2021-11-03 02:30:00</td>\n",
       "      <td>2021-11-03 08:30:00</td>\n",
       "      <td>6.0</td>\n",
       "      <td>0.51</td>\n",
       "      <td>23.0</td>\n",
       "      <td>25.0</td>\n",
       "      <td>52.0</td>\n",
       "      <td>3.0</td>\n",
       "      <td>50.0</td>\n",
       "      <td>5.0</td>\n",
       "      <td>Yes</td>\n",
       "      <td>1.0</td>\n",
       "    </tr>\n",
       "    <tr>\n",
       "      <th>4</th>\n",
       "      <td>5</td>\n",
       "      <td>57</td>\n",
       "      <td>Male</td>\n",
       "      <td>2021-03-13 01:00:00</td>\n",
       "      <td>2021-03-13 09:00:00</td>\n",
       "      <td>8.0</td>\n",
       "      <td>0.76</td>\n",
       "      <td>27.0</td>\n",
       "      <td>55.0</td>\n",
       "      <td>18.0</td>\n",
       "      <td>3.0</td>\n",
       "      <td>0.0</td>\n",
       "      <td>3.0</td>\n",
       "      <td>No</td>\n",
       "      <td>3.0</td>\n",
       "    </tr>\n",
       "    <tr>\n",
       "      <th>...</th>\n",
       "      <td>...</td>\n",
       "      <td>...</td>\n",
       "      <td>...</td>\n",
       "      <td>...</td>\n",
       "      <td>...</td>\n",
       "      <td>...</td>\n",
       "      <td>...</td>\n",
       "      <td>...</td>\n",
       "      <td>...</td>\n",
       "      <td>...</td>\n",
       "      <td>...</td>\n",
       "      <td>...</td>\n",
       "      <td>...</td>\n",
       "      <td>...</td>\n",
       "      <td>...</td>\n",
       "    </tr>\n",
       "    <tr>\n",
       "      <th>447</th>\n",
       "      <td>448</td>\n",
       "      <td>27</td>\n",
       "      <td>Female</td>\n",
       "      <td>2021-11-13 22:00:00</td>\n",
       "      <td>2021-11-13 05:30:00</td>\n",
       "      <td>7.5</td>\n",
       "      <td>0.91</td>\n",
       "      <td>22.0</td>\n",
       "      <td>57.0</td>\n",
       "      <td>21.0</td>\n",
       "      <td>0.0</td>\n",
       "      <td>0.0</td>\n",
       "      <td>0.0</td>\n",
       "      <td>No</td>\n",
       "      <td>5.0</td>\n",
       "    </tr>\n",
       "    <tr>\n",
       "      <th>448</th>\n",
       "      <td>449</td>\n",
       "      <td>52</td>\n",
       "      <td>Male</td>\n",
       "      <td>2021-03-31 21:00:00</td>\n",
       "      <td>2021-03-31 03:00:00</td>\n",
       "      <td>6.0</td>\n",
       "      <td>0.74</td>\n",
       "      <td>28.0</td>\n",
       "      <td>57.0</td>\n",
       "      <td>15.0</td>\n",
       "      <td>4.0</td>\n",
       "      <td>25.0</td>\n",
       "      <td>0.0</td>\n",
       "      <td>No</td>\n",
       "      <td>3.0</td>\n",
       "    </tr>\n",
       "    <tr>\n",
       "      <th>449</th>\n",
       "      <td>450</td>\n",
       "      <td>40</td>\n",
       "      <td>Female</td>\n",
       "      <td>2021-09-07 23:00:00</td>\n",
       "      <td>2021-09-07 07:30:00</td>\n",
       "      <td>8.5</td>\n",
       "      <td>0.55</td>\n",
       "      <td>20.0</td>\n",
       "      <td>32.0</td>\n",
       "      <td>48.0</td>\n",
       "      <td>1.0</td>\n",
       "      <td>0.0</td>\n",
       "      <td>3.0</td>\n",
       "      <td>Yes</td>\n",
       "      <td>0.0</td>\n",
       "    </tr>\n",
       "    <tr>\n",
       "      <th>450</th>\n",
       "      <td>451</td>\n",
       "      <td>45</td>\n",
       "      <td>Male</td>\n",
       "      <td>2021-07-29 21:00:00</td>\n",
       "      <td>2021-07-29 04:00:00</td>\n",
       "      <td>7.0</td>\n",
       "      <td>0.76</td>\n",
       "      <td>18.0</td>\n",
       "      <td>72.0</td>\n",
       "      <td>10.0</td>\n",
       "      <td>3.0</td>\n",
       "      <td>0.0</td>\n",
       "      <td>0.0</td>\n",
       "      <td>No</td>\n",
       "      <td>3.0</td>\n",
       "    </tr>\n",
       "    <tr>\n",
       "      <th>451</th>\n",
       "      <td>452</td>\n",
       "      <td>18</td>\n",
       "      <td>Male</td>\n",
       "      <td>2021-03-17 02:30:00</td>\n",
       "      <td>2021-03-17 10:00:00</td>\n",
       "      <td>7.5</td>\n",
       "      <td>0.63</td>\n",
       "      <td>22.0</td>\n",
       "      <td>23.0</td>\n",
       "      <td>55.0</td>\n",
       "      <td>1.0</td>\n",
       "      <td>50.0</td>\n",
       "      <td>0.0</td>\n",
       "      <td>No</td>\n",
       "      <td>1.0</td>\n",
       "    </tr>\n",
       "  </tbody>\n",
       "</table>\n",
       "<p>452 rows × 15 columns</p>\n",
       "</div>"
      ],
      "text/plain": [
       "      ID  Age  Gender              Bedtime          Wakeup_Time  \\\n",
       "0      1   65  Female  2021-03-06 01:00:00  2021-03-06 07:00:00   \n",
       "1      2   69    Male  2021-12-05 02:00:00  2021-12-05 09:00:00   \n",
       "2      3   40  Female  2021-05-25 21:30:00  2021-05-25 05:30:00   \n",
       "3      4   40  Female  2021-11-03 02:30:00  2021-11-03 08:30:00   \n",
       "4      5   57    Male  2021-03-13 01:00:00  2021-03-13 09:00:00   \n",
       "..   ...  ...     ...                  ...                  ...   \n",
       "447  448   27  Female  2021-11-13 22:00:00  2021-11-13 05:30:00   \n",
       "448  449   52    Male  2021-03-31 21:00:00  2021-03-31 03:00:00   \n",
       "449  450   40  Female  2021-09-07 23:00:00  2021-09-07 07:30:00   \n",
       "450  451   45    Male  2021-07-29 21:00:00  2021-07-29 04:00:00   \n",
       "451  452   18    Male  2021-03-17 02:30:00  2021-03-17 10:00:00   \n",
       "\n",
       "     Sleep_Duration  Sleep efficiency   RSP   DSP   LSP  Awakenings  Caffeine  \\\n",
       "0               6.0              0.88  18.0  70.0  12.0         0.0       0.0   \n",
       "1               7.0              0.66  19.0  28.0  53.0         3.0       0.0   \n",
       "2               8.0              0.89  20.0  70.0  10.0         1.0       0.0   \n",
       "3               6.0              0.51  23.0  25.0  52.0         3.0      50.0   \n",
       "4               8.0              0.76  27.0  55.0  18.0         3.0       0.0   \n",
       "..              ...               ...   ...   ...   ...         ...       ...   \n",
       "447             7.5              0.91  22.0  57.0  21.0         0.0       0.0   \n",
       "448             6.0              0.74  28.0  57.0  15.0         4.0      25.0   \n",
       "449             8.5              0.55  20.0  32.0  48.0         1.0       0.0   \n",
       "450             7.0              0.76  18.0  72.0  10.0         3.0       0.0   \n",
       "451             7.5              0.63  22.0  23.0  55.0         1.0      50.0   \n",
       "\n",
       "     Alcohol Smokes  Exercises  \n",
       "0        0.0    Yes        3.0  \n",
       "1        3.0    Yes        3.0  \n",
       "2        0.0     No        3.0  \n",
       "3        5.0    Yes        1.0  \n",
       "4        3.0     No        3.0  \n",
       "..       ...    ...        ...  \n",
       "447      0.0     No        5.0  \n",
       "448      0.0     No        3.0  \n",
       "449      3.0    Yes        0.0  \n",
       "450      0.0     No        3.0  \n",
       "451      0.0     No        1.0  \n",
       "\n",
       "[452 rows x 15 columns]"
      ]
     },
     "execution_count": 52,
     "metadata": {},
     "output_type": "execute_result"
    }
   ],
   "source": [
    "sleep_df"
   ]
  },
  {
   "cell_type": "code",
   "execution_count": 53,
   "id": "6f6a3ff2",
   "metadata": {},
   "outputs": [
    {
     "data": {
      "text/html": [
       "<div>\n",
       "<style scoped>\n",
       "    .dataframe tbody tr th:only-of-type {\n",
       "        vertical-align: middle;\n",
       "    }\n",
       "\n",
       "    .dataframe tbody tr th {\n",
       "        vertical-align: top;\n",
       "    }\n",
       "\n",
       "    .dataframe thead th {\n",
       "        text-align: right;\n",
       "    }\n",
       "</style>\n",
       "<table border=\"1\" class=\"dataframe\">\n",
       "  <thead>\n",
       "    <tr style=\"text-align: right;\">\n",
       "      <th></th>\n",
       "      <th>RSP</th>\n",
       "      <th>DSP</th>\n",
       "      <th>LSP</th>\n",
       "    </tr>\n",
       "  </thead>\n",
       "  <tbody>\n",
       "    <tr>\n",
       "      <th>0</th>\n",
       "      <td>0.18</td>\n",
       "      <td>0.70</td>\n",
       "      <td>0.12</td>\n",
       "    </tr>\n",
       "    <tr>\n",
       "      <th>1</th>\n",
       "      <td>0.19</td>\n",
       "      <td>0.28</td>\n",
       "      <td>0.53</td>\n",
       "    </tr>\n",
       "    <tr>\n",
       "      <th>2</th>\n",
       "      <td>0.20</td>\n",
       "      <td>0.70</td>\n",
       "      <td>0.10</td>\n",
       "    </tr>\n",
       "    <tr>\n",
       "      <th>3</th>\n",
       "      <td>0.23</td>\n",
       "      <td>0.25</td>\n",
       "      <td>0.52</td>\n",
       "    </tr>\n",
       "    <tr>\n",
       "      <th>4</th>\n",
       "      <td>0.27</td>\n",
       "      <td>0.55</td>\n",
       "      <td>0.18</td>\n",
       "    </tr>\n",
       "  </tbody>\n",
       "</table>\n",
       "</div>"
      ],
      "text/plain": [
       "    RSP   DSP   LSP\n",
       "0  0.18  0.70  0.12\n",
       "1  0.19  0.28  0.53\n",
       "2  0.20  0.70  0.10\n",
       "3  0.23  0.25  0.52\n",
       "4  0.27  0.55  0.18"
      ]
     },
     "execution_count": 53,
     "metadata": {},
     "output_type": "execute_result"
    }
   ],
   "source": [
    "sleep_df['RSP'] = (sleep_df['RSP'] / 100.0).round(2)\n",
    "sleep_df['DSP'] = (sleep_df['DSP'] / 100.0).round(2)\n",
    "sleep_df['LSP'] = (sleep_df['LSP'] / 100.0).round(2)\n",
    "\n",
    "sleep_df[['RSP', 'DSP', 'LSP']].head()"
   ]
  },
  {
   "cell_type": "markdown",
   "id": "de03be5c",
   "metadata": {},
   "source": [
    "The researchers also noticed that the data type of `Smokes` is Object. To simplify the manipulation of data, the researchers converted the column to int64 data type with 1 serving as True and 0 serving as False."
   ]
  },
  {
   "cell_type": "code",
   "execution_count": 54,
   "id": "03813587",
   "metadata": {},
   "outputs": [
    {
     "name": "stdout",
     "output_type": "stream",
     "text": [
      "<class 'pandas.core.frame.DataFrame'>\n",
      "RangeIndex: 452 entries, 0 to 451\n",
      "Data columns (total 15 columns):\n",
      " #   Column            Non-Null Count  Dtype  \n",
      "---  ------            --------------  -----  \n",
      " 0   ID                452 non-null    int64  \n",
      " 1   Age               452 non-null    int64  \n",
      " 2   Gender            452 non-null    object \n",
      " 3   Bedtime           452 non-null    object \n",
      " 4   Wakeup_Time       452 non-null    object \n",
      " 5   Sleep_Duration    452 non-null    float64\n",
      " 6   Sleep efficiency  452 non-null    float64\n",
      " 7   RSP               452 non-null    float64\n",
      " 8   DSP               452 non-null    float64\n",
      " 9   LSP               452 non-null    float64\n",
      " 10  Awakenings        452 non-null    float64\n",
      " 11  Caffeine          452 non-null    float64\n",
      " 12  Alcohol           452 non-null    float64\n",
      " 13  Smokes            452 non-null    int64  \n",
      " 14  Exercises         452 non-null    float64\n",
      "dtypes: float64(9), int64(3), object(3)\n",
      "memory usage: 53.1+ KB\n"
     ]
    },
    {
     "data": {
      "text/plain": [
       "0    1\n",
       "1    1\n",
       "2    0\n",
       "3    1\n",
       "4    0\n",
       "Name: Smokes, dtype: int64"
      ]
     },
     "execution_count": 54,
     "metadata": {},
     "output_type": "execute_result"
    }
   ],
   "source": [
    "sleep_df['Smokes'] = sleep_df['Smokes'].map({'Yes': 1, 'No': 0})\n",
    "sleep_df['Smokes'] = sleep_df['Smokes'].astype('int64')\n",
    "sleep_df.info()\n",
    "sleep_df['Smokes'].head()"
   ]
  },
  {
   "cell_type": "markdown",
   "id": "1bce613c",
   "metadata": {},
   "source": [
    "### Dropping columns that will not be used\n",
    "\n",
    "To finish the cleaning of the dataset, the researchers decided to drop columns that will not be used for the machine learning algorithm. These columns are `Gender`, `Sleep efficiency`, `Bedtime`, and `Wakeup time`. \n",
    "\n",
    "`Gender` was dropped because the machine learning approach that the researchers would use will deal with quantiative data and not categorical data.\n",
    "\n",
    "`Sleep efficiency` was dropped because it would be difficult to obtain the proportion of time a person spends asleep in their bed.\n",
    "\n",
    "`Bedtime`, and `Wakeup time` were dropped for similar reasons as `Gender` despite the possibility of both variables being significant factors when it comes to determining the sleep quality of a person (i.e. what is a good time to sleep and what is a good time to wake up could scientifically be proven).\n",
    "\n",
    "Lastly, `ID` was dropped because it is only used for labelling which user does each instance belong to.\n"
   ]
  },
  {
   "cell_type": "code",
   "execution_count": 55,
   "id": "ae30b04d",
   "metadata": {},
   "outputs": [
    {
     "name": "stdout",
     "output_type": "stream",
     "text": [
      "<class 'pandas.core.frame.DataFrame'>\n",
      "RangeIndex: 452 entries, 0 to 451\n",
      "Data columns (total 10 columns):\n",
      " #   Column          Non-Null Count  Dtype  \n",
      "---  ------          --------------  -----  \n",
      " 0   Age             452 non-null    int64  \n",
      " 1   Sleep_Duration  452 non-null    float64\n",
      " 2   RSP             452 non-null    float64\n",
      " 3   DSP             452 non-null    float64\n",
      " 4   LSP             452 non-null    float64\n",
      " 5   Awakenings      452 non-null    float64\n",
      " 6   Caffeine        452 non-null    float64\n",
      " 7   Alcohol         452 non-null    float64\n",
      " 8   Smokes          452 non-null    int64  \n",
      " 9   Exercises       452 non-null    float64\n",
      "dtypes: float64(8), int64(2)\n",
      "memory usage: 35.4 KB\n"
     ]
    }
   ],
   "source": [
    "sleep_df.drop(columns=['Gender', 'Sleep efficiency', 'Bedtime', 'Wakeup_Time', 'ID'], inplace=True)\n",
    "sleep_df.info()"
   ]
  },
  {
   "cell_type": "markdown",
   "id": "c017c7c0-f99a-465b-8418-830939f55f47",
   "metadata": {},
   "source": [
    "### Adding Classification Column"
   ]
  },
  {
   "cell_type": "markdown",
   "id": "1d69192a-e3a7-4612-b9c1-1be2968a4204",
   "metadata": {},
   "source": [
    "The variables `REM Sleep Percentage`, `Deep Sleep Percentage`, and `Light Sleep percentage` are all accumulating to 100. This is shown in the following code:"
   ]
  },
  {
   "cell_type": "code",
   "execution_count": 56,
   "id": "4806e08f-4506-4041-abf3-8d3ad1a082e7",
   "metadata": {
    "tags": []
   },
   "outputs": [
    {
     "data": {
      "text/html": [
       "<div>\n",
       "<style scoped>\n",
       "    .dataframe tbody tr th:only-of-type {\n",
       "        vertical-align: middle;\n",
       "    }\n",
       "\n",
       "    .dataframe tbody tr th {\n",
       "        vertical-align: top;\n",
       "    }\n",
       "\n",
       "    .dataframe thead th {\n",
       "        text-align: right;\n",
       "    }\n",
       "</style>\n",
       "<table border=\"1\" class=\"dataframe\">\n",
       "  <thead>\n",
       "    <tr style=\"text-align: right;\">\n",
       "      <th></th>\n",
       "      <th>RSP</th>\n",
       "      <th>DSP</th>\n",
       "      <th>LSP</th>\n",
       "      <th>sum_value</th>\n",
       "      <th>is_sum_one</th>\n",
       "    </tr>\n",
       "  </thead>\n",
       "  <tbody>\n",
       "    <tr>\n",
       "      <th>0</th>\n",
       "      <td>0.18</td>\n",
       "      <td>0.70</td>\n",
       "      <td>0.12</td>\n",
       "      <td>1.0</td>\n",
       "      <td>True</td>\n",
       "    </tr>\n",
       "    <tr>\n",
       "      <th>1</th>\n",
       "      <td>0.19</td>\n",
       "      <td>0.28</td>\n",
       "      <td>0.53</td>\n",
       "      <td>1.0</td>\n",
       "      <td>True</td>\n",
       "    </tr>\n",
       "    <tr>\n",
       "      <th>2</th>\n",
       "      <td>0.20</td>\n",
       "      <td>0.70</td>\n",
       "      <td>0.10</td>\n",
       "      <td>1.0</td>\n",
       "      <td>True</td>\n",
       "    </tr>\n",
       "    <tr>\n",
       "      <th>3</th>\n",
       "      <td>0.23</td>\n",
       "      <td>0.25</td>\n",
       "      <td>0.52</td>\n",
       "      <td>1.0</td>\n",
       "      <td>True</td>\n",
       "    </tr>\n",
       "    <tr>\n",
       "      <th>4</th>\n",
       "      <td>0.27</td>\n",
       "      <td>0.55</td>\n",
       "      <td>0.18</td>\n",
       "      <td>1.0</td>\n",
       "      <td>True</td>\n",
       "    </tr>\n",
       "    <tr>\n",
       "      <th>...</th>\n",
       "      <td>...</td>\n",
       "      <td>...</td>\n",
       "      <td>...</td>\n",
       "      <td>...</td>\n",
       "      <td>...</td>\n",
       "    </tr>\n",
       "    <tr>\n",
       "      <th>447</th>\n",
       "      <td>0.22</td>\n",
       "      <td>0.57</td>\n",
       "      <td>0.21</td>\n",
       "      <td>1.0</td>\n",
       "      <td>True</td>\n",
       "    </tr>\n",
       "    <tr>\n",
       "      <th>448</th>\n",
       "      <td>0.28</td>\n",
       "      <td>0.57</td>\n",
       "      <td>0.15</td>\n",
       "      <td>1.0</td>\n",
       "      <td>True</td>\n",
       "    </tr>\n",
       "    <tr>\n",
       "      <th>449</th>\n",
       "      <td>0.20</td>\n",
       "      <td>0.32</td>\n",
       "      <td>0.48</td>\n",
       "      <td>1.0</td>\n",
       "      <td>True</td>\n",
       "    </tr>\n",
       "    <tr>\n",
       "      <th>450</th>\n",
       "      <td>0.18</td>\n",
       "      <td>0.72</td>\n",
       "      <td>0.10</td>\n",
       "      <td>1.0</td>\n",
       "      <td>True</td>\n",
       "    </tr>\n",
       "    <tr>\n",
       "      <th>451</th>\n",
       "      <td>0.22</td>\n",
       "      <td>0.23</td>\n",
       "      <td>0.55</td>\n",
       "      <td>1.0</td>\n",
       "      <td>True</td>\n",
       "    </tr>\n",
       "  </tbody>\n",
       "</table>\n",
       "<p>452 rows × 5 columns</p>\n",
       "</div>"
      ],
      "text/plain": [
       "      RSP   DSP   LSP  sum_value  is_sum_one\n",
       "0    0.18  0.70  0.12        1.0        True\n",
       "1    0.19  0.28  0.53        1.0        True\n",
       "2    0.20  0.70  0.10        1.0        True\n",
       "3    0.23  0.25  0.52        1.0        True\n",
       "4    0.27  0.55  0.18        1.0        True\n",
       "..    ...   ...   ...        ...         ...\n",
       "447  0.22  0.57  0.21        1.0        True\n",
       "448  0.28  0.57  0.15        1.0        True\n",
       "449  0.20  0.32  0.48        1.0        True\n",
       "450  0.18  0.72  0.10        1.0        True\n",
       "451  0.22  0.23  0.55        1.0        True\n",
       "\n",
       "[452 rows x 5 columns]"
      ]
     },
     "metadata": {},
     "output_type": "display_data"
    },
    {
     "name": "stdout",
     "output_type": "stream",
     "text": [
      "Number of Rows:  452\n",
      "Number of True values in 'is_sum_one' column: 452\n"
     ]
    }
   ],
   "source": [
    "df = sleep_df[['RSP', 'DSP', 'LSP']].copy()\n",
    "\n",
    "# Adding a new column with the sum of values from columns 'RSP', 'DSP', 'LSP'\n",
    "df.loc[:, 'sum_value'] = df['RSP'] + df['DSP'] + df['LSP']\n",
    "\n",
    "# Checking if each row in 'sum_value' column is equal to 1 and storing the result in a new column\n",
    "tolerance = 1e-10  # Define a tolerance level\n",
    "df['is_sum_one'] = np.isclose(df['sum_value'], 1.0, atol=tolerance)\n",
    "\n",
    "display(df)\n",
    "print(\"Number of Rows: \", df.shape[0])\n",
    "\n",
    "# Counting the number of True values in 'is_sum_one' column\n",
    "true_count = df['is_sum_one'].sum()\n",
    "\n",
    "print(\"Number of True values in 'is_sum_one' column:\", true_count)"
   ]
  },
  {
   "cell_type": "markdown",
   "id": "4ca3c2ee-fa43-4db3-8e2b-4c5bfa478643",
   "metadata": {},
   "source": [
    "The researchers viewed this as the probability of whether the instance's major type of sleep is either `REM Sleep`, `Deep Sleep`, and `Light Sleep`. Therefore, for the machine learning model to predict such classification, a new column named `Sleep_Type` is appended, where the values are the classifications `REM`, `Deep`, and `Light`."
   ]
  },
  {
   "cell_type": "code",
   "execution_count": 57,
   "id": "8290006f-4078-4dce-932e-2f8b246ea6a1",
   "metadata": {
    "tags": []
   },
   "outputs": [],
   "source": [
    "sleep_df['Sleep_Type'] = sleep_df[['RSP', 'DSP', 'LSP']].idxmax(axis=1)"
   ]
  },
  {
   "cell_type": "code",
   "execution_count": 58,
   "id": "33c369cc-8da2-4c22-bed3-d15301e7434d",
   "metadata": {
    "tags": []
   },
   "outputs": [],
   "source": [
    "# Mapping the max_value to sleep types\n",
    "sleep_type_map = {'RSP': 'REM', 'DSP': 'Deep', 'LSP': 'Light'}\n",
    "sleep_df['Sleep_Type'] = sleep_df['Sleep_Type'].map(sleep_type_map)"
   ]
  },
  {
   "cell_type": "code",
   "execution_count": 59,
   "id": "0a622993-1484-48f7-8dc6-1aa0adce409f",
   "metadata": {
    "tags": []
   },
   "outputs": [
    {
     "data": {
      "text/plain": [
       "Sleep_Type\n",
       "Deep     339\n",
       "Light    113\n",
       "Name: count, dtype: int64"
      ]
     },
     "execution_count": 59,
     "metadata": {},
     "output_type": "execute_result"
    }
   ],
   "source": [
    "sleep_df['Sleep_Type'].value_counts()"
   ]
  },
  {
   "cell_type": "markdown",
   "id": "9750bd5f-dcbb-45e8-8484-cb7f7894f150",
   "metadata": {},
   "source": [
    "### Converting Classes"
   ]
  },
  {
   "cell_type": "markdown",
   "id": "b139464b-28af-49f0-8d4e-3d95919ac8a3",
   "metadata": {},
   "source": [
    "Since the `Sleep_Type` feature will be used as the ground truth classes for machine learning, it is important to change its string values to integer. The code below maps the classifications into the following: `REM = 0`, `Deep = 1`, and `Light = 2`."
   ]
  },
  {
   "cell_type": "code",
   "execution_count": 60,
   "id": "a8e3655b-110d-42f9-b371-5edffd5d6010",
   "metadata": {
    "tags": []
   },
   "outputs": [],
   "source": [
    "classes = {\n",
    "    \"REM\": 0,\n",
    "    \"Deep\": 1,\n",
    "    \"Light\": 2\n",
    "}\n",
    "\n",
    "sleep_df['Sleep_Type'] =  sleep_df['Sleep_Type'].map(classes)"
   ]
  },
  {
   "cell_type": "code",
   "execution_count": 61,
   "id": "e79a239a-7a17-4446-8815-d6de16cd45f3",
   "metadata": {
    "tags": []
   },
   "outputs": [
    {
     "data": {
      "text/html": [
       "<div>\n",
       "<style scoped>\n",
       "    .dataframe tbody tr th:only-of-type {\n",
       "        vertical-align: middle;\n",
       "    }\n",
       "\n",
       "    .dataframe tbody tr th {\n",
       "        vertical-align: top;\n",
       "    }\n",
       "\n",
       "    .dataframe thead th {\n",
       "        text-align: right;\n",
       "    }\n",
       "</style>\n",
       "<table border=\"1\" class=\"dataframe\">\n",
       "  <thead>\n",
       "    <tr style=\"text-align: right;\">\n",
       "      <th></th>\n",
       "      <th>Age</th>\n",
       "      <th>Sleep_Duration</th>\n",
       "      <th>RSP</th>\n",
       "      <th>DSP</th>\n",
       "      <th>LSP</th>\n",
       "      <th>Awakenings</th>\n",
       "      <th>Caffeine</th>\n",
       "      <th>Alcohol</th>\n",
       "      <th>Smokes</th>\n",
       "      <th>Exercises</th>\n",
       "      <th>Sleep_Type</th>\n",
       "    </tr>\n",
       "  </thead>\n",
       "  <tbody>\n",
       "    <tr>\n",
       "      <th>0</th>\n",
       "      <td>65</td>\n",
       "      <td>6.0</td>\n",
       "      <td>0.18</td>\n",
       "      <td>0.70</td>\n",
       "      <td>0.12</td>\n",
       "      <td>0.0</td>\n",
       "      <td>0.0</td>\n",
       "      <td>0.0</td>\n",
       "      <td>1</td>\n",
       "      <td>3.0</td>\n",
       "      <td>1</td>\n",
       "    </tr>\n",
       "    <tr>\n",
       "      <th>1</th>\n",
       "      <td>69</td>\n",
       "      <td>7.0</td>\n",
       "      <td>0.19</td>\n",
       "      <td>0.28</td>\n",
       "      <td>0.53</td>\n",
       "      <td>3.0</td>\n",
       "      <td>0.0</td>\n",
       "      <td>3.0</td>\n",
       "      <td>1</td>\n",
       "      <td>3.0</td>\n",
       "      <td>2</td>\n",
       "    </tr>\n",
       "    <tr>\n",
       "      <th>2</th>\n",
       "      <td>40</td>\n",
       "      <td>8.0</td>\n",
       "      <td>0.20</td>\n",
       "      <td>0.70</td>\n",
       "      <td>0.10</td>\n",
       "      <td>1.0</td>\n",
       "      <td>0.0</td>\n",
       "      <td>0.0</td>\n",
       "      <td>0</td>\n",
       "      <td>3.0</td>\n",
       "      <td>1</td>\n",
       "    </tr>\n",
       "    <tr>\n",
       "      <th>3</th>\n",
       "      <td>40</td>\n",
       "      <td>6.0</td>\n",
       "      <td>0.23</td>\n",
       "      <td>0.25</td>\n",
       "      <td>0.52</td>\n",
       "      <td>3.0</td>\n",
       "      <td>50.0</td>\n",
       "      <td>5.0</td>\n",
       "      <td>1</td>\n",
       "      <td>1.0</td>\n",
       "      <td>2</td>\n",
       "    </tr>\n",
       "    <tr>\n",
       "      <th>4</th>\n",
       "      <td>57</td>\n",
       "      <td>8.0</td>\n",
       "      <td>0.27</td>\n",
       "      <td>0.55</td>\n",
       "      <td>0.18</td>\n",
       "      <td>3.0</td>\n",
       "      <td>0.0</td>\n",
       "      <td>3.0</td>\n",
       "      <td>0</td>\n",
       "      <td>3.0</td>\n",
       "      <td>1</td>\n",
       "    </tr>\n",
       "    <tr>\n",
       "      <th>...</th>\n",
       "      <td>...</td>\n",
       "      <td>...</td>\n",
       "      <td>...</td>\n",
       "      <td>...</td>\n",
       "      <td>...</td>\n",
       "      <td>...</td>\n",
       "      <td>...</td>\n",
       "      <td>...</td>\n",
       "      <td>...</td>\n",
       "      <td>...</td>\n",
       "      <td>...</td>\n",
       "    </tr>\n",
       "    <tr>\n",
       "      <th>447</th>\n",
       "      <td>27</td>\n",
       "      <td>7.5</td>\n",
       "      <td>0.22</td>\n",
       "      <td>0.57</td>\n",
       "      <td>0.21</td>\n",
       "      <td>0.0</td>\n",
       "      <td>0.0</td>\n",
       "      <td>0.0</td>\n",
       "      <td>0</td>\n",
       "      <td>5.0</td>\n",
       "      <td>1</td>\n",
       "    </tr>\n",
       "    <tr>\n",
       "      <th>448</th>\n",
       "      <td>52</td>\n",
       "      <td>6.0</td>\n",
       "      <td>0.28</td>\n",
       "      <td>0.57</td>\n",
       "      <td>0.15</td>\n",
       "      <td>4.0</td>\n",
       "      <td>25.0</td>\n",
       "      <td>0.0</td>\n",
       "      <td>0</td>\n",
       "      <td>3.0</td>\n",
       "      <td>1</td>\n",
       "    </tr>\n",
       "    <tr>\n",
       "      <th>449</th>\n",
       "      <td>40</td>\n",
       "      <td>8.5</td>\n",
       "      <td>0.20</td>\n",
       "      <td>0.32</td>\n",
       "      <td>0.48</td>\n",
       "      <td>1.0</td>\n",
       "      <td>0.0</td>\n",
       "      <td>3.0</td>\n",
       "      <td>1</td>\n",
       "      <td>0.0</td>\n",
       "      <td>2</td>\n",
       "    </tr>\n",
       "    <tr>\n",
       "      <th>450</th>\n",
       "      <td>45</td>\n",
       "      <td>7.0</td>\n",
       "      <td>0.18</td>\n",
       "      <td>0.72</td>\n",
       "      <td>0.10</td>\n",
       "      <td>3.0</td>\n",
       "      <td>0.0</td>\n",
       "      <td>0.0</td>\n",
       "      <td>0</td>\n",
       "      <td>3.0</td>\n",
       "      <td>1</td>\n",
       "    </tr>\n",
       "    <tr>\n",
       "      <th>451</th>\n",
       "      <td>18</td>\n",
       "      <td>7.5</td>\n",
       "      <td>0.22</td>\n",
       "      <td>0.23</td>\n",
       "      <td>0.55</td>\n",
       "      <td>1.0</td>\n",
       "      <td>50.0</td>\n",
       "      <td>0.0</td>\n",
       "      <td>0</td>\n",
       "      <td>1.0</td>\n",
       "      <td>2</td>\n",
       "    </tr>\n",
       "  </tbody>\n",
       "</table>\n",
       "<p>452 rows × 11 columns</p>\n",
       "</div>"
      ],
      "text/plain": [
       "     Age  Sleep_Duration   RSP   DSP   LSP  Awakenings  Caffeine  Alcohol  \\\n",
       "0     65             6.0  0.18  0.70  0.12         0.0       0.0      0.0   \n",
       "1     69             7.0  0.19  0.28  0.53         3.0       0.0      3.0   \n",
       "2     40             8.0  0.20  0.70  0.10         1.0       0.0      0.0   \n",
       "3     40             6.0  0.23  0.25  0.52         3.0      50.0      5.0   \n",
       "4     57             8.0  0.27  0.55  0.18         3.0       0.0      3.0   \n",
       "..   ...             ...   ...   ...   ...         ...       ...      ...   \n",
       "447   27             7.5  0.22  0.57  0.21         0.0       0.0      0.0   \n",
       "448   52             6.0  0.28  0.57  0.15         4.0      25.0      0.0   \n",
       "449   40             8.5  0.20  0.32  0.48         1.0       0.0      3.0   \n",
       "450   45             7.0  0.18  0.72  0.10         3.0       0.0      0.0   \n",
       "451   18             7.5  0.22  0.23  0.55         1.0      50.0      0.0   \n",
       "\n",
       "     Smokes  Exercises  Sleep_Type  \n",
       "0         1        3.0           1  \n",
       "1         1        3.0           2  \n",
       "2         0        3.0           1  \n",
       "3         1        1.0           2  \n",
       "4         0        3.0           1  \n",
       "..      ...        ...         ...  \n",
       "447       0        5.0           1  \n",
       "448       0        3.0           1  \n",
       "449       1        0.0           2  \n",
       "450       0        3.0           1  \n",
       "451       0        1.0           2  \n",
       "\n",
       "[452 rows x 11 columns]"
      ]
     },
     "execution_count": 61,
     "metadata": {},
     "output_type": "execute_result"
    }
   ],
   "source": [
    "sleep_df"
   ]
  },
  {
   "cell_type": "code",
   "execution_count": 62,
   "id": "b24e099e-a331-49f7-82b4-aec9f4922e99",
   "metadata": {
    "tags": []
   },
   "outputs": [
    {
     "name": "stdout",
     "output_type": "stream",
     "text": [
      "Count of 0s: 0\n",
      "Count of 1s: 339\n",
      "Count of 2s: 113\n"
     ]
    }
   ],
   "source": [
    "# Count occurrences of 0, 1, and 2 in the specified column\n",
    "count_0 = (sleep_df['Sleep_Type'] == 0).sum()\n",
    "count_1 = (sleep_df['Sleep_Type'] == 1).sum()\n",
    "count_2 = (sleep_df['Sleep_Type'] == 2).sum()\n",
    "\n",
    "print(\"Count of 0s:\", count_0)\n",
    "print(\"Count of 1s:\", count_1)\n",
    "print(\"Count of 2s:\", count_2)"
   ]
  },
  {
   "cell_type": "markdown",
   "id": "9ac38430-3045-49c2-8022-4220046aad73",
   "metadata": {},
   "source": [
    "Looking at the counts per sleep type, it is evident that there are *zero* counts for REM Sleep. This results in the machine learning model not being able to account for the REM Sleep type. Because of the fact that the preliminary dataset Sleep Efficiency Dataset does not have any data with REM Sleep as its highest probability, the researchers opted to drop the `RSP`, `DSP`, and `LSP` columns ans use the `Sleep_Type` column as the target variable. "
   ]
  },
  {
   "cell_type": "code",
   "execution_count": 63,
   "id": "0cc63a2f-6b4a-4c88-bb4a-6ef91138b1bf",
   "metadata": {},
   "outputs": [],
   "source": [
    "sleep_df.drop(['RSP', 'DSP', 'LSP'], axis=1, inplace = True)"
   ]
  },
  {
   "cell_type": "markdown",
   "id": "9a20528b-0674-4581-9551-73d2188546f9",
   "metadata": {},
   "source": [
    "Note that the target variable only consists of classifications `Deep Sleep` and `Light Sleep` types. `Sleep_Type` will have its values decremented to have it inlined with the logic of only having two classfications."
   ]
  },
  {
   "cell_type": "code",
   "execution_count": 64,
   "id": "10a64db1-6162-435f-8579-23352a458dea",
   "metadata": {
    "tags": []
   },
   "outputs": [
    {
     "data": {
      "text/html": [
       "<div>\n",
       "<style scoped>\n",
       "    .dataframe tbody tr th:only-of-type {\n",
       "        vertical-align: middle;\n",
       "    }\n",
       "\n",
       "    .dataframe tbody tr th {\n",
       "        vertical-align: top;\n",
       "    }\n",
       "\n",
       "    .dataframe thead th {\n",
       "        text-align: right;\n",
       "    }\n",
       "</style>\n",
       "<table border=\"1\" class=\"dataframe\">\n",
       "  <thead>\n",
       "    <tr style=\"text-align: right;\">\n",
       "      <th></th>\n",
       "      <th>Age</th>\n",
       "      <th>Sleep_Duration</th>\n",
       "      <th>Awakenings</th>\n",
       "      <th>Caffeine</th>\n",
       "      <th>Alcohol</th>\n",
       "      <th>Smokes</th>\n",
       "      <th>Exercises</th>\n",
       "      <th>Sleep_Type</th>\n",
       "    </tr>\n",
       "  </thead>\n",
       "  <tbody>\n",
       "    <tr>\n",
       "      <th>0</th>\n",
       "      <td>65</td>\n",
       "      <td>6.0</td>\n",
       "      <td>0.0</td>\n",
       "      <td>0.0</td>\n",
       "      <td>0.0</td>\n",
       "      <td>1</td>\n",
       "      <td>3.0</td>\n",
       "      <td>0</td>\n",
       "    </tr>\n",
       "    <tr>\n",
       "      <th>1</th>\n",
       "      <td>69</td>\n",
       "      <td>7.0</td>\n",
       "      <td>3.0</td>\n",
       "      <td>0.0</td>\n",
       "      <td>3.0</td>\n",
       "      <td>1</td>\n",
       "      <td>3.0</td>\n",
       "      <td>1</td>\n",
       "    </tr>\n",
       "    <tr>\n",
       "      <th>2</th>\n",
       "      <td>40</td>\n",
       "      <td>8.0</td>\n",
       "      <td>1.0</td>\n",
       "      <td>0.0</td>\n",
       "      <td>0.0</td>\n",
       "      <td>0</td>\n",
       "      <td>3.0</td>\n",
       "      <td>0</td>\n",
       "    </tr>\n",
       "    <tr>\n",
       "      <th>3</th>\n",
       "      <td>40</td>\n",
       "      <td>6.0</td>\n",
       "      <td>3.0</td>\n",
       "      <td>50.0</td>\n",
       "      <td>5.0</td>\n",
       "      <td>1</td>\n",
       "      <td>1.0</td>\n",
       "      <td>1</td>\n",
       "    </tr>\n",
       "    <tr>\n",
       "      <th>4</th>\n",
       "      <td>57</td>\n",
       "      <td>8.0</td>\n",
       "      <td>3.0</td>\n",
       "      <td>0.0</td>\n",
       "      <td>3.0</td>\n",
       "      <td>0</td>\n",
       "      <td>3.0</td>\n",
       "      <td>0</td>\n",
       "    </tr>\n",
       "    <tr>\n",
       "      <th>...</th>\n",
       "      <td>...</td>\n",
       "      <td>...</td>\n",
       "      <td>...</td>\n",
       "      <td>...</td>\n",
       "      <td>...</td>\n",
       "      <td>...</td>\n",
       "      <td>...</td>\n",
       "      <td>...</td>\n",
       "    </tr>\n",
       "    <tr>\n",
       "      <th>447</th>\n",
       "      <td>27</td>\n",
       "      <td>7.5</td>\n",
       "      <td>0.0</td>\n",
       "      <td>0.0</td>\n",
       "      <td>0.0</td>\n",
       "      <td>0</td>\n",
       "      <td>5.0</td>\n",
       "      <td>0</td>\n",
       "    </tr>\n",
       "    <tr>\n",
       "      <th>448</th>\n",
       "      <td>52</td>\n",
       "      <td>6.0</td>\n",
       "      <td>4.0</td>\n",
       "      <td>25.0</td>\n",
       "      <td>0.0</td>\n",
       "      <td>0</td>\n",
       "      <td>3.0</td>\n",
       "      <td>0</td>\n",
       "    </tr>\n",
       "    <tr>\n",
       "      <th>449</th>\n",
       "      <td>40</td>\n",
       "      <td>8.5</td>\n",
       "      <td>1.0</td>\n",
       "      <td>0.0</td>\n",
       "      <td>3.0</td>\n",
       "      <td>1</td>\n",
       "      <td>0.0</td>\n",
       "      <td>1</td>\n",
       "    </tr>\n",
       "    <tr>\n",
       "      <th>450</th>\n",
       "      <td>45</td>\n",
       "      <td>7.0</td>\n",
       "      <td>3.0</td>\n",
       "      <td>0.0</td>\n",
       "      <td>0.0</td>\n",
       "      <td>0</td>\n",
       "      <td>3.0</td>\n",
       "      <td>0</td>\n",
       "    </tr>\n",
       "    <tr>\n",
       "      <th>451</th>\n",
       "      <td>18</td>\n",
       "      <td>7.5</td>\n",
       "      <td>1.0</td>\n",
       "      <td>50.0</td>\n",
       "      <td>0.0</td>\n",
       "      <td>0</td>\n",
       "      <td>1.0</td>\n",
       "      <td>1</td>\n",
       "    </tr>\n",
       "  </tbody>\n",
       "</table>\n",
       "<p>452 rows × 8 columns</p>\n",
       "</div>"
      ],
      "text/plain": [
       "     Age  Sleep_Duration  Awakenings  Caffeine  Alcohol  Smokes  Exercises  \\\n",
       "0     65             6.0         0.0       0.0      0.0       1        3.0   \n",
       "1     69             7.0         3.0       0.0      3.0       1        3.0   \n",
       "2     40             8.0         1.0       0.0      0.0       0        3.0   \n",
       "3     40             6.0         3.0      50.0      5.0       1        1.0   \n",
       "4     57             8.0         3.0       0.0      3.0       0        3.0   \n",
       "..   ...             ...         ...       ...      ...     ...        ...   \n",
       "447   27             7.5         0.0       0.0      0.0       0        5.0   \n",
       "448   52             6.0         4.0      25.0      0.0       0        3.0   \n",
       "449   40             8.5         1.0       0.0      3.0       1        0.0   \n",
       "450   45             7.0         3.0       0.0      0.0       0        3.0   \n",
       "451   18             7.5         1.0      50.0      0.0       0        1.0   \n",
       "\n",
       "     Sleep_Type  \n",
       "0             0  \n",
       "1             1  \n",
       "2             0  \n",
       "3             1  \n",
       "4             0  \n",
       "..          ...  \n",
       "447           0  \n",
       "448           0  \n",
       "449           1  \n",
       "450           0  \n",
       "451           1  \n",
       "\n",
       "[452 rows x 8 columns]"
      ]
     },
     "execution_count": 64,
     "metadata": {},
     "output_type": "execute_result"
    }
   ],
   "source": [
    "sleep_df['Sleep_Type'] = sleep_df['Sleep_Type'] - 1\n",
    "sleep_df"
   ]
  },
  {
   "cell_type": "markdown",
   "id": "17cdb88b-4d53-4212-8ec5-65b3cb99e98e",
   "metadata": {},
   "source": [
    "The `Sleep_Type` column now maps the classifications into the following: `Deep = 0`, and `Light = 1`."
   ]
  },
  {
   "cell_type": "code",
   "execution_count": 65,
   "id": "2d3d50d9",
   "metadata": {},
   "outputs": [
    {
     "data": {
      "text/plain": [
       "Sleep_Type\n",
       "0    339\n",
       "1    113\n",
       "Name: count, dtype: int64"
      ]
     },
     "execution_count": 65,
     "metadata": {},
     "output_type": "execute_result"
    }
   ],
   "source": [
    "sleep_df['Sleep_Type'].value_counts()"
   ]
  },
  {
   "cell_type": "markdown",
   "id": "e0630edc-92c7-4a72-987c-f9ea920b55aa",
   "metadata": {
    "tags": []
   },
   "source": [
    "## III. Feature Engineering"
   ]
  },
  {
   "cell_type": "markdown",
   "id": "59ae39a8-5fc6-4352-b0fd-f99d496528e9",
   "metadata": {
    "tags": []
   },
   "source": [
    "### Normal Distribution Graphs"
   ]
  },
  {
   "cell_type": "markdown",
   "id": "44d2396a-5639-4332-81a2-83dc302f52c8",
   "metadata": {},
   "source": [
    "The researchers plotted the distribution of each feature to check whether they are positively skewed, negatively skewed, or in normal distribution. In this notebook, the distribution is implemented using `matplotlib.pyplot`. "
   ]
  },
  {
   "cell_type": "code",
   "execution_count": 66,
   "id": "088888dc-6afc-4654-9594-4e2aa2b11f2b",
   "metadata": {
    "tags": []
   },
   "outputs": [
    {
     "data": {
      "image/png": "[encoded data removed]",
      "text/plain": [
       "<Figure size 2000x1500 with 9 Axes>"
      ]
     },
     "metadata": {},
     "output_type": "display_data"
    }
   ],
   "source": [
    "import matplotlib.pyplot as plt\n",
    "\n",
    "# Plot the distribution of each column in the DataFrame\n",
    "sleep_df.hist(figsize=(20, 15))\n",
    "plt.tight_layout()  # Adjust layout to prevent overlapping\n",
    "plt.show()"
   ]
  },
  {
   "cell_type": "markdown",
   "id": "dc289f7a-d258-4edd-80b0-5faefad27519",
   "metadata": {},
   "source": [
    "As displayed above, each feature has varying distributions. This might not be beneficial regardless of whichever machine learning model is used in this notebook. The nature of some data is also inconsistent, which will lead to a bad performance of the model. For example `Caffeine` has a measurement of milligrams (mg) while `Alcohol` is measured in ounces (oz). It is best to convert from *mg* to *oz* or vice versa for these two to be accurately compared. \n",
    "\n",
    "The mean and standard deviation of each feature is shown below using `pd.describe()`."
   ]
  },
  {
   "cell_type": "code",
   "execution_count": 67,
   "id": "9fccf5cc-c116-45aa-943b-0f2ee3a1c12a",
   "metadata": {
    "tags": []
   },
   "outputs": [
    {
     "data": {
      "text/html": [
       "<div>\n",
       "<style scoped>\n",
       "    .dataframe tbody tr th:only-of-type {\n",
       "        vertical-align: middle;\n",
       "    }\n",
       "\n",
       "    .dataframe tbody tr th {\n",
       "        vertical-align: top;\n",
       "    }\n",
       "\n",
       "    .dataframe thead th {\n",
       "        text-align: right;\n",
       "    }\n",
       "</style>\n",
       "<table border=\"1\" class=\"dataframe\">\n",
       "  <thead>\n",
       "    <tr style=\"text-align: right;\">\n",
       "      <th></th>\n",
       "      <th>Caffeine</th>\n",
       "      <th>Alcohol</th>\n",
       "    </tr>\n",
       "  </thead>\n",
       "  <tbody>\n",
       "    <tr>\n",
       "      <th>count</th>\n",
       "      <td>452.000000</td>\n",
       "      <td>452.000000</td>\n",
       "    </tr>\n",
       "    <tr>\n",
       "      <th>mean</th>\n",
       "      <td>22.345133</td>\n",
       "      <td>1.137168</td>\n",
       "    </tr>\n",
       "    <tr>\n",
       "      <th>std</th>\n",
       "      <td>29.848626</td>\n",
       "      <td>1.608938</td>\n",
       "    </tr>\n",
       "    <tr>\n",
       "      <th>min</th>\n",
       "      <td>0.000000</td>\n",
       "      <td>0.000000</td>\n",
       "    </tr>\n",
       "    <tr>\n",
       "      <th>25%</th>\n",
       "      <td>0.000000</td>\n",
       "      <td>0.000000</td>\n",
       "    </tr>\n",
       "    <tr>\n",
       "      <th>50%</th>\n",
       "      <td>0.000000</td>\n",
       "      <td>0.000000</td>\n",
       "    </tr>\n",
       "    <tr>\n",
       "      <th>75%</th>\n",
       "      <td>50.000000</td>\n",
       "      <td>2.000000</td>\n",
       "    </tr>\n",
       "    <tr>\n",
       "      <th>max</th>\n",
       "      <td>200.000000</td>\n",
       "      <td>5.000000</td>\n",
       "    </tr>\n",
       "  </tbody>\n",
       "</table>\n",
       "</div>"
      ],
      "text/plain": [
       "         Caffeine     Alcohol\n",
       "count  452.000000  452.000000\n",
       "mean    22.345133    1.137168\n",
       "std     29.848626    1.608938\n",
       "min      0.000000    0.000000\n",
       "25%      0.000000    0.000000\n",
       "50%      0.000000    0.000000\n",
       "75%     50.000000    2.000000\n",
       "max    200.000000    5.000000"
      ]
     },
     "execution_count": 67,
     "metadata": {},
     "output_type": "execute_result"
    }
   ],
   "source": [
    "sleep_df[['Caffeine', 'Alcohol']].describe()"
   ]
  },
  {
   "cell_type": "markdown",
   "id": "ca26b8db-087a-4bd4-acfb-45332907eb46",
   "metadata": {},
   "source": [
    "As observed above, the standard deviation of features `Age`, `Sleep_Duration`, `Awakenings`, `Caffeine`, `Alcohol`, and `Exercises` are of high value. Meaning, they have a wide range and that data is spread out - which, potentially create false-outliers. This will be challenging for the machine learning model to identify patterns between the features and will result to a more inaccurate classification. Hence, it is important to normalize these features so that most data will be of equal importance to the model.  "
   ]
  },
  {
   "cell_type": "markdown",
   "id": "46adfe34-8607-4436-9495-0423af848fe2",
   "metadata": {
    "tags": []
   },
   "source": [
    "### Alcohol and Caffeine Conversion"
   ]
  },
  {
   "cell_type": "markdown",
   "id": "d24a38a7-fb11-4214-ba91-bcae4304b547",
   "metadata": {},
   "source": [
    "As stated, the `Caffeine` feature is in units of milligrams while the `Alcohol` feature is in units of ounces. To convert mg to ounces or vice versa, the units must be converted to *grams (g)* first. The following are the conversion units of each:\n",
    "\n",
    "* `1 ounce = 28.349523125 grams` from GfG (2023)\n",
    "* `1 gram = 1000 milligrams` from Milligrams and Grams Converter (n.d.)\n",
    "\n",
    "\n",
    "The formula to convert from one unit to another is as follows:\n",
    "\n",
    "| **oz to mg**       | **mg to oz**       |\n",
    "|------------------|------------------|\n",
    "| $$milligrams = oz \\times \\frac{28.349523125 g}{1.0 oz}\\times{\\frac{1000.0 mg}{1.0 g}}$$     | $$ounces = mg \\times \\frac{1.0 g}{1000.0 mg}\\times{\\frac{1.0 oz}{28.349523125 g}}$$ |\n",
    "\n",
    "\n",
    "\n",
    "Comparing the mean and standard deviation of `Caffeine` and `Alcohol`, it is clear that `Caffeine` has a higher scale than `Alcohol`. However, the maximum value of `Caffeine` is just 200 milligrams. If this will be converted to ounces, the resulting value will just be **0.00705479239 oz**. This is a significantly low value, and will make the machine learning model biased to `Alcohol` since its maximum value is 5.0 oz.\n",
    "\n",
    "Therefore, in this notebook, the feature `Alcohol` will be converted to milligrams instead so that it is consistent and of-equal-matter to `Caffeine`. \n",
    "\n",
    "\n",
    "**References:** \n",
    "* GfG. (2023, September 26). Ounces to grams converter. GeeksforGeeks. https://www.geeksforgeeks.org/ounce-to-gram/\n",
    "* Milligrams and grams converter. (n.d.). The Calculator Site. https://www.thecalculatorsite.com/conversions/common/mg-to-g.php?wn=google_ads_iframe_%2F1254144%2C5336692%2Fthecalculatorsite_com-pixel1_1&r1=https%3A%2F%2Fwww.thecalculatorsite.com%2Fconversions%2Fcommon%2Fmg-to-g.php"
   ]
  },
  {
   "cell_type": "code",
   "execution_count": null,
   "id": "3589eb71-f09a-4c75-a3cc-d7c3c6d890b7",
   "metadata": {
    "tags": []
   },
   "outputs": [],
   "source": [
    "# Conversion factor\n",
    "oz_to_g = 28.3495\n",
    "g_to_mg = 1000\n",
    "\n",
    "#Convert oz to mg\n",
    "sleep_df['Alcohol'] = sleep_df['Alcohol'] * oz_to_g * g_to_mg\n",
    "\n",
    "#display dataframe\n",
    "display(sleep_df)"
   ]
  },
  {
   "cell_type": "markdown",
   "id": "31607484-6696-41a4-a7b1-915696f0c0cd",
   "metadata": {
    "tags": []
   },
   "source": [
    "### Data Normalization"
   ]
  },
  {
   "cell_type": "markdown",
   "id": "636db706-5fc3-49d4-8e06-e38474043988",
   "metadata": {},
   "source": [
    "#### `Age`, `Sleep_Duration`, `Awakenings`, `Caffeine`, `Alcohol`, and `Exercises`"
   ]
  },
  {
   "cell_type": "code",
   "execution_count": null,
   "id": "df05c409-b8b5-4d8f-a904-22f9a7aff987",
   "metadata": {
    "tags": []
   },
   "outputs": [],
   "source": [
    "sleep_df[['Caffeine', 'Alcohol']].describe()"
   ]
  },
  {
   "cell_type": "markdown",
   "id": "16afb78e-5269-49c6-9ece-35f3ea8ce222",
   "metadata": {},
   "source": [
    "As stated, the standard deviation of features `Age`, `Sleep_Duration`, `Awakenings`, `Caffeine`, `Alcohol`, and `Exercises` are of high value, which means that machine learning model will produce a less accurate predicition. To normalize this, the researchers used `sklearn.preprocessing.RobustScaler` since each distribution is inconsistent and there is a presence of outliers on some features (Sklearn.Preprocessing.RobustScaler, n.d.). \n",
    "\n",
    "**Reference:**\n",
    "* sklearn.preprocessing.RobustScaler. (n.d.). Scikit-learn. https://scikit-learn.org/stable/modules/generated/sklearn.preprocessing.RobustScaler.html"
   ]
  },
  {
   "cell_type": "markdown",
   "id": "f879300c-9c73-4aa7-aaa8-4ce58377fe98",
   "metadata": {
    "tags": []
   },
   "source": [
    "### Train-Test Split"
   ]
  },
  {
   "cell_type": "markdown",
   "id": "15745864-7e94-4f97-9f1a-0ce4a387fc65",
   "metadata": {},
   "source": [
    "Using Robust Scaler requires the use of a subset of the overall data known as the **Training Set** to learn how the features will be normalized. A **Test Set**, on the other hand, is being transformed according to the learned ranges of the scaler. This positively affects the realiability of the accuracy because the scaler model is only applying what it has learned from the training set, and the test set itself is not part of the learning process. Therefore, the entire data will not be overfitting when inputting to the machine learning model (which to be discussed later Section 4). \n",
    "\n",
    "Meanwhile, the machine learning model is required to have a **Training Target Variable** that serves as the output class at which the training set results to for the purpose of validation and learning. The **Test Target Variable**, on the other hand, acts as the **true classes** of the test set; meaning, the learned model should predict the same classes for each row of test data. The model's accuracy is measured using this principle. \n",
    "\n",
    "To achieve this, the researchers used `sklearn.model_selection.train_test_split`, a pre-defined function offered by Scikit which randomly slices the data into train and test subsets (Sklearn.Model_Selection.Train_Test_Split, n.d.). It takes a variable `X = features`, or the columns `Age`, `Sleep_Duration`, `Awakenings`, `Caffeine`, `Alcohol`, and `Exercises`, and `Y = classes` or the column `Sleep_Type`.\n",
    "\n",
    "\n",
    "**Reference:**\n",
    "* sklearn.model_selection.train_test_split. (n.d.). Scikit-learn. https://scikit-learn.org/stable/modules/generated/sklearn.model_selection.train_test_split.html"
   ]
  },
  {
   "cell_type": "code",
   "execution_count": null,
   "id": "d095a5b7-7e5e-4479-86c4-45221f7e475c",
   "metadata": {},
   "outputs": [],
   "source": [
    "from sklearn.model_selection import train_test_split\n",
    "\n",
    "columns = sleep_df.drop('Sleep_Type', axis=1).columns\n",
    "\n",
    "X = sleep_df[columns]\n",
    "y = sleep_df['Sleep_Type']\n",
    "X_train, X_test, y_train, y_test = train_test_split(X,y,test_size=0.3,random_state=42)\n",
    "\n",
    "print('Training data shape: ', X_train.shape)\n",
    "print('Training labels shape: ', y_train.shape)\n",
    "print('Test data shape: ', X_test.shape)\n",
    "print('Test labels shape: ', y_test.shape)"
   ]
  },
  {
   "cell_type": "markdown",
   "id": "4a828400-58b5-46ba-a1cc-f7d4d6e3210b",
   "metadata": {
    "tags": []
   },
   "source": [
    "### Using Robust Scaler"
   ]
  },
  {
   "cell_type": "markdown",
   "id": "d68e9579-a305-4b71-a312-f18e18655e4a",
   "metadata": {},
   "source": [
    "To utilize Robust Scaler, instantiate a RobustScaler object and store it in the variable `scaler`."
   ]
  },
  {
   "cell_type": "code",
   "execution_count": null,
   "id": "6ed4905d-a4a1-4693-8339-c49b954ef488",
   "metadata": {
    "tags": []
   },
   "outputs": [],
   "source": [
    "from sklearn.preprocessing import RobustScaler\n",
    "\n",
    "# Initialize the RobustScaler\n",
    "scaler = RobustScaler()"
   ]
  },
  {
   "cell_type": "markdown",
   "id": "0eab2574-ce45-46f6-9038-7165febba5ae",
   "metadata": {},
   "source": [
    "Then, call the function `RobustScaler.fit_transform` and pass `X_train[columns]` so that the scaler model learns how it should rescale the training set and transforms each feature to fit within its respective scale. Store the scaled data back into `X_train[columns]`."
   ]
  },
  {
   "cell_type": "code",
   "execution_count": null,
   "id": "23bf226d-a189-4d73-ab79-a39b98cf9555",
   "metadata": {},
   "outputs": [],
   "source": [
    "# Fit the scaler to your data\n",
    "X_train[columns] = scaler.fit_transform(X_train[columns])"
   ]
  },
  {
   "cell_type": "markdown",
   "id": "05ec7a39-1e49-42dd-a42e-fa1f882784ba",
   "metadata": {},
   "source": [
    "The code below plots each feature of `X_train` after rescaling. "
   ]
  },
  {
   "cell_type": "code",
   "execution_count": null,
   "id": "f6b4b615-3e39-4f59-b71f-6d1c91f1b258",
   "metadata": {},
   "outputs": [],
   "source": [
    "# Plot the distribution of each column in the DataFrame\n",
    "X_train.hist(figsize=(20, 15))\n",
    "plt.tight_layout()  # Adjust layout to prevent overlapping\n",
    "plt.show()"
   ]
  },
  {
   "cell_type": "markdown",
   "id": "c7c3c888-3eec-4cd9-82e9-aeffa445c0c7",
   "metadata": {},
   "source": [
    "As observed above, the ranges of the distributions of `Age`, `Sleep_Duration`, `Awakenings`, `Caffeine`, `Alcohol`, and `Exercises` are now much smaller. "
   ]
  },
  {
   "cell_type": "code",
   "execution_count": null,
   "id": "9b5127a1-e547-4d45-8e23-88f0bec48e98",
   "metadata": {
    "tags": []
   },
   "outputs": [],
   "source": [
    "X_train.describe()"
   ]
  },
  {
   "cell_type": "markdown",
   "id": "f4108a81-3495-4616-afb9-10bdfc668e0d",
   "metadata": {},
   "source": [
    "Furthermore, their standard deviation has significantly lowered, with no value that is greater than one (1). This means that the data is now much closer to each other, and that the model will now able to predict with a higher accuracy.\n",
    "\n",
    "Now, call the function `RobustScaler.transform` and pass `X_test[columns]`. This transforms the test set into the learned ranges of the scaler model. Note that the function to call is `.transform` and **not** `.fit_transform`. If `.fit_transform` is called to the test set, the model learns a new scale suitable *only for the test set*, which will make the machine learning model underfit or *not able to learn to predict an accurate class*. "
   ]
  },
  {
   "cell_type": "code",
   "execution_count": null,
   "id": "1e65d23c-5cc7-4bc8-b5b4-1805fe1fb219",
   "metadata": {},
   "outputs": [],
   "source": [
    "# Transform the data using the scaler\n",
    "X_test[columns] = scaler.transform(X_test[columns])"
   ]
  },
  {
   "cell_type": "code",
   "execution_count": null,
   "id": "ee71712a-e667-4edb-bbcf-b0240d826f75",
   "metadata": {
    "tags": []
   },
   "outputs": [],
   "source": [
    "# Plot the distribution of each column in the DataFrame\n",
    "X_test.hist(figsize=(20, 15))\n",
    "plt.tight_layout()  # Adjust layout to prevent overlapping\n",
    "plt.show()"
   ]
  },
  {
   "cell_type": "markdown",
   "id": "7f4b85ad-acc5-41f6-bb2f-f031c769e8d7",
   "metadata": {
    "tags": []
   },
   "source": [
    "## **IV. Model Training and Hyperparameter Tuning**"
   ]
  },
  {
   "cell_type": "markdown",
   "id": "8e0cef9f-61d0-4c1b-8c1b-ad3497539362",
   "metadata": {},
   "source": [
    "The Machine Learning Model used in this implementation is `sklearn.neural_network.MLPClassifier`, a Multi-Layer Perceptron offered by Scikit to achieve classification machine learning through neural network (Sklearn.Neural_Network.MLPClassifier, n.d.). This will be used to predict the class of the test set. However, to determine how this model can provide the best accuracy, it must undergo a process called **hyperparameter tuning**. This process iteratively learns the same training set, but with different combination of settings or *hyperparameters*. Once that this process is over, the best settings are now determined to provide the best accuracy of prediction. \n",
    "\n",
    "**Reference:**\n",
    "* sklearn.neural_network.MLPClassifier. (n.d.). Scikit-learn. https://scikit-learn.org/stable/modules/generated/sklearn.neural_network.MLPClassifier.html"
   ]
  },
  {
   "cell_type": "code",
   "execution_count": null,
   "id": "f14a1518-4906-4b93-a710-57a303c7a360",
   "metadata": {},
   "outputs": [],
   "source": [
    "import numpy as np\n",
    "import pandas as pd\n",
    "from sklearn.neural_network import MLPClassifier\n",
    "from sklearn.model_selection import train_test_split, GridSearchCV\n",
    "from sklearn.metrics import accuracy_score"
   ]
  },
  {
   "cell_type": "markdown",
   "id": "1fbb2a0e-794f-4ddd-af93-321fd34398dd",
   "metadata": {},
   "source": [
    "First, instantiate a MLPClassifier object and store to the variable `mlp`. This will serve as the model in which the hyperparameter tuning will utilize throughout its process."
   ]
  },
  {
   "cell_type": "code",
   "execution_count": null,
   "id": "dd51172d-3513-4b6d-b627-0bf4014cae80",
   "metadata": {},
   "outputs": [],
   "source": [
    "# Define the MLPClassifier\n",
    "mlp = MLPClassifier()"
   ]
  },
  {
   "cell_type": "markdown",
   "id": "bd5cd870-25aa-45c4-bbd9-5312c57bb24e",
   "metadata": {},
   "source": [
    "Then, instantiate a dictionary of *hyperparameters*. These are the settings of the model are necessary to be configured by any developer prior to its machine learning task. The settings include but not limited to:\n",
    "* **'hidden_layer_sizes'**: the number of layers and nodes per layer of the neural network in shape of (#Nodes[Layer1], #Nodes[Layer2],..., #Nodes[LayerN]);\n",
    "* **'activation'**: the activation function for each node, which determines the effect of one node to another;\n",
    "* **'solver'**: the solver for weight optimization, which optimizes the model by determining the optimized weight imposed to each node;\n",
    "* **'learning_rate'**: the learning rate for updating the weights from backward propagation (or re-evaluation of the model at each iteration); and, \n",
    "* **'max_iter'**: the number of iterations used by the solver. \n",
    "\n",
    "The list of all hyperparameters is included in the documentation of MLPClassifier provided by Scikit [Click here.](https://scikit-learn.org/stable/modules/generated/sklearn.neural_network.MLPClassifier.html)"
   ]
  },
  {
   "cell_type": "code",
   "execution_count": null,
   "id": "9b080fde-3365-4ae1-9487-dc662111d0b9",
   "metadata": {},
   "outputs": [],
   "source": [
    "# Define hyperparameters to tune\n",
    "param_grid = {\n",
    "    'hidden_layer_sizes': [(50,), (100,), (50,50), (100,100), (50,50,50), (100,100,100)],\n",
    "    'activation': ['tanh', 'logistic'],\n",
    "    'solver': ['sgd', 'adam'],\n",
    "    'learning_rate': ['constant', 'adaptive'],\n",
    "    'max_iter': [3000, 4000, 5000]\n",
    "}"
   ]
  },
  {
   "cell_type": "markdown",
   "id": "f1fa139c-0535-4f6d-ba79-c95cc43c1013",
   "metadata": {},
   "source": [
    "To achieve hyperparmater tuning, a search is done over the combinations of the hyperparamaters specified above. `sklearn.model_selection.GridSearchCV` offers automation for this search by trying out all the combinations of hyperparamaters, cross-validating each combination to the training set, and outputting the best settings at the end of its search (Sklearn.Model_Selection.GridSearchCV, n.d.). This means that it is guaranteed to provide the best model, *neural network model* in the case of this notebook, that has the highest accuracy in terms of learning the training set. \n",
    "\n",
    "Instantiate a GridSearchCV and pass the following parameters: \n",
    "* **estimator** = `mlp`\n",
    "* **param_grid** = `param_grid`\n",
    "* **cv** = 10\n",
    "* **scoring** = 'accuracy'\n",
    "* **verbose** = 2\n",
    "* **n_jobs** = 1\n",
    "\n",
    "\n",
    "**Reference:**\n",
    "* sklearn.model_selection.GridSearchCV. (n.d.). Scikit-learn. https://scikit-learn.org/stable/modules/generated/sklearn.model_selection.GridSearchCV.html"
   ]
  },
  {
   "cell_type": "code",
   "execution_count": null,
   "id": "92ab1387-38fa-478e-a975-b9a2e90dc1cf",
   "metadata": {},
   "outputs": [],
   "source": [
    "# Use GridSearchCV for hyperparameter tuning\n",
    "grid_search = GridSearchCV(mlp, param_grid, cv=10, scoring='accuracy', verbose=2, n_jobs=-1)"
   ]
  },
  {
   "cell_type": "markdown",
   "id": "a5b63d5b-9ca2-4b60-a809-1eb3d5d5f983",
   "metadata": {},
   "source": [
    "Then call `GridSearchCV.fit()` to initiate the hyperparameter tuning process and the machine learning process of the model. Pass the following parameters:\n",
    "* **X** = `X_train`\n",
    "* **y** = `y_train`\n",
    "\n",
    "This will take a few minutes to finish so please do not reload the notebook. "
   ]
  },
  {
   "cell_type": "code",
   "execution_count": null,
   "id": "9f467ac2-d66b-4086-b04d-3fadc839ad93",
   "metadata": {},
   "outputs": [],
   "source": [
    "grid_search.fit(X_train, y_train)"
   ]
  },
  {
   "cell_type": "markdown",
   "id": "455d712e-c247-4e61-a950-0bdfb5818d7c",
   "metadata": {},
   "source": [
    "Once finished, get the best hyperparameters determined by the search by calling `GridSearchCV.best_params_` and store its value to variable `best_params`. Then, get the best model by calling `GridSearchCV.best_estimator_` and store its value to `best_mlp`. Note that the model stored in this variable has already been equipped with the best hyperparameters.   "
   ]
  },
  {
   "cell_type": "code",
   "execution_count": null,
   "id": "fca22ddd-b8db-41bd-bd81-05736e46d28d",
   "metadata": {},
   "outputs": [],
   "source": [
    "# Get the best parameters and the best estimator\n",
    "best_params = grid_search.best_params_\n",
    "best_mlp = grid_search.best_estimator_"
   ]
  },
  {
   "cell_type": "markdown",
   "id": "f572c218-e7f0-4647-8f19-42a0980a68fa",
   "metadata": {},
   "source": [
    "Then, proceed to predicting the classes of `X_test` by calling `GridSearchCV.predict()`. Store the result to `y_pred`. "
   ]
  },
  {
   "cell_type": "code",
   "execution_count": null,
   "id": "2a3523e2-f2e8-4d75-aeb8-9feedc1296b2",
   "metadata": {
    "tags": []
   },
   "outputs": [],
   "source": [
    "# Make predictions\n",
    "y_pred = best_mlp.predict(X_test)"
   ]
  },
  {
   "cell_type": "markdown",
   "id": "02ec6dd4-7f77-4551-af31-1d6be0b15141",
   "metadata": {},
   "source": [
    "To determine the actual accuracy of the model, `sklearn.metrics.accuracy_score` was used. It computes the subset accuracy, wherein the set of labels predicted from `y_pred` must exactly match the corresponding set of labels in `y_test` (Sklearn.Metrics.Accuracy_Score, n.d.).\n",
    "\n",
    "\n",
    "**Reference:**\n",
    "* sklearn.metrics.accuracy_score. (n.d.). Scikit-learn. https://scikit-learn.org/stable/modules/generated/sklearn.metrics.accuracy_score.html"
   ]
  },
  {
   "cell_type": "code",
   "execution_count": null,
   "id": "fe81d768-46cf-43f0-9275-9ece36353464",
   "metadata": {
    "tags": []
   },
   "outputs": [],
   "source": [
    "# Calculate accuracy\n",
    "accuracy = (accuracy_score(y_test, y_pred)) * 100\n",
    "accuracy_txt = \"Accuracy: {accuracy}%\".format(accuracy=accuracy)\n",
    "\n",
    "print(\"Best Parameters:\", best_params)\n",
    "print(accuracy_txt)"
   ]
  },
  {
   "cell_type": "markdown",
   "id": "9eafb55d-9c26-447d-acab-da4587c38b4a",
   "metadata": {},
   "source": [
    "Looking at the accuracy of `83.82352941176471%`, it is therefore inferred that the model will be accurate 83% of the time it was used to predict the data of a user."
   ]
  }
 ],
 "metadata": {
  "kernelspec": {
   "display_name": "Python 3 (ipykernel)",
   "language": "python",
   "name": "python3"
  },
  "language_info": {
   "codemirror_mode": {
    "name": "ipython",
    "version": 3
   },
   "file_extension": ".py",
   "mimetype": "text/x-python",
   "name": "python",
   "nbconvert_exporter": "python",
   "pygments_lexer": "ipython3",
   "version": "3.11.5"
  }
 },
 "nbformat": 4,
 "nbformat_minor": 5
}
