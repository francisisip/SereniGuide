{
 "cells": [
  {
   "cell_type": "markdown",
   "id": "e9744049",
   "metadata": {},
   "source": [
    "# SereniGuide: a sleep wellness tracking app\n",
    "\n",
    "<div style=\"font-style: italic;\">\n",
    "    <br>\n",
    "    <p style=\"margin-top: 0; margin-bottom: 0;\"> EMPATHY S11 </p>\n",
    "    <p style=\"margin-top: 0; margin-bottom: 0;\"> Group 2: Bawa, Gomez, Lejano, Nadela, Roxas</p>\n",
    "</div>"
   ]
  },
  {
   "cell_type": "markdown",
   "id": "d09f6a95",
   "metadata": {},
   "source": [
    "## I. Dataset Description\n",
    "\n",
    "Sleep is crucial for the overall health of a person and their emotional well-being. It allows the body to recharge so that people can function properly and perform our daily tasks. Sleep efficiency is a metric that measures the percentage of time spent asleep compared to the total time spent in bed. It reflects the effectiveness of sleep duration in relation to the time spent attempting to sleep. \n",
    "\n",
    "The dataset this project used is sourced from Kaggle and titled: \"Sleep Efficiency Dataset\". The dataset provides insights into the sleep patterns of a group of test subjects, including details on their sleep duration, efficiency, stages, and nocturnal awakenings. It also includes information on factors such as caffeine and alcohol consumption, smoking habits, exercise frequency, age, and gender. "
   ]
  },
  {
   "cell_type": "markdown",
   "id": "edefea2b",
   "metadata": {},
   "source": [
    "### Collection Methodology\n",
    "\n",
    "The dataset originates from a research study conducted in Morocco by a team of artificial intelligence engineering students from ENSIAS. Over a period of several months, the team enlisted participants from the local community and gathered data through a blend of self-reported surveys, actigraphy, and polysomnography—a method for monitoring sleep patterns."
   ]
  },
  {
   "cell_type": "markdown",
   "id": "80c7d3f0",
   "metadata": {},
   "source": [
    "### Structure of the Dataset\n",
    "\n",
    "To take a look at the structure of the dataset, as well as to manipulate and analyze the data, some libraries in Python (such as NumPy and Pandas) are imported. The dataset downloaded from [Kaggle](https://www.kaggle.com/datasets/equilibriumm/sleep-efficiency) is also imported using Pandas."
   ]
  },
  {
   "cell_type": "code",
   "execution_count": 1,
   "id": "82849b6f",
   "metadata": {},
   "outputs": [],
   "source": [
    "import numpy as np\n",
    "import pandas as pd\n",
    "\n",
    "sleep_df = pd.read_csv(\"Sleep_Efficiency.csv\")"
   ]
  },
  {
   "cell_type": "code",
   "execution_count": 2,
   "id": "457982a7",
   "metadata": {},
   "outputs": [
    {
     "data": {
      "text/html": [
       "<div>\n",
       "<style scoped>\n",
       "    .dataframe tbody tr th:only-of-type {\n",
       "        vertical-align: middle;\n",
       "    }\n",
       "\n",
       "    .dataframe tbody tr th {\n",
       "        vertical-align: top;\n",
       "    }\n",
       "\n",
       "    .dataframe thead th {\n",
       "        text-align: right;\n",
       "    }\n",
       "</style>\n",
       "<table border=\"1\" class=\"dataframe\">\n",
       "  <thead>\n",
       "    <tr style=\"text-align: right;\">\n",
       "      <th></th>\n",
       "      <th>ID</th>\n",
       "      <th>Age</th>\n",
       "      <th>Gender</th>\n",
       "      <th>Bedtime</th>\n",
       "      <th>Wakeup time</th>\n",
       "      <th>Sleep duration</th>\n",
       "      <th>Sleep efficiency</th>\n",
       "      <th>REM sleep percentage</th>\n",
       "      <th>Deep sleep percentage</th>\n",
       "      <th>Light sleep percentage</th>\n",
       "      <th>Awakenings</th>\n",
       "      <th>Caffeine consumption</th>\n",
       "      <th>Alcohol consumption</th>\n",
       "      <th>Smoking status</th>\n",
       "      <th>Exercise frequency</th>\n",
       "    </tr>\n",
       "  </thead>\n",
       "  <tbody>\n",
       "    <tr>\n",
       "      <th>0</th>\n",
       "      <td>1</td>\n",
       "      <td>65</td>\n",
       "      <td>Female</td>\n",
       "      <td>2021-03-06 01:00:00</td>\n",
       "      <td>2021-03-06 07:00:00</td>\n",
       "      <td>6.0</td>\n",
       "      <td>0.88</td>\n",
       "      <td>18</td>\n",
       "      <td>70</td>\n",
       "      <td>12</td>\n",
       "      <td>0.0</td>\n",
       "      <td>0.0</td>\n",
       "      <td>0.0</td>\n",
       "      <td>Yes</td>\n",
       "      <td>3.0</td>\n",
       "    </tr>\n",
       "    <tr>\n",
       "      <th>1</th>\n",
       "      <td>2</td>\n",
       "      <td>69</td>\n",
       "      <td>Male</td>\n",
       "      <td>2021-12-05 02:00:00</td>\n",
       "      <td>2021-12-05 09:00:00</td>\n",
       "      <td>7.0</td>\n",
       "      <td>0.66</td>\n",
       "      <td>19</td>\n",
       "      <td>28</td>\n",
       "      <td>53</td>\n",
       "      <td>3.0</td>\n",
       "      <td>0.0</td>\n",
       "      <td>3.0</td>\n",
       "      <td>Yes</td>\n",
       "      <td>3.0</td>\n",
       "    </tr>\n",
       "    <tr>\n",
       "      <th>2</th>\n",
       "      <td>3</td>\n",
       "      <td>40</td>\n",
       "      <td>Female</td>\n",
       "      <td>2021-05-25 21:30:00</td>\n",
       "      <td>2021-05-25 05:30:00</td>\n",
       "      <td>8.0</td>\n",
       "      <td>0.89</td>\n",
       "      <td>20</td>\n",
       "      <td>70</td>\n",
       "      <td>10</td>\n",
       "      <td>1.0</td>\n",
       "      <td>0.0</td>\n",
       "      <td>0.0</td>\n",
       "      <td>No</td>\n",
       "      <td>3.0</td>\n",
       "    </tr>\n",
       "    <tr>\n",
       "      <th>3</th>\n",
       "      <td>4</td>\n",
       "      <td>40</td>\n",
       "      <td>Female</td>\n",
       "      <td>2021-11-03 02:30:00</td>\n",
       "      <td>2021-11-03 08:30:00</td>\n",
       "      <td>6.0</td>\n",
       "      <td>0.51</td>\n",
       "      <td>23</td>\n",
       "      <td>25</td>\n",
       "      <td>52</td>\n",
       "      <td>3.0</td>\n",
       "      <td>50.0</td>\n",
       "      <td>5.0</td>\n",
       "      <td>Yes</td>\n",
       "      <td>1.0</td>\n",
       "    </tr>\n",
       "    <tr>\n",
       "      <th>4</th>\n",
       "      <td>5</td>\n",
       "      <td>57</td>\n",
       "      <td>Male</td>\n",
       "      <td>2021-03-13 01:00:00</td>\n",
       "      <td>2021-03-13 09:00:00</td>\n",
       "      <td>8.0</td>\n",
       "      <td>0.76</td>\n",
       "      <td>27</td>\n",
       "      <td>55</td>\n",
       "      <td>18</td>\n",
       "      <td>3.0</td>\n",
       "      <td>0.0</td>\n",
       "      <td>3.0</td>\n",
       "      <td>No</td>\n",
       "      <td>3.0</td>\n",
       "    </tr>\n",
       "  </tbody>\n",
       "</table>\n",
       "</div>"
      ],
      "text/plain": [
       "   ID  Age  Gender              Bedtime          Wakeup time  Sleep duration  \\\n",
       "0   1   65  Female  2021-03-06 01:00:00  2021-03-06 07:00:00             6.0   \n",
       "1   2   69    Male  2021-12-05 02:00:00  2021-12-05 09:00:00             7.0   \n",
       "2   3   40  Female  2021-05-25 21:30:00  2021-05-25 05:30:00             8.0   \n",
       "3   4   40  Female  2021-11-03 02:30:00  2021-11-03 08:30:00             6.0   \n",
       "4   5   57    Male  2021-03-13 01:00:00  2021-03-13 09:00:00             8.0   \n",
       "\n",
       "   Sleep efficiency  REM sleep percentage  Deep sleep percentage  \\\n",
       "0              0.88                    18                     70   \n",
       "1              0.66                    19                     28   \n",
       "2              0.89                    20                     70   \n",
       "3              0.51                    23                     25   \n",
       "4              0.76                    27                     55   \n",
       "\n",
       "   Light sleep percentage  Awakenings  Caffeine consumption  \\\n",
       "0                      12         0.0                   0.0   \n",
       "1                      53         3.0                   0.0   \n",
       "2                      10         1.0                   0.0   \n",
       "3                      52         3.0                  50.0   \n",
       "4                      18         3.0                   0.0   \n",
       "\n",
       "   Alcohol consumption Smoking status  Exercise frequency  \n",
       "0                  0.0            Yes                 3.0  \n",
       "1                  3.0            Yes                 3.0  \n",
       "2                  0.0             No                 3.0  \n",
       "3                  5.0            Yes                 1.0  \n",
       "4                  3.0             No                 3.0  "
      ]
     },
     "execution_count": 2,
     "metadata": {},
     "output_type": "execute_result"
    }
   ],
   "source": [
    "sleep_df.head()"
   ]
  },
  {
   "cell_type": "markdown",
   "id": "71446b07",
   "metadata": {},
   "source": [
    "By using the `head` function, the researchers are able to get a glimpse of some records included in the dataset. Each row represents a specific person and their statistics while each column describe that statistic."
   ]
  },
  {
   "cell_type": "markdown",
   "id": "0d26b514",
   "metadata": {},
   "source": [
    "To understand the characteristics of the dataset (insights into the distribution and central tendency) and identify potential outliers, the researchers call the `describe` function which displays the summary statistics of the data."
   ]
  },
  {
   "cell_type": "code",
   "execution_count": 3,
   "id": "20dabdf1",
   "metadata": {},
   "outputs": [
    {
     "data": {
      "text/html": [
       "<div>\n",
       "<style scoped>\n",
       "    .dataframe tbody tr th:only-of-type {\n",
       "        vertical-align: middle;\n",
       "    }\n",
       "\n",
       "    .dataframe tbody tr th {\n",
       "        vertical-align: top;\n",
       "    }\n",
       "\n",
       "    .dataframe thead th {\n",
       "        text-align: right;\n",
       "    }\n",
       "</style>\n",
       "<table border=\"1\" class=\"dataframe\">\n",
       "  <thead>\n",
       "    <tr style=\"text-align: right;\">\n",
       "      <th></th>\n",
       "      <th>ID</th>\n",
       "      <th>Age</th>\n",
       "      <th>Sleep duration</th>\n",
       "      <th>Sleep efficiency</th>\n",
       "      <th>REM sleep percentage</th>\n",
       "      <th>Deep sleep percentage</th>\n",
       "      <th>Light sleep percentage</th>\n",
       "      <th>Awakenings</th>\n",
       "      <th>Caffeine consumption</th>\n",
       "      <th>Alcohol consumption</th>\n",
       "      <th>Exercise frequency</th>\n",
       "    </tr>\n",
       "  </thead>\n",
       "  <tbody>\n",
       "    <tr>\n",
       "      <th>count</th>\n",
       "      <td>452.000000</td>\n",
       "      <td>452.000000</td>\n",
       "      <td>452.000000</td>\n",
       "      <td>452.000000</td>\n",
       "      <td>452.000000</td>\n",
       "      <td>452.000000</td>\n",
       "      <td>452.000000</td>\n",
       "      <td>432.000000</td>\n",
       "      <td>427.000000</td>\n",
       "      <td>438.000000</td>\n",
       "      <td>446.000000</td>\n",
       "    </tr>\n",
       "    <tr>\n",
       "      <th>mean</th>\n",
       "      <td>226.500000</td>\n",
       "      <td>40.285398</td>\n",
       "      <td>7.465708</td>\n",
       "      <td>0.788916</td>\n",
       "      <td>22.615044</td>\n",
       "      <td>52.823009</td>\n",
       "      <td>24.561947</td>\n",
       "      <td>1.641204</td>\n",
       "      <td>23.653396</td>\n",
       "      <td>1.173516</td>\n",
       "      <td>1.791480</td>\n",
       "    </tr>\n",
       "    <tr>\n",
       "      <th>std</th>\n",
       "      <td>130.625419</td>\n",
       "      <td>13.172250</td>\n",
       "      <td>0.866625</td>\n",
       "      <td>0.135237</td>\n",
       "      <td>3.525963</td>\n",
       "      <td>15.654235</td>\n",
       "      <td>15.313665</td>\n",
       "      <td>1.356762</td>\n",
       "      <td>30.202785</td>\n",
       "      <td>1.621377</td>\n",
       "      <td>1.428134</td>\n",
       "    </tr>\n",
       "    <tr>\n",
       "      <th>min</th>\n",
       "      <td>1.000000</td>\n",
       "      <td>9.000000</td>\n",
       "      <td>5.000000</td>\n",
       "      <td>0.500000</td>\n",
       "      <td>15.000000</td>\n",
       "      <td>18.000000</td>\n",
       "      <td>7.000000</td>\n",
       "      <td>0.000000</td>\n",
       "      <td>0.000000</td>\n",
       "      <td>0.000000</td>\n",
       "      <td>0.000000</td>\n",
       "    </tr>\n",
       "    <tr>\n",
       "      <th>25%</th>\n",
       "      <td>113.750000</td>\n",
       "      <td>29.000000</td>\n",
       "      <td>7.000000</td>\n",
       "      <td>0.697500</td>\n",
       "      <td>20.000000</td>\n",
       "      <td>48.250000</td>\n",
       "      <td>15.000000</td>\n",
       "      <td>1.000000</td>\n",
       "      <td>0.000000</td>\n",
       "      <td>0.000000</td>\n",
       "      <td>0.000000</td>\n",
       "    </tr>\n",
       "    <tr>\n",
       "      <th>50%</th>\n",
       "      <td>226.500000</td>\n",
       "      <td>40.000000</td>\n",
       "      <td>7.500000</td>\n",
       "      <td>0.820000</td>\n",
       "      <td>22.000000</td>\n",
       "      <td>58.000000</td>\n",
       "      <td>18.000000</td>\n",
       "      <td>1.000000</td>\n",
       "      <td>25.000000</td>\n",
       "      <td>0.000000</td>\n",
       "      <td>2.000000</td>\n",
       "    </tr>\n",
       "    <tr>\n",
       "      <th>75%</th>\n",
       "      <td>339.250000</td>\n",
       "      <td>52.000000</td>\n",
       "      <td>8.000000</td>\n",
       "      <td>0.900000</td>\n",
       "      <td>25.000000</td>\n",
       "      <td>63.000000</td>\n",
       "      <td>32.500000</td>\n",
       "      <td>3.000000</td>\n",
       "      <td>50.000000</td>\n",
       "      <td>2.000000</td>\n",
       "      <td>3.000000</td>\n",
       "    </tr>\n",
       "    <tr>\n",
       "      <th>max</th>\n",
       "      <td>452.000000</td>\n",
       "      <td>69.000000</td>\n",
       "      <td>10.000000</td>\n",
       "      <td>0.990000</td>\n",
       "      <td>30.000000</td>\n",
       "      <td>75.000000</td>\n",
       "      <td>63.000000</td>\n",
       "      <td>4.000000</td>\n",
       "      <td>200.000000</td>\n",
       "      <td>5.000000</td>\n",
       "      <td>5.000000</td>\n",
       "    </tr>\n",
       "  </tbody>\n",
       "</table>\n",
       "</div>"
      ],
      "text/plain": [
       "               ID         Age  Sleep duration  Sleep efficiency  \\\n",
       "count  452.000000  452.000000      452.000000        452.000000   \n",
       "mean   226.500000   40.285398        7.465708          0.788916   \n",
       "std    130.625419   13.172250        0.866625          0.135237   \n",
       "min      1.000000    9.000000        5.000000          0.500000   \n",
       "25%    113.750000   29.000000        7.000000          0.697500   \n",
       "50%    226.500000   40.000000        7.500000          0.820000   \n",
       "75%    339.250000   52.000000        8.000000          0.900000   \n",
       "max    452.000000   69.000000       10.000000          0.990000   \n",
       "\n",
       "       REM sleep percentage  Deep sleep percentage  Light sleep percentage  \\\n",
       "count            452.000000             452.000000              452.000000   \n",
       "mean              22.615044              52.823009               24.561947   \n",
       "std                3.525963              15.654235               15.313665   \n",
       "min               15.000000              18.000000                7.000000   \n",
       "25%               20.000000              48.250000               15.000000   \n",
       "50%               22.000000              58.000000               18.000000   \n",
       "75%               25.000000              63.000000               32.500000   \n",
       "max               30.000000              75.000000               63.000000   \n",
       "\n",
       "       Awakenings  Caffeine consumption  Alcohol consumption  \\\n",
       "count  432.000000            427.000000           438.000000   \n",
       "mean     1.641204             23.653396             1.173516   \n",
       "std      1.356762             30.202785             1.621377   \n",
       "min      0.000000              0.000000             0.000000   \n",
       "25%      1.000000              0.000000             0.000000   \n",
       "50%      1.000000             25.000000             0.000000   \n",
       "75%      3.000000             50.000000             2.000000   \n",
       "max      4.000000            200.000000             5.000000   \n",
       "\n",
       "       Exercise frequency  \n",
       "count          446.000000  \n",
       "mean             1.791480  \n",
       "std              1.428134  \n",
       "min              0.000000  \n",
       "25%              0.000000  \n",
       "50%              2.000000  \n",
       "75%              3.000000  \n",
       "max              5.000000  "
      ]
     },
     "execution_count": 3,
     "metadata": {},
     "output_type": "execute_result"
    }
   ],
   "source": [
    "sleep_df.describe()"
   ]
  },
  {
   "cell_type": "markdown",
   "id": "c323ccfe",
   "metadata": {},
   "source": [
    "The `info` function is then be used to obtain the number of observations in the dataset as well as to know the data type of each column."
   ]
  },
  {
   "cell_type": "code",
   "execution_count": 4,
   "id": "210e7912",
   "metadata": {},
   "outputs": [
    {
     "name": "stdout",
     "output_type": "stream",
     "text": [
      "<class 'pandas.core.frame.DataFrame'>\n",
      "RangeIndex: 452 entries, 0 to 451\n",
      "Data columns (total 15 columns):\n",
      " #   Column                  Non-Null Count  Dtype  \n",
      "---  ------                  --------------  -----  \n",
      " 0   ID                      452 non-null    int64  \n",
      " 1   Age                     452 non-null    int64  \n",
      " 2   Gender                  452 non-null    object \n",
      " 3   Bedtime                 452 non-null    object \n",
      " 4   Wakeup time             452 non-null    object \n",
      " 5   Sleep duration          452 non-null    float64\n",
      " 6   Sleep efficiency        452 non-null    float64\n",
      " 7   REM sleep percentage    452 non-null    int64  \n",
      " 8   Deep sleep percentage   452 non-null    int64  \n",
      " 9   Light sleep percentage  452 non-null    int64  \n",
      " 10  Awakenings              432 non-null    float64\n",
      " 11  Caffeine consumption    427 non-null    float64\n",
      " 12  Alcohol consumption     438 non-null    float64\n",
      " 13  Smoking status          452 non-null    object \n",
      " 14  Exercise frequency      446 non-null    float64\n",
      "dtypes: float64(6), int64(5), object(4)\n",
      "memory usage: 53.1+ KB\n"
     ]
    }
   ],
   "source": [
    "sleep_df.info()"
   ]
  },
  {
   "cell_type": "markdown",
   "id": "a4baf5f7",
   "metadata": {},
   "source": [
    "From the results of the `info` function above, the researchers conclude that there are 452 entries in the dataset. Additionally, there are also 15 columns or variables that can be found in the dataset. A brief description of each variable can be seen below."
   ]
  },
  {
   "cell_type": "markdown",
   "id": "8015c6bf",
   "metadata": {},
   "source": [
    "### Variables Description\n",
    "\n",
    "<br>\n",
    "\n",
    "**ID:** a unique identifier for each test subject\n",
    "\n",
    "**Age:** age of the test subject\n",
    "\n",
    "**Gender:** male or female\n",
    "\n",
    "**Bedtime:** the time the test subject goes to bed each night\n",
    "\n",
    "**Wakeup time:** the time the test subject wakes up each morning \n",
    "\n",
    "**Sleep duration:** the total amount of time the test subject slept (in hours) \n",
    "\n",
    "**Sleep efficiency:** a measure of the proportion of time in bed spent asleep \n",
    "\n",
    "**REM sleep percentage:** the percentage of total sleep time spent in REM sleep \n",
    "\n",
    "**Deep sleep percentage:** the percentage of total sleep time spent in deep sleep \n",
    "\n",
    "**Light sleep percentage:** the percentage of total sleep time spent in light sleep \n",
    "\n",
    "**Awakenings:** the number of times the test subject wakes up during the night \n",
    "\n",
    "**Caffeine consumption:** the amount of caffeine consumed in the 24 hours prior to bedtime (in mg) \n",
    "\n",
    "**Alcohol consumption:** the amount of alcohol consumed in the 24 hours prior to bedtime (in oz) \n",
    "\n",
    "**Smoking status:** whether or not the test subject smokes \n",
    "\n",
    "**Exercise frequency:** the number of times the test subject exercises each week"
   ]
  },
  {
   "cell_type": "markdown",
   "id": "a0f28e56",
   "metadata": {},
   "source": [
    "## II. Data Cleaning"
   ]
  },
  {
   "cell_type": "markdown",
   "id": "4f37ec5e",
   "metadata": {},
   "source": [
    "### Renaming Column Names\n",
    "\n",
    "For a more efficient access to the different variables of the dataset, the researchers decided to rename some columns."
   ]
  },
  {
   "cell_type": "code",
   "execution_count": 5,
   "id": "1df3fd60",
   "metadata": {},
   "outputs": [
    {
     "name": "stdout",
     "output_type": "stream",
     "text": [
      "<class 'pandas.core.frame.DataFrame'>\n",
      "RangeIndex: 452 entries, 0 to 451\n",
      "Data columns (total 15 columns):\n",
      " #   Column            Non-Null Count  Dtype  \n",
      "---  ------            --------------  -----  \n",
      " 0   ID                452 non-null    int64  \n",
      " 1   Age               452 non-null    int64  \n",
      " 2   Gender            452 non-null    object \n",
      " 3   Bedtime           452 non-null    object \n",
      " 4   Wakeup time       452 non-null    object \n",
      " 5   Sleep duration    452 non-null    float64\n",
      " 6   Sleep efficiency  452 non-null    float64\n",
      " 7   RSP               452 non-null    int64  \n",
      " 8   DSP               452 non-null    int64  \n",
      " 9   LSP               452 non-null    int64  \n",
      " 10  Awakenings        432 non-null    float64\n",
      " 11  Caffeine          427 non-null    float64\n",
      " 12  Alcohol           438 non-null    float64\n",
      " 13  Smokes            452 non-null    object \n",
      " 14  Exercises         446 non-null    float64\n",
      "dtypes: float64(6), int64(5), object(4)\n",
      "memory usage: 53.1+ KB\n"
     ]
    }
   ],
   "source": [
    "sleep_df.rename(columns={ \"REM sleep percentage\" : \"RSP\",\n",
    "                          \"Deep sleep percentage\" : \"DSP\",\n",
    "                          \"Light sleep percentage\" : \"LSP\",\n",
    "                          \"Caffeine consumption\" : \"Caffeine\",\n",
    "                          \"Alcohol consumption\" : \"Alcohol\",\n",
    "                          \"Smoking status\" : \"Smokes\",\n",
    "                          \"Exercise frequency\" : \"Exercises\"}, inplace=True)\n",
    "sleep_df.info()"
   ]
  },
  {
   "cell_type": "markdown",
   "id": "c74d89d0",
   "metadata": {},
   "source": [
    "### Addressing Null Values\n",
    "\n",
    "The first thing the researchers noticed when they performed the `info` function above is that some columns from the dataset do not match the expected number of 452 observations. To address the null values of each variable, the researchers perform the following:"
   ]
  },
  {
   "cell_type": "markdown",
   "id": "c36edd01",
   "metadata": {},
   "source": [
    "To get the number of null values per column, a `null_counts` variable is initialized that is assigned the sum of null values of each column"
   ]
  },
  {
   "cell_type": "code",
   "execution_count": 6,
   "id": "cb0b878a",
   "metadata": {},
   "outputs": [
    {
     "name": "stdout",
     "output_type": "stream",
     "text": [
      "ID                   0\n",
      "Age                  0\n",
      "Gender               0\n",
      "Bedtime              0\n",
      "Wakeup time          0\n",
      "Sleep duration       0\n",
      "Sleep efficiency     0\n",
      "RSP                  0\n",
      "DSP                  0\n",
      "LSP                  0\n",
      "Awakenings          20\n",
      "Caffeine            25\n",
      "Alcohol             14\n",
      "Smokes               0\n",
      "Exercises            6\n",
      "dtype: int64\n"
     ]
    }
   ],
   "source": [
    "null_counts = sleep_df.isna().sum()\n",
    "print(null_counts)"
   ]
  },
  {
   "cell_type": "markdown",
   "id": "c7d9302f",
   "metadata": {},
   "source": [
    "After careful consideration of each column and what it represents, the researchers decided to replace the null values with a value of `0.0` instead of dropping the rows that contains missing data. This is because each of these variables either describes \"the number of times\" or \"the amount of times\" the test subject performs something. Thus, a value of `0.0` can represent that these test subjects did not perform these actions."
   ]
  },
  {
   "cell_type": "markdown",
   "id": "e08ef106",
   "metadata": {},
   "source": [
    "To replace the missing values with `0.0`, the following code is executed:"
   ]
  },
  {
   "cell_type": "code",
   "execution_count": 7,
   "id": "35f1e645",
   "metadata": {},
   "outputs": [
    {
     "name": "stdout",
     "output_type": "stream",
     "text": [
      "ID                  0\n",
      "Age                 0\n",
      "Gender              0\n",
      "Bedtime             0\n",
      "Wakeup time         0\n",
      "Sleep duration      0\n",
      "Sleep efficiency    0\n",
      "RSP                 0\n",
      "DSP                 0\n",
      "LSP                 0\n",
      "Awakenings          0\n",
      "Caffeine            0\n",
      "Alcohol             0\n",
      "Smokes              0\n",
      "Exercises           0\n",
      "dtype: int64\n"
     ]
    }
   ],
   "source": [
    "sleep_df = sleep_df.fillna(0.0)\n",
    "\n",
    "null_counts = sleep_df.isnull().sum()\n",
    "print(null_counts)"
   ]
  },
  {
   "cell_type": "markdown",
   "id": "ceda781e",
   "metadata": {},
   "source": [
    "### Multiple Representation\n",
    "\n",
    "The researchers also decided to check if there are multiple representations of data for object-type data such as `Gender` and `Smoking status`. To do this, the values of these variables and its count are obtained by performing the code below:"
   ]
  },
  {
   "cell_type": "code",
   "execution_count": 8,
   "id": "314f41b8",
   "metadata": {},
   "outputs": [
    {
     "name": "stdout",
     "output_type": "stream",
     "text": [
      "Male      228\n",
      "Female    224\n",
      "Name: Gender, dtype: int64\n",
      "\n",
      "\n",
      "No     298\n",
      "Yes    154\n",
      "Name: Smokes, dtype: int64\n"
     ]
    }
   ],
   "source": [
    "gender_counts = sleep_df['Gender'].value_counts()\n",
    "print(gender_counts)\n",
    "\n",
    "print(\"\\n\")\n",
    "ss_counts = sleep_df['Smokes'].value_counts()\n",
    "print(ss_counts)"
   ]
  },
  {
   "cell_type": "markdown",
   "id": "d1e3260b",
   "metadata": {},
   "source": [
    "The researchers concluded that there are no multiple representations of data."
   ]
  },
  {
   "cell_type": "markdown",
   "id": "8f7b6fc2",
   "metadata": {},
   "source": [
    "### Duplicate Data\n",
    "\n",
    "The researchers confirm after careful deliberation that duplicate values for each column, except for the individual ID of a test subject, is allowed. Thus the following code is performed to check if by mistake there are duplicate values of ID."
   ]
  },
  {
   "cell_type": "code",
   "execution_count": 9,
   "id": "2a65d212",
   "metadata": {},
   "outputs": [
    {
     "name": "stdout",
     "output_type": "stream",
     "text": [
      "False    452\n",
      "Name: ID, dtype: int64\n"
     ]
    }
   ],
   "source": [
    "id_duplicates = sleep_df['ID'].duplicated()\n",
    "\n",
    "id_duplicates_count = id_duplicates.value_counts()\n",
    "print(id_duplicates_count)"
   ]
  },
  {
   "cell_type": "markdown",
   "id": "59f2220b",
   "metadata": {},
   "source": [
    "The researchers confirm that there are no duplicate values in the variable `ID`."
   ]
  },
  {
   "cell_type": "markdown",
   "id": "176599e1",
   "metadata": {},
   "source": [
    "### Incorrect Datatype\n",
    "\n",
    "While inspecting the datatypes of each variable, the researchers noticed that the variables REM sleep percentage, Deep sleep percentage, and Light sleep percentage are in `int64` type. Although this would not cause any errors as long as addressed properly, the researchers decided to convert them in their decimal format and transform the data type to `float64`."
   ]
  },
  {
   "cell_type": "code",
   "execution_count": 10,
   "id": "5ff5d103",
   "metadata": {},
   "outputs": [
    {
     "name": "stdout",
     "output_type": "stream",
     "text": [
      "<class 'pandas.core.frame.DataFrame'>\n",
      "RangeIndex: 452 entries, 0 to 451\n",
      "Data columns (total 15 columns):\n",
      " #   Column            Non-Null Count  Dtype  \n",
      "---  ------            --------------  -----  \n",
      " 0   ID                452 non-null    int64  \n",
      " 1   Age               452 non-null    int64  \n",
      " 2   Gender            452 non-null    object \n",
      " 3   Bedtime           452 non-null    object \n",
      " 4   Wakeup time       452 non-null    object \n",
      " 5   Sleep duration    452 non-null    float64\n",
      " 6   Sleep efficiency  452 non-null    float64\n",
      " 7   RSP               452 non-null    float64\n",
      " 8   DSP               452 non-null    float64\n",
      " 9   LSP               452 non-null    float64\n",
      " 10  Awakenings        452 non-null    float64\n",
      " 11  Caffeine          452 non-null    float64\n",
      " 12  Alcohol           452 non-null    float64\n",
      " 13  Smokes            452 non-null    object \n",
      " 14  Exercises         452 non-null    float64\n",
      "dtypes: float64(9), int64(2), object(4)\n",
      "memory usage: 53.1+ KB\n"
     ]
    }
   ],
   "source": [
    "sleep_df['RSP'] = sleep_df['RSP'].astype('float64')\n",
    "sleep_df['DSP'] = sleep_df['DSP'].astype('float64')\n",
    "sleep_df['LSP'] = sleep_df['LSP'].astype('float64')\n",
    "\n",
    "sleep_df.info()"
   ]
  },
  {
   "cell_type": "markdown",
   "id": "1ae1e40b",
   "metadata": {},
   "source": [
    "Afterwards, each value in all three columns would then be divided by `100.0` to get the equivalent value from its integer form."
   ]
  },
  {
   "cell_type": "code",
   "execution_count": 11,
   "id": "6f6a3ff2",
   "metadata": {},
   "outputs": [
    {
     "data": {
      "text/html": [
       "<div>\n",
       "<style scoped>\n",
       "    .dataframe tbody tr th:only-of-type {\n",
       "        vertical-align: middle;\n",
       "    }\n",
       "\n",
       "    .dataframe tbody tr th {\n",
       "        vertical-align: top;\n",
       "    }\n",
       "\n",
       "    .dataframe thead th {\n",
       "        text-align: right;\n",
       "    }\n",
       "</style>\n",
       "<table border=\"1\" class=\"dataframe\">\n",
       "  <thead>\n",
       "    <tr style=\"text-align: right;\">\n",
       "      <th></th>\n",
       "      <th>RSP</th>\n",
       "      <th>DSP</th>\n",
       "      <th>LSP</th>\n",
       "    </tr>\n",
       "  </thead>\n",
       "  <tbody>\n",
       "    <tr>\n",
       "      <th>0</th>\n",
       "      <td>0.18</td>\n",
       "      <td>0.70</td>\n",
       "      <td>0.12</td>\n",
       "    </tr>\n",
       "    <tr>\n",
       "      <th>1</th>\n",
       "      <td>0.19</td>\n",
       "      <td>0.28</td>\n",
       "      <td>0.53</td>\n",
       "    </tr>\n",
       "    <tr>\n",
       "      <th>2</th>\n",
       "      <td>0.20</td>\n",
       "      <td>0.70</td>\n",
       "      <td>0.10</td>\n",
       "    </tr>\n",
       "    <tr>\n",
       "      <th>3</th>\n",
       "      <td>0.23</td>\n",
       "      <td>0.25</td>\n",
       "      <td>0.52</td>\n",
       "    </tr>\n",
       "    <tr>\n",
       "      <th>4</th>\n",
       "      <td>0.27</td>\n",
       "      <td>0.55</td>\n",
       "      <td>0.18</td>\n",
       "    </tr>\n",
       "  </tbody>\n",
       "</table>\n",
       "</div>"
      ],
      "text/plain": [
       "    RSP   DSP   LSP\n",
       "0  0.18  0.70  0.12\n",
       "1  0.19  0.28  0.53\n",
       "2  0.20  0.70  0.10\n",
       "3  0.23  0.25  0.52\n",
       "4  0.27  0.55  0.18"
      ]
     },
     "execution_count": 11,
     "metadata": {},
     "output_type": "execute_result"
    }
   ],
   "source": [
    "sleep_df['RSP'] = sleep_df['RSP'] / 100.0\n",
    "sleep_df['DSP'] = sleep_df['DSP'] / 100.0\n",
    "sleep_df['LSP'] = sleep_df['LSP'] / 100.0\n",
    "\n",
    "sleep_df[['RSP', 'DSP', 'LSP']].head()"
   ]
  },
  {
   "cell_type": "markdown",
   "id": "1bce613c",
   "metadata": {},
   "source": [
    "### Inconsistent Format"
   ]
  },
  {
   "cell_type": "code",
   "execution_count": 12,
   "id": "ae30b04d",
   "metadata": {},
   "outputs": [],
   "source": [
    "### not sure how to address bedtime and wakeup time because may date siya and not just the time"
   ]
  }
 ],
 "metadata": {
  "kernelspec": {
   "display_name": "Python 3 (ipykernel)",
   "language": "python",
   "name": "python3"
  },
  "language_info": {
   "codemirror_mode": {
    "name": "ipython",
    "version": 3
   },
   "file_extension": ".py",
   "mimetype": "text/x-python",
   "name": "python",
   "nbconvert_exporter": "python",
   "pygments_lexer": "ipython3",
   "version": "3.11.4"
  }
 },
 "nbformat": 4,
 "nbformat_minor": 5
}
