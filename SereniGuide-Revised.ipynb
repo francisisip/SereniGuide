{
 "cells": [
  {
   "cell_type": "markdown",
   "id": "e9744049",
   "metadata": {},
   "source": [
    "# SereniGuide: a sleep wellness tracking app\n",
    "\n",
    "<div style=\"font-style: italic;\">\n",
    "    <br>\n",
    "    <p style=\"margin-top: 0; margin-bottom: 0;\"> EMPATHY S11 </p>\n",
    "    <p style=\"margin-top: 0; margin-bottom: 0;\"> Group 2: Bawa, Gomez, Lejano, Nadela, Roxas</p>\n",
    "</div>"
   ]
  },
  {
   "cell_type": "markdown",
   "id": "d09f6a95",
   "metadata": {},
   "source": [
    "## I. Dataset Description\n",
    "\n",
    "Sleep is crucial for the overall health of a person and their emotional well-being. It allows the body to recharge so that people can function properly and perform their daily tasks. Sleep efficiency is a metric that measures the percentage of time spent asleep compared to the total time spent in bed. It reflects the effectiveness of sleep duration in relation to the time spent attempting to sleep. \n",
    "\n",
    "The dataset this project used is sourced from Kaggle and titled: \"Sleep Efficiency Dataset\". The dataset provides insights into the sleep patterns of a group of test subjects, including details on their sleep duration, efficiency, stages, and nocturnal awakenings. It also includes information on factors such as caffeine and alcohol consumption, smoking habits, exercise frequency, age, and gender. "
   ]
  },
  {
   "cell_type": "markdown",
   "id": "edefea2b",
   "metadata": {},
   "source": [
    "### Collection Methodology\n",
    "\n",
    "The dataset originates from a research study conducted in Morocco by a team of artificial intelligence engineering students from ENSIAS. Over a period of several months, the team enlisted participants from the local community and gathered data through a blend of self-reported surveys, actigraphy, and polysomnography—a method for monitoring sleep patterns."
   ]
  },
  {
   "cell_type": "markdown",
   "id": "80c7d3f0",
   "metadata": {},
   "source": [
    "### Structure of the Dataset\n",
    "\n",
    "To take a look at the structure of the dataset, as well as to manipulate and analyze the data, some libraries in Python (such as NumPy and Pandas) are imported. The dataset downloaded from [Kaggle](https://www.kaggle.com/datasets/equilibriumm/sleep-efficiency) is also imported using Pandas."
   ]
  },
  {
   "cell_type": "code",
   "execution_count": 1,
   "id": "82849b6f",
   "metadata": {},
   "outputs": [],
   "source": [
    "import numpy as np\n",
    "import pandas as pd\n",
    "\n",
    "sleep_df = pd.read_csv(\"Sleep_Efficiency.csv\")"
   ]
  },
  {
   "cell_type": "code",
   "execution_count": 2,
   "id": "457982a7",
   "metadata": {},
   "outputs": [
    {
     "data": {
      "text/html": [
       "<div>\n",
       "<style scoped>\n",
       "    .dataframe tbody tr th:only-of-type {\n",
       "        vertical-align: middle;\n",
       "    }\n",
       "\n",
       "    .dataframe tbody tr th {\n",
       "        vertical-align: top;\n",
       "    }\n",
       "\n",
       "    .dataframe thead th {\n",
       "        text-align: right;\n",
       "    }\n",
       "</style>\n",
       "<table border=\"1\" class=\"dataframe\">\n",
       "  <thead>\n",
       "    <tr style=\"text-align: right;\">\n",
       "      <th></th>\n",
       "      <th>ID</th>\n",
       "      <th>Age</th>\n",
       "      <th>Gender</th>\n",
       "      <th>Bedtime</th>\n",
       "      <th>Wakeup time</th>\n",
       "      <th>Sleep duration</th>\n",
       "      <th>Sleep efficiency</th>\n",
       "      <th>REM sleep percentage</th>\n",
       "      <th>Deep sleep percentage</th>\n",
       "      <th>Light sleep percentage</th>\n",
       "      <th>Awakenings</th>\n",
       "      <th>Caffeine consumption</th>\n",
       "      <th>Alcohol consumption</th>\n",
       "      <th>Smoking status</th>\n",
       "      <th>Exercise frequency</th>\n",
       "    </tr>\n",
       "  </thead>\n",
       "  <tbody>\n",
       "    <tr>\n",
       "      <th>0</th>\n",
       "      <td>1</td>\n",
       "      <td>65</td>\n",
       "      <td>Female</td>\n",
       "      <td>2021-03-06 01:00:00</td>\n",
       "      <td>2021-03-06 07:00:00</td>\n",
       "      <td>6.0</td>\n",
       "      <td>0.88</td>\n",
       "      <td>18</td>\n",
       "      <td>70</td>\n",
       "      <td>12</td>\n",
       "      <td>0.0</td>\n",
       "      <td>0.0</td>\n",
       "      <td>0.0</td>\n",
       "      <td>Yes</td>\n",
       "      <td>3.0</td>\n",
       "    </tr>\n",
       "    <tr>\n",
       "      <th>1</th>\n",
       "      <td>2</td>\n",
       "      <td>69</td>\n",
       "      <td>Male</td>\n",
       "      <td>2021-12-05 02:00:00</td>\n",
       "      <td>2021-12-05 09:00:00</td>\n",
       "      <td>7.0</td>\n",
       "      <td>0.66</td>\n",
       "      <td>19</td>\n",
       "      <td>28</td>\n",
       "      <td>53</td>\n",
       "      <td>3.0</td>\n",
       "      <td>0.0</td>\n",
       "      <td>3.0</td>\n",
       "      <td>Yes</td>\n",
       "      <td>3.0</td>\n",
       "    </tr>\n",
       "    <tr>\n",
       "      <th>2</th>\n",
       "      <td>3</td>\n",
       "      <td>40</td>\n",
       "      <td>Female</td>\n",
       "      <td>2021-05-25 21:30:00</td>\n",
       "      <td>2021-05-25 05:30:00</td>\n",
       "      <td>8.0</td>\n",
       "      <td>0.89</td>\n",
       "      <td>20</td>\n",
       "      <td>70</td>\n",
       "      <td>10</td>\n",
       "      <td>1.0</td>\n",
       "      <td>0.0</td>\n",
       "      <td>0.0</td>\n",
       "      <td>No</td>\n",
       "      <td>3.0</td>\n",
       "    </tr>\n",
       "    <tr>\n",
       "      <th>3</th>\n",
       "      <td>4</td>\n",
       "      <td>40</td>\n",
       "      <td>Female</td>\n",
       "      <td>2021-11-03 02:30:00</td>\n",
       "      <td>2021-11-03 08:30:00</td>\n",
       "      <td>6.0</td>\n",
       "      <td>0.51</td>\n",
       "      <td>23</td>\n",
       "      <td>25</td>\n",
       "      <td>52</td>\n",
       "      <td>3.0</td>\n",
       "      <td>50.0</td>\n",
       "      <td>5.0</td>\n",
       "      <td>Yes</td>\n",
       "      <td>1.0</td>\n",
       "    </tr>\n",
       "    <tr>\n",
       "      <th>4</th>\n",
       "      <td>5</td>\n",
       "      <td>57</td>\n",
       "      <td>Male</td>\n",
       "      <td>2021-03-13 01:00:00</td>\n",
       "      <td>2021-03-13 09:00:00</td>\n",
       "      <td>8.0</td>\n",
       "      <td>0.76</td>\n",
       "      <td>27</td>\n",
       "      <td>55</td>\n",
       "      <td>18</td>\n",
       "      <td>3.0</td>\n",
       "      <td>0.0</td>\n",
       "      <td>3.0</td>\n",
       "      <td>No</td>\n",
       "      <td>3.0</td>\n",
       "    </tr>\n",
       "  </tbody>\n",
       "</table>\n",
       "</div>"
      ],
      "text/plain": [
       "   ID  Age  Gender              Bedtime          Wakeup time  Sleep duration  \\\n",
       "0   1   65  Female  2021-03-06 01:00:00  2021-03-06 07:00:00             6.0   \n",
       "1   2   69    Male  2021-12-05 02:00:00  2021-12-05 09:00:00             7.0   \n",
       "2   3   40  Female  2021-05-25 21:30:00  2021-05-25 05:30:00             8.0   \n",
       "3   4   40  Female  2021-11-03 02:30:00  2021-11-03 08:30:00             6.0   \n",
       "4   5   57    Male  2021-03-13 01:00:00  2021-03-13 09:00:00             8.0   \n",
       "\n",
       "   Sleep efficiency  REM sleep percentage  Deep sleep percentage  \\\n",
       "0              0.88                    18                     70   \n",
       "1              0.66                    19                     28   \n",
       "2              0.89                    20                     70   \n",
       "3              0.51                    23                     25   \n",
       "4              0.76                    27                     55   \n",
       "\n",
       "   Light sleep percentage  Awakenings  Caffeine consumption  \\\n",
       "0                      12         0.0                   0.0   \n",
       "1                      53         3.0                   0.0   \n",
       "2                      10         1.0                   0.0   \n",
       "3                      52         3.0                  50.0   \n",
       "4                      18         3.0                   0.0   \n",
       "\n",
       "   Alcohol consumption Smoking status  Exercise frequency  \n",
       "0                  0.0            Yes                 3.0  \n",
       "1                  3.0            Yes                 3.0  \n",
       "2                  0.0             No                 3.0  \n",
       "3                  5.0            Yes                 1.0  \n",
       "4                  3.0             No                 3.0  "
      ]
     },
     "execution_count": 2,
     "metadata": {},
     "output_type": "execute_result"
    }
   ],
   "source": [
    "sleep_df.head()"
   ]
  },
  {
   "cell_type": "markdown",
   "id": "71446b07",
   "metadata": {},
   "source": [
    "By using the `head` function, the researchers are able to get a glimpse of some records included in the dataset. Each row represents a specific person and their statistics while each column describe that statistic."
   ]
  },
  {
   "cell_type": "markdown",
   "id": "0d26b514",
   "metadata": {},
   "source": [
    "To understand the characteristics of the dataset (insights into the distribution and central tendency) and identify potential outliers, the researchers call the `describe` function which displays the summary statistics of the data."
   ]
  },
  {
   "cell_type": "code",
   "execution_count": 3,
   "id": "20dabdf1",
   "metadata": {},
   "outputs": [
    {
     "data": {
      "text/html": [
       "<div>\n",
       "<style scoped>\n",
       "    .dataframe tbody tr th:only-of-type {\n",
       "        vertical-align: middle;\n",
       "    }\n",
       "\n",
       "    .dataframe tbody tr th {\n",
       "        vertical-align: top;\n",
       "    }\n",
       "\n",
       "    .dataframe thead th {\n",
       "        text-align: right;\n",
       "    }\n",
       "</style>\n",
       "<table border=\"1\" class=\"dataframe\">\n",
       "  <thead>\n",
       "    <tr style=\"text-align: right;\">\n",
       "      <th></th>\n",
       "      <th>ID</th>\n",
       "      <th>Age</th>\n",
       "      <th>Sleep duration</th>\n",
       "      <th>Sleep efficiency</th>\n",
       "      <th>REM sleep percentage</th>\n",
       "      <th>Deep sleep percentage</th>\n",
       "      <th>Light sleep percentage</th>\n",
       "      <th>Awakenings</th>\n",
       "      <th>Caffeine consumption</th>\n",
       "      <th>Alcohol consumption</th>\n",
       "      <th>Exercise frequency</th>\n",
       "    </tr>\n",
       "  </thead>\n",
       "  <tbody>\n",
       "    <tr>\n",
       "      <th>count</th>\n",
       "      <td>452.000000</td>\n",
       "      <td>452.000000</td>\n",
       "      <td>452.000000</td>\n",
       "      <td>452.000000</td>\n",
       "      <td>452.000000</td>\n",
       "      <td>452.000000</td>\n",
       "      <td>452.000000</td>\n",
       "      <td>432.000000</td>\n",
       "      <td>427.000000</td>\n",
       "      <td>438.000000</td>\n",
       "      <td>446.000000</td>\n",
       "    </tr>\n",
       "    <tr>\n",
       "      <th>mean</th>\n",
       "      <td>226.500000</td>\n",
       "      <td>40.285398</td>\n",
       "      <td>7.465708</td>\n",
       "      <td>0.788916</td>\n",
       "      <td>22.615044</td>\n",
       "      <td>52.823009</td>\n",
       "      <td>24.561947</td>\n",
       "      <td>1.641204</td>\n",
       "      <td>23.653396</td>\n",
       "      <td>1.173516</td>\n",
       "      <td>1.791480</td>\n",
       "    </tr>\n",
       "    <tr>\n",
       "      <th>std</th>\n",
       "      <td>130.625419</td>\n",
       "      <td>13.172250</td>\n",
       "      <td>0.866625</td>\n",
       "      <td>0.135237</td>\n",
       "      <td>3.525963</td>\n",
       "      <td>15.654235</td>\n",
       "      <td>15.313665</td>\n",
       "      <td>1.356762</td>\n",
       "      <td>30.202785</td>\n",
       "      <td>1.621377</td>\n",
       "      <td>1.428134</td>\n",
       "    </tr>\n",
       "    <tr>\n",
       "      <th>min</th>\n",
       "      <td>1.000000</td>\n",
       "      <td>9.000000</td>\n",
       "      <td>5.000000</td>\n",
       "      <td>0.500000</td>\n",
       "      <td>15.000000</td>\n",
       "      <td>18.000000</td>\n",
       "      <td>7.000000</td>\n",
       "      <td>0.000000</td>\n",
       "      <td>0.000000</td>\n",
       "      <td>0.000000</td>\n",
       "      <td>0.000000</td>\n",
       "    </tr>\n",
       "    <tr>\n",
       "      <th>25%</th>\n",
       "      <td>113.750000</td>\n",
       "      <td>29.000000</td>\n",
       "      <td>7.000000</td>\n",
       "      <td>0.697500</td>\n",
       "      <td>20.000000</td>\n",
       "      <td>48.250000</td>\n",
       "      <td>15.000000</td>\n",
       "      <td>1.000000</td>\n",
       "      <td>0.000000</td>\n",
       "      <td>0.000000</td>\n",
       "      <td>0.000000</td>\n",
       "    </tr>\n",
       "    <tr>\n",
       "      <th>50%</th>\n",
       "      <td>226.500000</td>\n",
       "      <td>40.000000</td>\n",
       "      <td>7.500000</td>\n",
       "      <td>0.820000</td>\n",
       "      <td>22.000000</td>\n",
       "      <td>58.000000</td>\n",
       "      <td>18.000000</td>\n",
       "      <td>1.000000</td>\n",
       "      <td>25.000000</td>\n",
       "      <td>0.000000</td>\n",
       "      <td>2.000000</td>\n",
       "    </tr>\n",
       "    <tr>\n",
       "      <th>75%</th>\n",
       "      <td>339.250000</td>\n",
       "      <td>52.000000</td>\n",
       "      <td>8.000000</td>\n",
       "      <td>0.900000</td>\n",
       "      <td>25.000000</td>\n",
       "      <td>63.000000</td>\n",
       "      <td>32.500000</td>\n",
       "      <td>3.000000</td>\n",
       "      <td>50.000000</td>\n",
       "      <td>2.000000</td>\n",
       "      <td>3.000000</td>\n",
       "    </tr>\n",
       "    <tr>\n",
       "      <th>max</th>\n",
       "      <td>452.000000</td>\n",
       "      <td>69.000000</td>\n",
       "      <td>10.000000</td>\n",
       "      <td>0.990000</td>\n",
       "      <td>30.000000</td>\n",
       "      <td>75.000000</td>\n",
       "      <td>63.000000</td>\n",
       "      <td>4.000000</td>\n",
       "      <td>200.000000</td>\n",
       "      <td>5.000000</td>\n",
       "      <td>5.000000</td>\n",
       "    </tr>\n",
       "  </tbody>\n",
       "</table>\n",
       "</div>"
      ],
      "text/plain": [
       "               ID         Age  Sleep duration  Sleep efficiency  \\\n",
       "count  452.000000  452.000000      452.000000        452.000000   \n",
       "mean   226.500000   40.285398        7.465708          0.788916   \n",
       "std    130.625419   13.172250        0.866625          0.135237   \n",
       "min      1.000000    9.000000        5.000000          0.500000   \n",
       "25%    113.750000   29.000000        7.000000          0.697500   \n",
       "50%    226.500000   40.000000        7.500000          0.820000   \n",
       "75%    339.250000   52.000000        8.000000          0.900000   \n",
       "max    452.000000   69.000000       10.000000          0.990000   \n",
       "\n",
       "       REM sleep percentage  Deep sleep percentage  Light sleep percentage  \\\n",
       "count            452.000000             452.000000              452.000000   \n",
       "mean              22.615044              52.823009               24.561947   \n",
       "std                3.525963              15.654235               15.313665   \n",
       "min               15.000000              18.000000                7.000000   \n",
       "25%               20.000000              48.250000               15.000000   \n",
       "50%               22.000000              58.000000               18.000000   \n",
       "75%               25.000000              63.000000               32.500000   \n",
       "max               30.000000              75.000000               63.000000   \n",
       "\n",
       "       Awakenings  Caffeine consumption  Alcohol consumption  \\\n",
       "count  432.000000            427.000000           438.000000   \n",
       "mean     1.641204             23.653396             1.173516   \n",
       "std      1.356762             30.202785             1.621377   \n",
       "min      0.000000              0.000000             0.000000   \n",
       "25%      1.000000              0.000000             0.000000   \n",
       "50%      1.000000             25.000000             0.000000   \n",
       "75%      3.000000             50.000000             2.000000   \n",
       "max      4.000000            200.000000             5.000000   \n",
       "\n",
       "       Exercise frequency  \n",
       "count          446.000000  \n",
       "mean             1.791480  \n",
       "std              1.428134  \n",
       "min              0.000000  \n",
       "25%              0.000000  \n",
       "50%              2.000000  \n",
       "75%              3.000000  \n",
       "max              5.000000  "
      ]
     },
     "execution_count": 3,
     "metadata": {},
     "output_type": "execute_result"
    }
   ],
   "source": [
    "sleep_df.describe()"
   ]
  },
  {
   "cell_type": "markdown",
   "id": "c323ccfe",
   "metadata": {},
   "source": [
    "The `info` function is then be used to obtain the number of observations in the dataset as well as to know the data type of each column."
   ]
  },
  {
   "cell_type": "code",
   "execution_count": 4,
   "id": "210e7912",
   "metadata": {},
   "outputs": [
    {
     "name": "stdout",
     "output_type": "stream",
     "text": [
      "<class 'pandas.core.frame.DataFrame'>\n",
      "RangeIndex: 452 entries, 0 to 451\n",
      "Data columns (total 15 columns):\n",
      " #   Column                  Non-Null Count  Dtype  \n",
      "---  ------                  --------------  -----  \n",
      " 0   ID                      452 non-null    int64  \n",
      " 1   Age                     452 non-null    int64  \n",
      " 2   Gender                  452 non-null    object \n",
      " 3   Bedtime                 452 non-null    object \n",
      " 4   Wakeup time             452 non-null    object \n",
      " 5   Sleep duration          452 non-null    float64\n",
      " 6   Sleep efficiency        452 non-null    float64\n",
      " 7   REM sleep percentage    452 non-null    int64  \n",
      " 8   Deep sleep percentage   452 non-null    int64  \n",
      " 9   Light sleep percentage  452 non-null    int64  \n",
      " 10  Awakenings              432 non-null    float64\n",
      " 11  Caffeine consumption    427 non-null    float64\n",
      " 12  Alcohol consumption     438 non-null    float64\n",
      " 13  Smoking status          452 non-null    object \n",
      " 14  Exercise frequency      446 non-null    float64\n",
      "dtypes: float64(6), int64(5), object(4)\n",
      "memory usage: 53.1+ KB\n"
     ]
    }
   ],
   "source": [
    "sleep_df.info()"
   ]
  },
  {
   "cell_type": "markdown",
   "id": "a4baf5f7",
   "metadata": {},
   "source": [
    "From the results of the `info` function above, the researchers conclude that there are 452 entries in the dataset. Additionally, there are also 15 columns or variables that can be found in the dataset. A brief description of each variable can be seen below."
   ]
  },
  {
   "cell_type": "markdown",
   "id": "8015c6bf",
   "metadata": {},
   "source": [
    "### Variables Description\n",
    "\n",
    "<br>\n",
    "\n",
    "**ID:** a unique identifier for each test subject\n",
    "\n",
    "**Age:** age of the test subject\n",
    "\n",
    "**Gender:** male or female\n",
    "\n",
    "**Bedtime:** the time the test subject goes to bed each night\n",
    "\n",
    "**Wakeup time:** the time the test subject wakes up each morning \n",
    "\n",
    "**Sleep duration:** the total amount of time the test subject slept (in hours) \n",
    "\n",
    "**Sleep efficiency:** a measure of the proportion of time in bed spent asleep \n",
    "\n",
    "**REM sleep percentage:** the percentage of total sleep time spent in REM sleep \n",
    "\n",
    "**Deep sleep percentage:** the percentage of total sleep time spent in deep sleep \n",
    "\n",
    "**Light sleep percentage:** the percentage of total sleep time spent in light sleep \n",
    "\n",
    "**Awakenings:** the number of times the test subject wakes up during the night \n",
    "\n",
    "**Caffeine consumption:** the amount of caffeine consumed in the 24 hours prior to bedtime (in mg) \n",
    "\n",
    "**Alcohol consumption:** the amount of alcohol consumed in the 24 hours prior to bedtime (in oz) \n",
    "\n",
    "**Smoking status:** whether or not the test subject smokes \n",
    "\n",
    "**Exercise frequency:** the number of times the test subject exercises each week"
   ]
  },
  {
   "cell_type": "markdown",
   "id": "a0f28e56",
   "metadata": {},
   "source": [
    "## II. Data Cleaning"
   ]
  },
  {
   "cell_type": "markdown",
   "id": "4f37ec5e",
   "metadata": {},
   "source": [
    "### Renaming Column Names\n",
    "\n",
    "For a more efficient access to the different variables of the dataset, the researchers decided to rename some columns."
   ]
  },
  {
   "cell_type": "code",
   "execution_count": 5,
   "id": "1df3fd60",
   "metadata": {},
   "outputs": [
    {
     "name": "stdout",
     "output_type": "stream",
     "text": [
      "<class 'pandas.core.frame.DataFrame'>\n",
      "RangeIndex: 452 entries, 0 to 451\n",
      "Data columns (total 15 columns):\n",
      " #   Column            Non-Null Count  Dtype  \n",
      "---  ------            --------------  -----  \n",
      " 0   ID                452 non-null    int64  \n",
      " 1   Age               452 non-null    int64  \n",
      " 2   Gender            452 non-null    object \n",
      " 3   Bedtime           452 non-null    object \n",
      " 4   Wakeup time       452 non-null    object \n",
      " 5   Sleep_Duration    452 non-null    float64\n",
      " 6   Sleep efficiency  452 non-null    float64\n",
      " 7   RSP               452 non-null    int64  \n",
      " 8   DSP               452 non-null    int64  \n",
      " 9   LSP               452 non-null    int64  \n",
      " 10  Awakenings        432 non-null    float64\n",
      " 11  Caffeine          427 non-null    float64\n",
      " 12  Alcohol           438 non-null    float64\n",
      " 13  Smokes            452 non-null    object \n",
      " 14  Exercises         446 non-null    float64\n",
      "dtypes: float64(6), int64(5), object(4)\n",
      "memory usage: 53.1+ KB\n"
     ]
    }
   ],
   "source": [
    "sleep_df.rename(columns={ \"REM sleep percentage\" : \"RSP\",\n",
    "                          \"Deep sleep percentage\" : \"DSP\",\n",
    "                          \"Light sleep percentage\" : \"LSP\",\n",
    "                          \"Caffeine consumption\" : \"Caffeine\",\n",
    "                          \"Alcohol consumption\" : \"Alcohol\",\n",
    "                          \"Smoking status\" : \"Smokes\",\n",
    "                         \"Sleep duration\": \"Sleep_Duration\",\n",
    "                          \"Exercise frequency\" : \"Exercises\"}, inplace=True)\n",
    "sleep_df.info()"
   ]
  },
  {
   "cell_type": "markdown",
   "id": "c74d89d0",
   "metadata": {},
   "source": [
    "### Addressing Null Values\n",
    "\n",
    "The first thing the researchers noticed when they performed the `info` function above is that some columns from the dataset do not match the expected number of 452 observations. To address the null values of each variable, the researchers perform the following:"
   ]
  },
  {
   "cell_type": "markdown",
   "id": "c36edd01",
   "metadata": {},
   "source": [
    "To get the number of null values per column, a `null_counts` variable is initialized that is assigned the sum of null values of each column"
   ]
  },
  {
   "cell_type": "code",
   "execution_count": 6,
   "id": "cb0b878a",
   "metadata": {},
   "outputs": [
    {
     "name": "stdout",
     "output_type": "stream",
     "text": [
      "ID                   0\n",
      "Age                  0\n",
      "Gender               0\n",
      "Bedtime              0\n",
      "Wakeup time          0\n",
      "Sleep_Duration       0\n",
      "Sleep efficiency     0\n",
      "RSP                  0\n",
      "DSP                  0\n",
      "LSP                  0\n",
      "Awakenings          20\n",
      "Caffeine            25\n",
      "Alcohol             14\n",
      "Smokes               0\n",
      "Exercises            6\n",
      "dtype: int64\n"
     ]
    }
   ],
   "source": [
    "null_counts = sleep_df.isna().sum()\n",
    "print(null_counts)"
   ]
  },
  {
   "cell_type": "markdown",
   "id": "c7d9302f",
   "metadata": {},
   "source": [
    "After careful consideration of each column and what it represents, the researchers decided to replace the null values with a value of `0.0` instead of dropping the rows that contains missing data. This is because each of these variables either describes \"the number of times\" or \"the amount of times\" the test subject performs something. Thus, a value of `0.0` can represent that these test subjects did not perform these actions."
   ]
  },
  {
   "cell_type": "markdown",
   "id": "e08ef106",
   "metadata": {},
   "source": [
    "To replace the missing values with `0.0`, the following code is executed:"
   ]
  },
  {
   "cell_type": "code",
   "execution_count": 7,
   "id": "35f1e645",
   "metadata": {},
   "outputs": [
    {
     "name": "stdout",
     "output_type": "stream",
     "text": [
      "ID                  0\n",
      "Age                 0\n",
      "Gender              0\n",
      "Bedtime             0\n",
      "Wakeup time         0\n",
      "Sleep_Duration      0\n",
      "Sleep efficiency    0\n",
      "RSP                 0\n",
      "DSP                 0\n",
      "LSP                 0\n",
      "Awakenings          0\n",
      "Caffeine            0\n",
      "Alcohol             0\n",
      "Smokes              0\n",
      "Exercises           0\n",
      "dtype: int64\n"
     ]
    }
   ],
   "source": [
    "sleep_df = sleep_df.fillna(0.0)\n",
    "\n",
    "null_counts = sleep_df.isna().sum()\n",
    "print(null_counts)"
   ]
  },
  {
   "cell_type": "markdown",
   "id": "ceda781e",
   "metadata": {},
   "source": [
    "### Multiple Representation\n",
    "\n",
    "The researchers also decided to check if there are multiple representations of data for object-type data such as `Gender` and `Smoking status`. To do this, the values of these variables and its count are obtained by performing the code below:"
   ]
  },
  {
   "cell_type": "code",
   "execution_count": 8,
   "id": "314f41b8",
   "metadata": {},
   "outputs": [
    {
     "name": "stdout",
     "output_type": "stream",
     "text": [
      "Gender\n",
      "Male      228\n",
      "Female    224\n",
      "Name: count, dtype: int64\n",
      "\n",
      "\n",
      "Smokes\n",
      "No     298\n",
      "Yes    154\n",
      "Name: count, dtype: int64\n"
     ]
    }
   ],
   "source": [
    "gender_counts = sleep_df['Gender'].value_counts()\n",
    "print(gender_counts)\n",
    "\n",
    "print(\"\\n\")\n",
    "ss_counts = sleep_df['Smokes'].value_counts()\n",
    "print(ss_counts)"
   ]
  },
  {
   "cell_type": "markdown",
   "id": "d1e3260b",
   "metadata": {},
   "source": [
    "The researchers concluded that there are no multiple representations of data."
   ]
  },
  {
   "cell_type": "markdown",
   "id": "8f7b6fc2",
   "metadata": {},
   "source": [
    "### Duplicate Data\n",
    "\n",
    "The researchers confirm after careful deliberation that duplicate values for each column, except for the individual ID of a test subject, is allowed. Thus the following code is performed to check if by mistake there are duplicate values of ID."
   ]
  },
  {
   "cell_type": "code",
   "execution_count": 9,
   "id": "2a65d212",
   "metadata": {},
   "outputs": [
    {
     "name": "stdout",
     "output_type": "stream",
     "text": [
      "ID\n",
      "False    452\n",
      "Name: count, dtype: int64\n"
     ]
    }
   ],
   "source": [
    "id_duplicates = sleep_df['ID'].duplicated()\n",
    "\n",
    "id_duplicates_count = id_duplicates.value_counts()\n",
    "print(id_duplicates_count)"
   ]
  },
  {
   "cell_type": "markdown",
   "id": "59f2220b",
   "metadata": {},
   "source": [
    "The researchers confirm that there are no duplicate values in the variable `ID`."
   ]
  },
  {
   "cell_type": "markdown",
   "id": "176599e1",
   "metadata": {},
   "source": [
    "### Incorrect Datatype\n",
    "\n",
    "While inspecting the datatypes of each variable, the researchers noticed that the variables `REM Sleep Percentage`, `Deep Sleep Percentage`, and `Light Sleep percentage` are in `int64` type. Although this would not cause any errors as long as addressed properly, the researchers decided to convert them in their decimal format and transform the data type to `float64`."
   ]
  },
  {
   "cell_type": "code",
   "execution_count": 10,
   "id": "5ff5d103",
   "metadata": {},
   "outputs": [
    {
     "name": "stdout",
     "output_type": "stream",
     "text": [
      "<class 'pandas.core.frame.DataFrame'>\n",
      "RangeIndex: 452 entries, 0 to 451\n",
      "Data columns (total 15 columns):\n",
      " #   Column            Non-Null Count  Dtype  \n",
      "---  ------            --------------  -----  \n",
      " 0   ID                452 non-null    int64  \n",
      " 1   Age               452 non-null    int64  \n",
      " 2   Gender            452 non-null    object \n",
      " 3   Bedtime           452 non-null    object \n",
      " 4   Wakeup time       452 non-null    object \n",
      " 5   Sleep_Duration    452 non-null    float64\n",
      " 6   Sleep efficiency  452 non-null    float64\n",
      " 7   RSP               452 non-null    float64\n",
      " 8   DSP               452 non-null    float64\n",
      " 9   LSP               452 non-null    float64\n",
      " 10  Awakenings        452 non-null    float64\n",
      " 11  Caffeine          452 non-null    float64\n",
      " 12  Alcohol           452 non-null    float64\n",
      " 13  Smokes            452 non-null    object \n",
      " 14  Exercises         452 non-null    float64\n",
      "dtypes: float64(9), int64(2), object(4)\n",
      "memory usage: 53.1+ KB\n"
     ]
    }
   ],
   "source": [
    "sleep_df['RSP'] = sleep_df['RSP'].astype('float64')\n",
    "sleep_df['DSP'] = sleep_df['DSP'].astype('float64')\n",
    "sleep_df['LSP'] = sleep_df['LSP'].astype('float64')\n",
    "\n",
    "sleep_df.info()"
   ]
  },
  {
   "cell_type": "markdown",
   "id": "1ae1e40b",
   "metadata": {},
   "source": [
    "Afterwards, each value in all three columns would then be divided by `100.0` to get the equivalent value from its integer form."
   ]
  },
  {
   "cell_type": "code",
   "execution_count": 11,
   "id": "6f6a3ff2",
   "metadata": {},
   "outputs": [
    {
     "data": {
      "text/html": [
       "<div>\n",
       "<style scoped>\n",
       "    .dataframe tbody tr th:only-of-type {\n",
       "        vertical-align: middle;\n",
       "    }\n",
       "\n",
       "    .dataframe tbody tr th {\n",
       "        vertical-align: top;\n",
       "    }\n",
       "\n",
       "    .dataframe thead th {\n",
       "        text-align: right;\n",
       "    }\n",
       "</style>\n",
       "<table border=\"1\" class=\"dataframe\">\n",
       "  <thead>\n",
       "    <tr style=\"text-align: right;\">\n",
       "      <th></th>\n",
       "      <th>RSP</th>\n",
       "      <th>DSP</th>\n",
       "      <th>LSP</th>\n",
       "    </tr>\n",
       "  </thead>\n",
       "  <tbody>\n",
       "    <tr>\n",
       "      <th>0</th>\n",
       "      <td>0.18</td>\n",
       "      <td>0.70</td>\n",
       "      <td>0.12</td>\n",
       "    </tr>\n",
       "    <tr>\n",
       "      <th>1</th>\n",
       "      <td>0.19</td>\n",
       "      <td>0.28</td>\n",
       "      <td>0.53</td>\n",
       "    </tr>\n",
       "    <tr>\n",
       "      <th>2</th>\n",
       "      <td>0.20</td>\n",
       "      <td>0.70</td>\n",
       "      <td>0.10</td>\n",
       "    </tr>\n",
       "    <tr>\n",
       "      <th>3</th>\n",
       "      <td>0.23</td>\n",
       "      <td>0.25</td>\n",
       "      <td>0.52</td>\n",
       "    </tr>\n",
       "    <tr>\n",
       "      <th>4</th>\n",
       "      <td>0.27</td>\n",
       "      <td>0.55</td>\n",
       "      <td>0.18</td>\n",
       "    </tr>\n",
       "  </tbody>\n",
       "</table>\n",
       "</div>"
      ],
      "text/plain": [
       "    RSP   DSP   LSP\n",
       "0  0.18  0.70  0.12\n",
       "1  0.19  0.28  0.53\n",
       "2  0.20  0.70  0.10\n",
       "3  0.23  0.25  0.52\n",
       "4  0.27  0.55  0.18"
      ]
     },
     "execution_count": 11,
     "metadata": {},
     "output_type": "execute_result"
    }
   ],
   "source": [
    "sleep_df['RSP'] = (sleep_df['RSP'] / 100.0).round(2)\n",
    "sleep_df['DSP'] = (sleep_df['DSP'] / 100.0).round(2)\n",
    "sleep_df['LSP'] = (sleep_df['LSP'] / 100.0).round(2)\n",
    "\n",
    "sleep_df[['RSP', 'DSP', 'LSP']].head()"
   ]
  },
  {
   "cell_type": "markdown",
   "id": "de03be5c",
   "metadata": {},
   "source": [
    "The researchers also noticed that the data type of `Smokes` is Object. To simplify the manipulation of data, the researchers converted the column to int64 data type with 1 serving as True and 0 serving as False."
   ]
  },
  {
   "cell_type": "code",
   "execution_count": 12,
   "id": "03813587",
   "metadata": {},
   "outputs": [
    {
     "name": "stdout",
     "output_type": "stream",
     "text": [
      "<class 'pandas.core.frame.DataFrame'>\n",
      "RangeIndex: 452 entries, 0 to 451\n",
      "Data columns (total 15 columns):\n",
      " #   Column            Non-Null Count  Dtype  \n",
      "---  ------            --------------  -----  \n",
      " 0   ID                452 non-null    int64  \n",
      " 1   Age               452 non-null    int64  \n",
      " 2   Gender            452 non-null    object \n",
      " 3   Bedtime           452 non-null    object \n",
      " 4   Wakeup time       452 non-null    object \n",
      " 5   Sleep_Duration    452 non-null    float64\n",
      " 6   Sleep efficiency  452 non-null    float64\n",
      " 7   RSP               452 non-null    float64\n",
      " 8   DSP               452 non-null    float64\n",
      " 9   LSP               452 non-null    float64\n",
      " 10  Awakenings        452 non-null    float64\n",
      " 11  Caffeine          452 non-null    float64\n",
      " 12  Alcohol           452 non-null    float64\n",
      " 13  Smokes            452 non-null    int64  \n",
      " 14  Exercises         452 non-null    float64\n",
      "dtypes: float64(9), int64(3), object(3)\n",
      "memory usage: 53.1+ KB\n"
     ]
    },
    {
     "data": {
      "text/plain": [
       "0    1\n",
       "1    1\n",
       "2    0\n",
       "3    1\n",
       "4    0\n",
       "Name: Smokes, dtype: int64"
      ]
     },
     "execution_count": 12,
     "metadata": {},
     "output_type": "execute_result"
    }
   ],
   "source": [
    "sleep_df['Smokes'] = sleep_df['Smokes'].map({'Yes': 1, 'No': 0})\n",
    "sleep_df['Smokes'] = sleep_df['Smokes'].astype('int64')\n",
    "sleep_df.info()\n",
    "sleep_df['Smokes'].head()"
   ]
  },
  {
   "cell_type": "markdown",
   "id": "1bce613c",
   "metadata": {},
   "source": [
    "### Dropping columns that will not be used\n",
    "\n",
    "To finish the cleaning of the dataset, the researchers decided to drop columns that will not be used for the machine learning algorithm. These columns are `Gender`, `Sleep efficiency`, `Bedtime`, and `Wakeup time`. \n",
    "\n",
    "`Gender` was dropped because the machine learning approach that the researchers would use will deal with quantiative data and not categorical data.\n",
    "\n",
    "`Sleep efficiency` was dropped because it would be difficult to obtain the proportion of time a person spends asleep in their bed.\n",
    "\n",
    "`Bedtime`, and `Wakeup time` were dropped for similar reasons as `Gender` despite the possibility of both variables being significant factors when it comes to determining the sleep quality of a person (i.e. what is a good time to sleep and what is a good time to wake up could scientifically be proven).\n",
    "\n",
    "Lastly, `ID` was dropped because it is only used for labelling which user does each instance belong to.\n"
   ]
  },
  {
   "cell_type": "code",
   "execution_count": 13,
   "id": "ae30b04d",
   "metadata": {},
   "outputs": [
    {
     "name": "stdout",
     "output_type": "stream",
     "text": [
      "<class 'pandas.core.frame.DataFrame'>\n",
      "RangeIndex: 452 entries, 0 to 451\n",
      "Data columns (total 10 columns):\n",
      " #   Column          Non-Null Count  Dtype  \n",
      "---  ------          --------------  -----  \n",
      " 0   Age             452 non-null    int64  \n",
      " 1   Sleep_Duration  452 non-null    float64\n",
      " 2   RSP             452 non-null    float64\n",
      " 3   DSP             452 non-null    float64\n",
      " 4   LSP             452 non-null    float64\n",
      " 5   Awakenings      452 non-null    float64\n",
      " 6   Caffeine        452 non-null    float64\n",
      " 7   Alcohol         452 non-null    float64\n",
      " 8   Smokes          452 non-null    int64  \n",
      " 9   Exercises       452 non-null    float64\n",
      "dtypes: float64(8), int64(2)\n",
      "memory usage: 35.4 KB\n"
     ]
    }
   ],
   "source": [
    "sleep_df.drop(columns=['Gender', 'Sleep efficiency', 'Bedtime', 'Wakeup time', 'ID'], inplace=True)\n",
    "sleep_df.info()"
   ]
  },
  {
   "cell_type": "markdown",
   "id": "00f66a25-3965-49b5-86ca-663933a00b0d",
   "metadata": {},
   "source": [
    "# ----------------------------------------------------"
   ]
  },
  {
   "cell_type": "markdown",
   "id": "9224b650-4374-4a0f-ac60-e7c1aafed0f2",
   "metadata": {
    "tags": []
   },
   "source": [
    "## III. Feature Engineering"
   ]
  },
  {
   "cell_type": "markdown",
   "id": "bb05e285-fa09-446b-b970-4e23205b2c1d",
   "metadata": {
    "tags": []
   },
   "source": [
    "### Normal Distribution Graphs"
   ]
  },
  {
   "cell_type": "markdown",
   "id": "064d7592-ed3b-4a57-844d-2fb441eff283",
   "metadata": {},
   "source": [
    "The researchers plotted the distribution of each feature to check whether they are positively skewed, negatively skewed, or in normal distribution. In this notebook, the distribution is implemented using `matplotlib.pyplot`. "
   ]
  },
  {
   "cell_type": "code",
   "execution_count": 14,
   "id": "088888dc-6afc-4654-9594-4e2aa2b11f2b",
   "metadata": {
    "tags": []
   },
   "outputs": [
    {
     "data": {
      "image/png": "[encoded data removed]",
      "text/plain": [
       "<Figure size 2000x1500 with 12 Axes>"
      ]
     },
     "metadata": {},
     "output_type": "display_data"
    }
   ],
   "source": [
    "import matplotlib.pyplot as plt\n",
    "\n",
    "# Plot the distribution of each column in the DataFrame\n",
    "sleep_df.hist(figsize=(20, 15))\n",
    "plt.tight_layout()  # Adjust layout to prevent overlapping\n",
    "plt.show()"
   ]
  },
  {
   "cell_type": "markdown",
   "id": "af2788ac-992c-40f2-aa9b-2d1162157401",
   "metadata": {},
   "source": [
    "As displayed above, each feature has varying distributions. This might not be beneficial regardless of whichever machine learning model is used in this notebook. The nature of some data is also inconsistent, which will lead to a bad performance of the model. For example `Caffeine` has a measurement of milligrams (mg) while `Alcohol` is measured in ounces (oz). It is best to convert from *mg* to *oz* or vice versa for these two to be accurately compared. \n",
    "\n",
    "The mean and standard deviation of each feature is shown below using `pd.describe()`."
   ]
  },
  {
   "cell_type": "code",
   "execution_count": 15,
   "id": "9fccf5cc-c116-45aa-943b-0f2ee3a1c12a",
   "metadata": {
    "tags": []
   },
   "outputs": [
    {
     "data": {
      "text/html": [
       "<div>\n",
       "<style scoped>\n",
       "    .dataframe tbody tr th:only-of-type {\n",
       "        vertical-align: middle;\n",
       "    }\n",
       "\n",
       "    .dataframe tbody tr th {\n",
       "        vertical-align: top;\n",
       "    }\n",
       "\n",
       "    .dataframe thead th {\n",
       "        text-align: right;\n",
       "    }\n",
       "</style>\n",
       "<table border=\"1\" class=\"dataframe\">\n",
       "  <thead>\n",
       "    <tr style=\"text-align: right;\">\n",
       "      <th></th>\n",
       "      <th>Age</th>\n",
       "      <th>Sleep_Duration</th>\n",
       "      <th>RSP</th>\n",
       "      <th>DSP</th>\n",
       "      <th>LSP</th>\n",
       "      <th>Awakenings</th>\n",
       "      <th>Caffeine</th>\n",
       "      <th>Alcohol</th>\n",
       "      <th>Smokes</th>\n",
       "      <th>Exercises</th>\n",
       "    </tr>\n",
       "  </thead>\n",
       "  <tbody>\n",
       "    <tr>\n",
       "      <th>count</th>\n",
       "      <td>452.000000</td>\n",
       "      <td>452.000000</td>\n",
       "      <td>452.00000</td>\n",
       "      <td>452.000000</td>\n",
       "      <td>452.000000</td>\n",
       "      <td>452.000000</td>\n",
       "      <td>452.000000</td>\n",
       "      <td>452.000000</td>\n",
       "      <td>452.000000</td>\n",
       "      <td>452.000000</td>\n",
       "    </tr>\n",
       "    <tr>\n",
       "      <th>mean</th>\n",
       "      <td>40.285398</td>\n",
       "      <td>7.465708</td>\n",
       "      <td>0.22615</td>\n",
       "      <td>0.528230</td>\n",
       "      <td>0.245619</td>\n",
       "      <td>1.568584</td>\n",
       "      <td>22.345133</td>\n",
       "      <td>1.137168</td>\n",
       "      <td>0.340708</td>\n",
       "      <td>1.767699</td>\n",
       "    </tr>\n",
       "    <tr>\n",
       "      <th>std</th>\n",
       "      <td>13.172250</td>\n",
       "      <td>0.866625</td>\n",
       "      <td>0.03526</td>\n",
       "      <td>0.156542</td>\n",
       "      <td>0.153137</td>\n",
       "      <td>1.368698</td>\n",
       "      <td>29.848626</td>\n",
       "      <td>1.608938</td>\n",
       "      <td>0.474472</td>\n",
       "      <td>1.433375</td>\n",
       "    </tr>\n",
       "    <tr>\n",
       "      <th>min</th>\n",
       "      <td>9.000000</td>\n",
       "      <td>5.000000</td>\n",
       "      <td>0.15000</td>\n",
       "      <td>0.180000</td>\n",
       "      <td>0.070000</td>\n",
       "      <td>0.000000</td>\n",
       "      <td>0.000000</td>\n",
       "      <td>0.000000</td>\n",
       "      <td>0.000000</td>\n",
       "      <td>0.000000</td>\n",
       "    </tr>\n",
       "    <tr>\n",
       "      <th>25%</th>\n",
       "      <td>29.000000</td>\n",
       "      <td>7.000000</td>\n",
       "      <td>0.20000</td>\n",
       "      <td>0.482500</td>\n",
       "      <td>0.150000</td>\n",
       "      <td>0.000000</td>\n",
       "      <td>0.000000</td>\n",
       "      <td>0.000000</td>\n",
       "      <td>0.000000</td>\n",
       "      <td>0.000000</td>\n",
       "    </tr>\n",
       "    <tr>\n",
       "      <th>50%</th>\n",
       "      <td>40.000000</td>\n",
       "      <td>7.500000</td>\n",
       "      <td>0.22000</td>\n",
       "      <td>0.580000</td>\n",
       "      <td>0.180000</td>\n",
       "      <td>1.000000</td>\n",
       "      <td>0.000000</td>\n",
       "      <td>0.000000</td>\n",
       "      <td>0.000000</td>\n",
       "      <td>2.000000</td>\n",
       "    </tr>\n",
       "    <tr>\n",
       "      <th>75%</th>\n",
       "      <td>52.000000</td>\n",
       "      <td>8.000000</td>\n",
       "      <td>0.25000</td>\n",
       "      <td>0.630000</td>\n",
       "      <td>0.325000</td>\n",
       "      <td>3.000000</td>\n",
       "      <td>50.000000</td>\n",
       "      <td>2.000000</td>\n",
       "      <td>1.000000</td>\n",
       "      <td>3.000000</td>\n",
       "    </tr>\n",
       "    <tr>\n",
       "      <th>max</th>\n",
       "      <td>69.000000</td>\n",
       "      <td>10.000000</td>\n",
       "      <td>0.30000</td>\n",
       "      <td>0.750000</td>\n",
       "      <td>0.630000</td>\n",
       "      <td>4.000000</td>\n",
       "      <td>200.000000</td>\n",
       "      <td>5.000000</td>\n",
       "      <td>1.000000</td>\n",
       "      <td>5.000000</td>\n",
       "    </tr>\n",
       "  </tbody>\n",
       "</table>\n",
       "</div>"
      ],
      "text/plain": [
       "              Age  Sleep_Duration        RSP         DSP         LSP  \\\n",
       "count  452.000000      452.000000  452.00000  452.000000  452.000000   \n",
       "mean    40.285398        7.465708    0.22615    0.528230    0.245619   \n",
       "std     13.172250        0.866625    0.03526    0.156542    0.153137   \n",
       "min      9.000000        5.000000    0.15000    0.180000    0.070000   \n",
       "25%     29.000000        7.000000    0.20000    0.482500    0.150000   \n",
       "50%     40.000000        7.500000    0.22000    0.580000    0.180000   \n",
       "75%     52.000000        8.000000    0.25000    0.630000    0.325000   \n",
       "max     69.000000       10.000000    0.30000    0.750000    0.630000   \n",
       "\n",
       "       Awakenings    Caffeine     Alcohol      Smokes   Exercises  \n",
       "count  452.000000  452.000000  452.000000  452.000000  452.000000  \n",
       "mean     1.568584   22.345133    1.137168    0.340708    1.767699  \n",
       "std      1.368698   29.848626    1.608938    0.474472    1.433375  \n",
       "min      0.000000    0.000000    0.000000    0.000000    0.000000  \n",
       "25%      0.000000    0.000000    0.000000    0.000000    0.000000  \n",
       "50%      1.000000    0.000000    0.000000    0.000000    2.000000  \n",
       "75%      3.000000   50.000000    2.000000    1.000000    3.000000  \n",
       "max      4.000000  200.000000    5.000000    1.000000    5.000000  "
      ]
     },
     "execution_count": 15,
     "metadata": {},
     "output_type": "execute_result"
    }
   ],
   "source": [
    "sleep_df.describe()"
   ]
  },
  {
   "cell_type": "markdown",
   "id": "7fed8665-facc-48d9-8bc7-a8d974d8a24b",
   "metadata": {},
   "source": [
    "As observed above, the standard deviation of features `Age`, `Sleep_Duration`, `Awakenings`, `Caffeine`, `Alcohol`, and `Exercises` are of high value. Meaning, they have a wide range and that data is spread out - which, potentially create false-outliers. This will be challenging for the machine learning model to identify patterns between the features and will result to a more inaccurate classification. Hence, it is important to normalize these features so that most data will be of equal importance to the model.  "
   ]
  },
  {
   "cell_type": "markdown",
   "id": "c92c4fac-4bbe-4f2d-b2f4-d4a817986250",
   "metadata": {
    "tags": []
   },
   "source": [
    "### Alcohol and Caffeine Conversion"
   ]
  },
  {
   "cell_type": "markdown",
   "id": "fabd689e-6da3-4860-a0ad-4125d3de8f10",
   "metadata": {},
   "source": [
    "As stated, the `Caffeine` feature is in units of milligrams while the `Alcohol` feature is in units of ounces. To convert mg to ounces or vice versa, the units must be converted to *grams (g)* first. The following are the conversion units of each:\n",
    "\n",
    "* `1 ounce = 28.349523125 grams` from GfG (2023)\n",
    "* `1 gram = 1000 milligrams` from Milligrams and Grams Converter (n.d.)\n",
    "\n",
    "\n",
    "The formula to convert from one unit to another is as follows:\n",
    "\n",
    "| **oz to mg**       | **mg to oz**       |\n",
    "|------------------|------------------|\n",
    "| $$milligrams = oz \\times \\frac{28.349523125 g}{1.0 oz}\\times{\\frac{1000.0 mg}{1.0 g}}$$     | $$ounces = mg \\times \\frac{1.0 g}{1000.0 mg}\\times{\\frac{1.0 oz}{28.349523125 g}}$$ |\n",
    "\n",
    "\n",
    "\n",
    "Comparing the mean and standard deviation of `Caffeine` and `Alcohol`, it is clear that `Caffeine` has a higher scale than `Alcohol`. However, the maximum value of `Caffeine` is just 200 milligrams. If this will be converted to ounces, the resulting value will just be **0.00705479239 oz**. This is a significantly low value, and will make the machine learning model biased to `Alcohol` since its maximum value is 5.0 oz.\n",
    "\n",
    "Therefore, in this notebook, the feature `Alcohol` will be converted to milligrams instead so that it is consistent and of-equal-matter to `Caffeine`. \n",
    "\n",
    "\n",
    "**References:** \n",
    "* GfG. (2023, September 26). Ounces to grams converter. GeeksforGeeks. https://www.geeksforgeeks.org/ounce-to-gram/\n",
    "* Milligrams and grams converter. (n.d.). The Calculator Site. https://www.thecalculatorsite.com/conversions/common/mg-to-g.php?wn=google_ads_iframe_%2F1254144%2C5336692%2Fthecalculatorsite_com-pixel1_1&r1=https%3A%2F%2Fwww.thecalculatorsite.com%2Fconversions%2Fcommon%2Fmg-to-g.php"
   ]
  },
  {
   "cell_type": "code",
   "execution_count": 16,
   "id": "3589eb71-f09a-4c75-a3cc-d7c3c6d890b7",
   "metadata": {
    "tags": []
   },
   "outputs": [
    {
     "data": {
      "text/html": [
       "<div>\n",
       "<style scoped>\n",
       "    .dataframe tbody tr th:only-of-type {\n",
       "        vertical-align: middle;\n",
       "    }\n",
       "\n",
       "    .dataframe tbody tr th {\n",
       "        vertical-align: top;\n",
       "    }\n",
       "\n",
       "    .dataframe thead th {\n",
       "        text-align: right;\n",
       "    }\n",
       "</style>\n",
       "<table border=\"1\" class=\"dataframe\">\n",
       "  <thead>\n",
       "    <tr style=\"text-align: right;\">\n",
       "      <th></th>\n",
       "      <th>Age</th>\n",
       "      <th>Sleep_Duration</th>\n",
       "      <th>RSP</th>\n",
       "      <th>DSP</th>\n",
       "      <th>LSP</th>\n",
       "      <th>Awakenings</th>\n",
       "      <th>Caffeine</th>\n",
       "      <th>Alcohol</th>\n",
       "      <th>Smokes</th>\n",
       "      <th>Exercises</th>\n",
       "    </tr>\n",
       "  </thead>\n",
       "  <tbody>\n",
       "    <tr>\n",
       "      <th>0</th>\n",
       "      <td>65</td>\n",
       "      <td>6.0</td>\n",
       "      <td>0.18</td>\n",
       "      <td>0.70</td>\n",
       "      <td>0.12</td>\n",
       "      <td>0.0</td>\n",
       "      <td>0.0</td>\n",
       "      <td>0.0</td>\n",
       "      <td>1</td>\n",
       "      <td>3.0</td>\n",
       "    </tr>\n",
       "    <tr>\n",
       "      <th>1</th>\n",
       "      <td>69</td>\n",
       "      <td>7.0</td>\n",
       "      <td>0.19</td>\n",
       "      <td>0.28</td>\n",
       "      <td>0.53</td>\n",
       "      <td>3.0</td>\n",
       "      <td>0.0</td>\n",
       "      <td>85048.5</td>\n",
       "      <td>1</td>\n",
       "      <td>3.0</td>\n",
       "    </tr>\n",
       "    <tr>\n",
       "      <th>2</th>\n",
       "      <td>40</td>\n",
       "      <td>8.0</td>\n",
       "      <td>0.20</td>\n",
       "      <td>0.70</td>\n",
       "      <td>0.10</td>\n",
       "      <td>1.0</td>\n",
       "      <td>0.0</td>\n",
       "      <td>0.0</td>\n",
       "      <td>0</td>\n",
       "      <td>3.0</td>\n",
       "    </tr>\n",
       "    <tr>\n",
       "      <th>3</th>\n",
       "      <td>40</td>\n",
       "      <td>6.0</td>\n",
       "      <td>0.23</td>\n",
       "      <td>0.25</td>\n",
       "      <td>0.52</td>\n",
       "      <td>3.0</td>\n",
       "      <td>50.0</td>\n",
       "      <td>141747.5</td>\n",
       "      <td>1</td>\n",
       "      <td>1.0</td>\n",
       "    </tr>\n",
       "    <tr>\n",
       "      <th>4</th>\n",
       "      <td>57</td>\n",
       "      <td>8.0</td>\n",
       "      <td>0.27</td>\n",
       "      <td>0.55</td>\n",
       "      <td>0.18</td>\n",
       "      <td>3.0</td>\n",
       "      <td>0.0</td>\n",
       "      <td>85048.5</td>\n",
       "      <td>0</td>\n",
       "      <td>3.0</td>\n",
       "    </tr>\n",
       "    <tr>\n",
       "      <th>...</th>\n",
       "      <td>...</td>\n",
       "      <td>...</td>\n",
       "      <td>...</td>\n",
       "      <td>...</td>\n",
       "      <td>...</td>\n",
       "      <td>...</td>\n",
       "      <td>...</td>\n",
       "      <td>...</td>\n",
       "      <td>...</td>\n",
       "      <td>...</td>\n",
       "    </tr>\n",
       "    <tr>\n",
       "      <th>447</th>\n",
       "      <td>27</td>\n",
       "      <td>7.5</td>\n",
       "      <td>0.22</td>\n",
       "      <td>0.57</td>\n",
       "      <td>0.21</td>\n",
       "      <td>0.0</td>\n",
       "      <td>0.0</td>\n",
       "      <td>0.0</td>\n",
       "      <td>0</td>\n",
       "      <td>5.0</td>\n",
       "    </tr>\n",
       "    <tr>\n",
       "      <th>448</th>\n",
       "      <td>52</td>\n",
       "      <td>6.0</td>\n",
       "      <td>0.28</td>\n",
       "      <td>0.57</td>\n",
       "      <td>0.15</td>\n",
       "      <td>4.0</td>\n",
       "      <td>25.0</td>\n",
       "      <td>0.0</td>\n",
       "      <td>0</td>\n",
       "      <td>3.0</td>\n",
       "    </tr>\n",
       "    <tr>\n",
       "      <th>449</th>\n",
       "      <td>40</td>\n",
       "      <td>8.5</td>\n",
       "      <td>0.20</td>\n",
       "      <td>0.32</td>\n",
       "      <td>0.48</td>\n",
       "      <td>1.0</td>\n",
       "      <td>0.0</td>\n",
       "      <td>85048.5</td>\n",
       "      <td>1</td>\n",
       "      <td>0.0</td>\n",
       "    </tr>\n",
       "    <tr>\n",
       "      <th>450</th>\n",
       "      <td>45</td>\n",
       "      <td>7.0</td>\n",
       "      <td>0.18</td>\n",
       "      <td>0.72</td>\n",
       "      <td>0.10</td>\n",
       "      <td>3.0</td>\n",
       "      <td>0.0</td>\n",
       "      <td>0.0</td>\n",
       "      <td>0</td>\n",
       "      <td>3.0</td>\n",
       "    </tr>\n",
       "    <tr>\n",
       "      <th>451</th>\n",
       "      <td>18</td>\n",
       "      <td>7.5</td>\n",
       "      <td>0.22</td>\n",
       "      <td>0.23</td>\n",
       "      <td>0.55</td>\n",
       "      <td>1.0</td>\n",
       "      <td>50.0</td>\n",
       "      <td>0.0</td>\n",
       "      <td>0</td>\n",
       "      <td>1.0</td>\n",
       "    </tr>\n",
       "  </tbody>\n",
       "</table>\n",
       "<p>452 rows × 10 columns</p>\n",
       "</div>"
      ],
      "text/plain": [
       "     Age  Sleep_Duration   RSP   DSP   LSP  Awakenings  Caffeine   Alcohol  \\\n",
       "0     65             6.0  0.18  0.70  0.12         0.0       0.0       0.0   \n",
       "1     69             7.0  0.19  0.28  0.53         3.0       0.0   85048.5   \n",
       "2     40             8.0  0.20  0.70  0.10         1.0       0.0       0.0   \n",
       "3     40             6.0  0.23  0.25  0.52         3.0      50.0  141747.5   \n",
       "4     57             8.0  0.27  0.55  0.18         3.0       0.0   85048.5   \n",
       "..   ...             ...   ...   ...   ...         ...       ...       ...   \n",
       "447   27             7.5  0.22  0.57  0.21         0.0       0.0       0.0   \n",
       "448   52             6.0  0.28  0.57  0.15         4.0      25.0       0.0   \n",
       "449   40             8.5  0.20  0.32  0.48         1.0       0.0   85048.5   \n",
       "450   45             7.0  0.18  0.72  0.10         3.0       0.0       0.0   \n",
       "451   18             7.5  0.22  0.23  0.55         1.0      50.0       0.0   \n",
       "\n",
       "     Smokes  Exercises  \n",
       "0         1        3.0  \n",
       "1         1        3.0  \n",
       "2         0        3.0  \n",
       "3         1        1.0  \n",
       "4         0        3.0  \n",
       "..      ...        ...  \n",
       "447       0        5.0  \n",
       "448       0        3.0  \n",
       "449       1        0.0  \n",
       "450       0        3.0  \n",
       "451       0        1.0  \n",
       "\n",
       "[452 rows x 10 columns]"
      ]
     },
     "metadata": {},
     "output_type": "display_data"
    }
   ],
   "source": [
    "# Conversion factor\n",
    "oz_to_g = 28.3495\n",
    "g_to_mg = 1000\n",
    "\n",
    "#Convert oz to mg\n",
    "sleep_df['Alcohol'] = sleep_df['Alcohol'] * oz_to_g * g_to_mg\n",
    "\n",
    "#display dataframe\n",
    "display(sleep_df)"
   ]
  },
  {
   "cell_type": "markdown",
   "id": "1d4769c5-ba6f-4067-b70d-e7805f57d45a",
   "metadata": {
    "tags": []
   },
   "source": [
    "### Data Normalization"
   ]
  },
  {
   "cell_type": "markdown",
   "id": "4b982633-c9f3-43c7-8075-1777da039682",
   "metadata": {},
   "source": [
    "#### `Age`, `Sleep_Duration`, `Awakenings`, `Caffeine`, `Alcohol`, and `Exercises`"
   ]
  },
  {
   "cell_type": "code",
   "execution_count": 17,
   "id": "df05c409-b8b5-4d8f-a904-22f9a7aff987",
   "metadata": {
    "tags": []
   },
   "outputs": [
    {
     "data": {
      "text/html": [
       "<div>\n",
       "<style scoped>\n",
       "    .dataframe tbody tr th:only-of-type {\n",
       "        vertical-align: middle;\n",
       "    }\n",
       "\n",
       "    .dataframe tbody tr th {\n",
       "        vertical-align: top;\n",
       "    }\n",
       "\n",
       "    .dataframe thead th {\n",
       "        text-align: right;\n",
       "    }\n",
       "</style>\n",
       "<table border=\"1\" class=\"dataframe\">\n",
       "  <thead>\n",
       "    <tr style=\"text-align: right;\">\n",
       "      <th></th>\n",
       "      <th>Age</th>\n",
       "      <th>Sleep_Duration</th>\n",
       "      <th>RSP</th>\n",
       "      <th>DSP</th>\n",
       "      <th>LSP</th>\n",
       "      <th>Awakenings</th>\n",
       "      <th>Caffeine</th>\n",
       "      <th>Alcohol</th>\n",
       "      <th>Smokes</th>\n",
       "      <th>Exercises</th>\n",
       "    </tr>\n",
       "  </thead>\n",
       "  <tbody>\n",
       "    <tr>\n",
       "      <th>count</th>\n",
       "      <td>452.000000</td>\n",
       "      <td>452.000000</td>\n",
       "      <td>452.00000</td>\n",
       "      <td>452.000000</td>\n",
       "      <td>452.000000</td>\n",
       "      <td>452.000000</td>\n",
       "      <td>452.000000</td>\n",
       "      <td>452.000000</td>\n",
       "      <td>452.000000</td>\n",
       "      <td>452.000000</td>\n",
       "    </tr>\n",
       "    <tr>\n",
       "      <th>mean</th>\n",
       "      <td>40.285398</td>\n",
       "      <td>7.465708</td>\n",
       "      <td>0.22615</td>\n",
       "      <td>0.528230</td>\n",
       "      <td>0.245619</td>\n",
       "      <td>1.568584</td>\n",
       "      <td>22.345133</td>\n",
       "      <td>32238.148230</td>\n",
       "      <td>0.340708</td>\n",
       "      <td>1.767699</td>\n",
       "    </tr>\n",
       "    <tr>\n",
       "      <th>std</th>\n",
       "      <td>13.172250</td>\n",
       "      <td>0.866625</td>\n",
       "      <td>0.03526</td>\n",
       "      <td>0.156542</td>\n",
       "      <td>0.153137</td>\n",
       "      <td>1.368698</td>\n",
       "      <td>29.848626</td>\n",
       "      <td>45612.592211</td>\n",
       "      <td>0.474472</td>\n",
       "      <td>1.433375</td>\n",
       "    </tr>\n",
       "    <tr>\n",
       "      <th>min</th>\n",
       "      <td>9.000000</td>\n",
       "      <td>5.000000</td>\n",
       "      <td>0.15000</td>\n",
       "      <td>0.180000</td>\n",
       "      <td>0.070000</td>\n",
       "      <td>0.000000</td>\n",
       "      <td>0.000000</td>\n",
       "      <td>0.000000</td>\n",
       "      <td>0.000000</td>\n",
       "      <td>0.000000</td>\n",
       "    </tr>\n",
       "    <tr>\n",
       "      <th>25%</th>\n",
       "      <td>29.000000</td>\n",
       "      <td>7.000000</td>\n",
       "      <td>0.20000</td>\n",
       "      <td>0.482500</td>\n",
       "      <td>0.150000</td>\n",
       "      <td>0.000000</td>\n",
       "      <td>0.000000</td>\n",
       "      <td>0.000000</td>\n",
       "      <td>0.000000</td>\n",
       "      <td>0.000000</td>\n",
       "    </tr>\n",
       "    <tr>\n",
       "      <th>50%</th>\n",
       "      <td>40.000000</td>\n",
       "      <td>7.500000</td>\n",
       "      <td>0.22000</td>\n",
       "      <td>0.580000</td>\n",
       "      <td>0.180000</td>\n",
       "      <td>1.000000</td>\n",
       "      <td>0.000000</td>\n",
       "      <td>0.000000</td>\n",
       "      <td>0.000000</td>\n",
       "      <td>2.000000</td>\n",
       "    </tr>\n",
       "    <tr>\n",
       "      <th>75%</th>\n",
       "      <td>52.000000</td>\n",
       "      <td>8.000000</td>\n",
       "      <td>0.25000</td>\n",
       "      <td>0.630000</td>\n",
       "      <td>0.325000</td>\n",
       "      <td>3.000000</td>\n",
       "      <td>50.000000</td>\n",
       "      <td>56699.000000</td>\n",
       "      <td>1.000000</td>\n",
       "      <td>3.000000</td>\n",
       "    </tr>\n",
       "    <tr>\n",
       "      <th>max</th>\n",
       "      <td>69.000000</td>\n",
       "      <td>10.000000</td>\n",
       "      <td>0.30000</td>\n",
       "      <td>0.750000</td>\n",
       "      <td>0.630000</td>\n",
       "      <td>4.000000</td>\n",
       "      <td>200.000000</td>\n",
       "      <td>141747.500000</td>\n",
       "      <td>1.000000</td>\n",
       "      <td>5.000000</td>\n",
       "    </tr>\n",
       "  </tbody>\n",
       "</table>\n",
       "</div>"
      ],
      "text/plain": [
       "              Age  Sleep_Duration        RSP         DSP         LSP  \\\n",
       "count  452.000000      452.000000  452.00000  452.000000  452.000000   \n",
       "mean    40.285398        7.465708    0.22615    0.528230    0.245619   \n",
       "std     13.172250        0.866625    0.03526    0.156542    0.153137   \n",
       "min      9.000000        5.000000    0.15000    0.180000    0.070000   \n",
       "25%     29.000000        7.000000    0.20000    0.482500    0.150000   \n",
       "50%     40.000000        7.500000    0.22000    0.580000    0.180000   \n",
       "75%     52.000000        8.000000    0.25000    0.630000    0.325000   \n",
       "max     69.000000       10.000000    0.30000    0.750000    0.630000   \n",
       "\n",
       "       Awakenings    Caffeine        Alcohol      Smokes   Exercises  \n",
       "count  452.000000  452.000000     452.000000  452.000000  452.000000  \n",
       "mean     1.568584   22.345133   32238.148230    0.340708    1.767699  \n",
       "std      1.368698   29.848626   45612.592211    0.474472    1.433375  \n",
       "min      0.000000    0.000000       0.000000    0.000000    0.000000  \n",
       "25%      0.000000    0.000000       0.000000    0.000000    0.000000  \n",
       "50%      1.000000    0.000000       0.000000    0.000000    2.000000  \n",
       "75%      3.000000   50.000000   56699.000000    1.000000    3.000000  \n",
       "max      4.000000  200.000000  141747.500000    1.000000    5.000000  "
      ]
     },
     "execution_count": 17,
     "metadata": {},
     "output_type": "execute_result"
    }
   ],
   "source": [
    "sleep_df.describe()"
   ]
  },
  {
   "cell_type": "markdown",
   "id": "058be04b-6ec6-436b-b61f-273ca21580ad",
   "metadata": {},
   "source": [
    "As stated, the standard deviation of features `Age`, `Sleep_Duration`, `Awakenings`, `Caffeine`, `Alcohol`, and `Exercises` are of high value, which means that machine learning model will produce a less accurate predicition. To normalize this, the researchers used `sklearn.preprocessing.RobustScaler` since each distribution is inconsistent and there is a presence of outliers on some features (Sklearn.Preprocessing.RobustScaler, n.d.). \n",
    "\n",
    "**Reference:**\n",
    "* sklearn.preprocessing.RobustScaler. (n.d.). Scikit-learn. https://scikit-learn.org/stable/modules/generated/sklearn.preprocessing.RobustScaler.html"
   ]
  },
  {
   "cell_type": "markdown",
   "id": "f4a46b93-8952-4d43-a892-592ea7660690",
   "metadata": {},
   "source": [
    "### Train-Test Split"
   ]
  },
  {
   "cell_type": "code",
   "execution_count": 18,
   "id": "d095a5b7-7e5e-4479-86c4-45221f7e475c",
   "metadata": {},
   "outputs": [
    {
     "name": "stdout",
     "output_type": "stream",
     "text": [
      "Training data shape:  (316, 7)\n",
      "Training labels shape:  (316, 3)\n",
      "Test data shape:  (136, 7)\n",
      "Test labels shape:  (136, 3)\n"
     ]
    }
   ],
   "source": [
    "from sklearn.model_selection import train_test_split\n",
    "\n",
    "columns = sleep_df.drop(['RSP', 'LSP', 'DSP'], axis=1).columns\n",
    "\n",
    "X = sleep_df[columns]\n",
    "y = sleep_df[['RSP', 'LSP', 'DSP']]\n",
    "X_train, X_test, y_train, y_test = train_test_split(X,y,test_size=0.3,random_state=42)\n",
    "\n",
    "print('Training data shape: ', X_train.shape)\n",
    "print('Training labels shape: ', y_train.shape)\n",
    "print('Test data shape: ', X_test.shape)\n",
    "print('Test labels shape: ', y_test.shape)"
   ]
  },
  {
   "cell_type": "code",
   "execution_count": 19,
   "id": "4d7309c6-90fa-437d-b635-25fa6b5c0ac3",
   "metadata": {
    "tags": []
   },
   "outputs": [
    {
     "name": "stdout",
     "output_type": "stream",
     "text": [
      "Training data shape:  (221, 7)\n",
      "Training labels shape:  (221, 3)\n",
      "Training data shape:  (95, 7)\n",
      "Training labels shape:  (95, 3)\n"
     ]
    }
   ],
   "source": [
    "X_train, X_val, y_train, y_val = train_test_split(X_train,y_train,test_size=0.3,random_state=42)\n",
    "\n",
    "print('Training data shape: ', X_train.shape)\n",
    "print('Training labels shape: ', y_train.shape)\n",
    "print('Training data shape: ', X_val.shape)\n",
    "print('Training labels shape: ', y_val.shape)"
   ]
  },
  {
   "cell_type": "code",
   "execution_count": 20,
   "id": "6ed4905d-a4a1-4693-8339-c49b954ef488",
   "metadata": {
    "tags": []
   },
   "outputs": [],
   "source": [
    "from sklearn.preprocessing import MinMaxScaler\n",
    "\n",
    "# Initialize the RobustScaler\n",
    "scaler = MinMaxScaler()"
   ]
  },
  {
   "cell_type": "code",
   "execution_count": 21,
   "id": "23bf226d-a189-4d73-ab79-a39b98cf9555",
   "metadata": {},
   "outputs": [],
   "source": [
    "# Fit the scaler to your data\n",
    "X_train[columns] = scaler.fit_transform(X_train[columns])"
   ]
  },
  {
   "cell_type": "code",
   "execution_count": 22,
   "id": "fd8d2636-087e-45e0-853a-7360575a55e0",
   "metadata": {
    "tags": []
   },
   "outputs": [],
   "source": [
    "# Transform the data using the scaler\n",
    "X_val[columns] = scaler.transform(X_val[columns])"
   ]
  },
  {
   "cell_type": "code",
   "execution_count": 23,
   "id": "1e65d23c-5cc7-4bc8-b5b4-1805fe1fb219",
   "metadata": {},
   "outputs": [],
   "source": [
    "# Transform the data using the scaler\n",
    "X_test[columns] = scaler.transform(X_test[columns])"
   ]
  },
  {
   "cell_type": "markdown",
   "id": "ef6f95f4-aa30-48d2-9209-2bad69c359c0",
   "metadata": {},
   "source": [
    "As observed above, the ranges of the distributions of `Age`, `Sleep_Duration`, `Awakenings`, `Caffeine`, `Alcohol`, and `Exercises` are now much smaller. Furthermore, their standard deviation has significantly lowered, with no value that is greater than one (1). This means that the data is now much closer to each other, and that the model will now able to predict with a higher accuracy."
   ]
  },
  {
   "cell_type": "code",
   "execution_count": 24,
   "id": "0310ac5f-aa8d-47f1-88c6-f6d5c1e8ac8e",
   "metadata": {
    "tags": []
   },
   "outputs": [],
   "source": [
    "import seaborn as sns\n",
    "import math \n",
    "import numpy as np\n",
    "\n",
    "%matplotlib inline\n",
    "%load_ext autoreload\n",
    "%autoreload 2\n",
    "\n",
    "def display_boxplot(data):\n",
    "    numeric_features = data.columns\n",
    "\n",
    "    num_features = len(numeric_features)\n",
    "    num_cols = 2  # You can adjust the number of columns as needed\n",
    "    num_rows = math.ceil(num_features / num_cols)\n",
    "\n",
    "    fig, axes = plt.subplots(nrows=num_rows, ncols=num_cols, figsize=(10, 3 * num_rows))\n",
    "    fig.suptitle('Boxplots of Numeric Features', y=1.02)\n",
    "\n",
    "    for idx, feature in enumerate(numeric_features):\n",
    "        ax = axes[idx // 2, idx % 2]\n",
    "        sns.boxplot(x=data[feature], ax=ax)\n",
    "        ax.set_title(f'Boxplot of {feature}')\n",
    "\n",
    "    # Adjust layout\n",
    "    plt.tight_layout()\n",
    "    plt.show()"
   ]
  },
  {
   "cell_type": "code",
   "execution_count": 25,
   "id": "5e6f39d2-2018-4e20-90b4-3ded0e4049d5",
   "metadata": {
    "tags": []
   },
   "outputs": [
    {
     "data": {
      "image/png": "[encoded data removed]",
      "text/plain": [
       "<Figure size 1000x1200 with 8 Axes>"
      ]
     },
     "metadata": {},
     "output_type": "display_data"
    }
   ],
   "source": [
    "display_boxplot(X_train)"
   ]
  },
  {
   "cell_type": "code",
   "execution_count": 26,
   "id": "9a2200a3-28d0-4b79-8891-56cb3d0ff195",
   "metadata": {
    "tags": []
   },
   "outputs": [
    {
     "data": {
      "image/png": "[encoded data removed]",
      "text/plain": [
       "<Figure size 1000x1200 with 8 Axes>"
      ]
     },
     "metadata": {},
     "output_type": "display_data"
    }
   ],
   "source": [
    "display_boxplot(X_val)"
   ]
  },
  {
   "cell_type": "code",
   "execution_count": 27,
   "id": "e06bcdfa-de09-405a-840e-f865479e7c83",
   "metadata": {},
   "outputs": [
    {
     "data": {
      "image/png": "[encoded data removed]",
      "text/plain": [
       "<Figure size 1000x1200 with 8 Axes>"
      ]
     },
     "metadata": {},
     "output_type": "display_data"
    }
   ],
   "source": [
    "display_boxplot(X_test)"
   ]
  },
  {
   "cell_type": "markdown",
   "id": "23fda4d1-b647-41fd-a1c4-260d562b2179",
   "metadata": {},
   "source": [
    "## IV. Model Training and Hypertuning"
   ]
  },
  {
   "cell_type": "code",
   "execution_count": 28,
   "id": "215dedcc-da9e-4768-9461-da28392ceb68",
   "metadata": {
    "tags": []
   },
   "outputs": [],
   "source": [
    "from keras import layers, activations, Sequential\n",
    "from keras.layers import Dense, Dropout, Input, Activation\n",
    "from keras.activations import softmax\n",
    "from keras.optimizers import Adam\n",
    "from keras.losses import MeanSquaredError\n",
    "import keras_tuner\n",
    "import tensorflow as tf\n",
    "from scikeras.wrappers import KerasRegressor\n",
    "from sklearn.model_selection import GridSearchCV"
   ]
  },
  {
   "cell_type": "code",
   "execution_count": 29,
   "id": "0f700f29-92f8-481f-9a9f-a97a80369ac4",
   "metadata": {
    "tags": []
   },
   "outputs": [
    {
     "data": {
      "text/plain": [
       "tuple"
      ]
     },
     "execution_count": 29,
     "metadata": {},
     "output_type": "execute_result"
    }
   ],
   "source": [
    "# Assuming X_train is your input data\n",
    "input_shape = X_train.shape[1:]\n",
    "type(input_shape)"
   ]
  },
  {
   "cell_type": "code",
   "execution_count": 30,
   "id": "c94c0552-15a4-4ca9-b9d4-9e2f262a826e",
   "metadata": {
    "tags": []
   },
   "outputs": [],
   "source": [
    "# Define a custom softmax function\n",
    "def custom_softmax(x):\n",
    "    return softmax(x - tf.reduce_max(x, axis=-1, keepdims=True))"
   ]
  },
  {
   "cell_type": "code",
   "execution_count": 31,
   "id": "0e3c795f-c63e-45a3-9334-e19d6652eca2",
   "metadata": {
    "tags": []
   },
   "outputs": [],
   "source": [
    "def create_model(hp):\n",
    "    #hyperparameters\n",
    "    units = hp.Int(\"units\", min_value=32, max_value=512, step=32)\n",
    "    dropout_rate = hp.Float(\"dropout_rate\", min_value=0.1, max_value=0.3, step=0.1)\n",
    "    activation = hp.Choice(\"activation\", [\"relu\", \"tanh\"])\n",
    "    dropout = hp.Boolean(\"dropout\")\n",
    "    learning_rate = hp.Float(\"lr\", min_value=1e-4, max_value=1e-1, sampling=\"log\")\n",
    "    layers = hp.Int(\"layers\", min_value=2, max_value=3, step=1)\n",
    "\n",
    "    #model creation\n",
    "    model = Sequential()\n",
    "    model.add(Input(shape=input_shape)) \n",
    "    model.add(\n",
    "        Dense(\n",
    "            units=units,\n",
    "            activation=activation\n",
    "        )\n",
    "    )\n",
    "    # Tune whether to use dropout.\n",
    "    if dropout:\n",
    "        model.add(Dropout(\n",
    "            rate=dropout_rate\n",
    "        ))\n",
    "    for _ in range(layers - 1):\n",
    "        model.add(\n",
    "            Dense(\n",
    "                units=units,\n",
    "                activation=activation\n",
    "            )\n",
    "        )\n",
    "        # Tune whether to use dropout.\n",
    "        if dropout:\n",
    "            model.add(Dropout(\n",
    "                rate=dropout_rate\n",
    "            ))\n",
    "    model.add(Dense(units=3))  # Linear output layer\n",
    "    model.add(Activation(custom_softmax))  # Custom softmax activation function\n",
    "    model.compile(\n",
    "        optimizer=Adam(learning_rate=learning_rate), \n",
    "        loss=\"mean_squared_error\", \n",
    "        metrics=[\n",
    "            MeanSquaredError(\n",
    "            reduction=\"sum_over_batch_size\", name=\"mean_squared_error\"\n",
    "        )\n",
    "        ]\n",
    "    )  # Using mean squared error for regression\n",
    "    return model\n"
   ]
  },
  {
   "cell_type": "code",
   "execution_count": 32,
   "id": "f7b2f1fe-fa37-4053-ad88-f582d9e0c844",
   "metadata": {
    "tags": []
   },
   "outputs": [
    {
     "data": {
      "text/plain": [
       "<Sequential name=sequential, built=True>"
      ]
     },
     "execution_count": 32,
     "metadata": {},
     "output_type": "execute_result"
    }
   ],
   "source": [
    "create_model(keras_tuner.HyperParameters())"
   ]
  },
  {
   "cell_type": "code",
   "execution_count": 33,
   "id": "4cc282bc-939e-489c-832b-cdf172d8d18d",
   "metadata": {
    "tags": []
   },
   "outputs": [],
   "source": [
    "# Create GridSearchCV\n",
    "grid = keras_tuner.GridSearch(\n",
    "    hypermodel=create_model,\n",
    "    objective=keras_tuner.Objective(\"val_mean_squared_error\", direction=\"min\"),\n",
    "    max_trials=5,\n",
    "    executions_per_trial=5,\n",
    "    overwrite=True\n",
    ")"
   ]
  },
  {
   "cell_type": "code",
   "execution_count": 34,
   "id": "681b5904-fe6c-4446-ab49-4296d9dcc153",
   "metadata": {
    "tags": []
   },
   "outputs": [
    {
     "name": "stdout",
     "output_type": "stream",
     "text": [
      "Search space summary\n",
      "Default search space size: 6\n",
      "units (Int)\n",
      "{'default': None, 'conditions': [], 'min_value': 32, 'max_value': 512, 'step': 32, 'sampling': 'linear'}\n",
      "dropout_rate (Float)\n",
      "{'default': 0.1, 'conditions': [], 'min_value': 0.1, 'max_value': 0.3, 'step': 0.1, 'sampling': 'linear'}\n",
      "activation (Choice)\n",
      "{'default': 'relu', 'conditions': [], 'values': ['relu', 'tanh'], 'ordered': False}\n",
      "dropout (Boolean)\n",
      "{'default': False, 'conditions': []}\n",
      "lr (Float)\n",
      "{'default': 0.0001, 'conditions': [], 'min_value': 0.0001, 'max_value': 0.1, 'step': None, 'sampling': 'log'}\n",
      "layers (Int)\n",
      "{'default': None, 'conditions': [], 'min_value': 2, 'max_value': 3, 'step': 1, 'sampling': 'linear'}\n"
     ]
    }
   ],
   "source": [
    "grid.search_space_summary()"
   ]
  },
  {
   "cell_type": "code",
   "execution_count": 35,
   "id": "ffd6ffda-86ad-4ba6-ba53-cbf334c10c90",
   "metadata": {
    "scrolled": true,
    "tags": []
   },
   "outputs": [
    {
     "name": "stdout",
     "output_type": "stream",
     "text": [
      "Trial 5 Complete [00h 00m 10s]\n",
      "val_mean_squared_error: 0.013542798906564712\n",
      "\n",
      "Best val_mean_squared_error So Far: 0.012698213942348957\n",
      "Total elapsed time: 00h 00m 58s\n"
     ]
    }
   ],
   "source": [
    "# Fit the model\n",
    "grid.search(X_train, y_train, epochs=5, validation_data=(X_val, y_val))"
   ]
  },
  {
   "cell_type": "code",
   "execution_count": 36,
   "id": "5d3911c0-c151-44a2-9ee9-20b316e4480d",
   "metadata": {
    "tags": []
   },
   "outputs": [
    {
     "name": "stderr",
     "output_type": "stream",
     "text": [
      "C:\\Users\\Cymon\\anaconda3\\Lib\\site-packages\\keras\\src\\saving\\saving_lib.py:396: UserWarning: Skipping variable loading for optimizer 'adam', because it has 2 variables whereas the saved optimizer has 18 variables. \n",
      "  trackable.load_own_variables(weights_store.get(inner_path))\n"
     ]
    },
    {
     "data": {
      "text/html": [
       "<pre style=\"white-space:pre;overflow-x:auto;line-height:normal;font-family:Menlo,'DejaVu Sans Mono',consolas,'Courier New',monospace\"><span style=\"font-weight: bold\">Model: \"sequential\"</span>\n",
       "</pre>\n"
      ],
      "text/plain": [
       "\u001b[1mModel: \"sequential\"\u001b[0m\n"
      ]
     },
     "metadata": {},
     "output_type": "display_data"
    },
    {
     "data": {
      "text/html": [
       "<pre style=\"white-space:pre;overflow-x:auto;line-height:normal;font-family:Menlo,'DejaVu Sans Mono',consolas,'Courier New',monospace\">┏━━━━━━━━━━━━━━━━━━━━━━━━━━━━━━━━━┳━━━━━━━━━━━━━━━━━━━━━━━━┳━━━━━━━━━━━━━━━┓\n",
       "┃<span style=\"font-weight: bold\"> Layer (type)                    </span>┃<span style=\"font-weight: bold\"> Output Shape           </span>┃<span style=\"font-weight: bold\">       Param # </span>┃\n",
       "┡━━━━━━━━━━━━━━━━━━━━━━━━━━━━━━━━━╇━━━━━━━━━━━━━━━━━━━━━━━━╇━━━━━━━━━━━━━━━┩\n",
       "│ dense (<span style=\"color: #0087ff; text-decoration-color: #0087ff\">Dense</span>)                   │ (<span style=\"color: #00d7ff; text-decoration-color: #00d7ff\">None</span>, <span style=\"color: #00af00; text-decoration-color: #00af00\">32</span>)             │           <span style=\"color: #00af00; text-decoration-color: #00af00\">256</span> │\n",
       "├─────────────────────────────────┼────────────────────────┼───────────────┤\n",
       "│ dense_1 (<span style=\"color: #0087ff; text-decoration-color: #0087ff\">Dense</span>)                 │ (<span style=\"color: #00d7ff; text-decoration-color: #00d7ff\">None</span>, <span style=\"color: #00af00; text-decoration-color: #00af00\">32</span>)             │         <span style=\"color: #00af00; text-decoration-color: #00af00\">1,056</span> │\n",
       "├─────────────────────────────────┼────────────────────────┼───────────────┤\n",
       "│ dense_2 (<span style=\"color: #0087ff; text-decoration-color: #0087ff\">Dense</span>)                 │ (<span style=\"color: #00d7ff; text-decoration-color: #00d7ff\">None</span>, <span style=\"color: #00af00; text-decoration-color: #00af00\">32</span>)             │         <span style=\"color: #00af00; text-decoration-color: #00af00\">1,056</span> │\n",
       "├─────────────────────────────────┼────────────────────────┼───────────────┤\n",
       "│ dense_3 (<span style=\"color: #0087ff; text-decoration-color: #0087ff\">Dense</span>)                 │ (<span style=\"color: #00d7ff; text-decoration-color: #00d7ff\">None</span>, <span style=\"color: #00af00; text-decoration-color: #00af00\">3</span>)              │            <span style=\"color: #00af00; text-decoration-color: #00af00\">99</span> │\n",
       "├─────────────────────────────────┼────────────────────────┼───────────────┤\n",
       "│ activation (<span style=\"color: #0087ff; text-decoration-color: #0087ff\">Activation</span>)         │ (<span style=\"color: #00d7ff; text-decoration-color: #00d7ff\">None</span>, <span style=\"color: #00af00; text-decoration-color: #00af00\">3</span>)              │             <span style=\"color: #00af00; text-decoration-color: #00af00\">0</span> │\n",
       "└─────────────────────────────────┴────────────────────────┴───────────────┘\n",
       "</pre>\n"
      ],
      "text/plain": [
       "┏━━━━━━━━━━━━━━━━━━━━━━━━━━━━━━━━━┳━━━━━━━━━━━━━━━━━━━━━━━━┳━━━━━━━━━━━━━━━┓\n",
       "┃\u001b[1m \u001b[0m\u001b[1mLayer (type)                   \u001b[0m\u001b[1m \u001b[0m┃\u001b[1m \u001b[0m\u001b[1mOutput Shape          \u001b[0m\u001b[1m \u001b[0m┃\u001b[1m \u001b[0m\u001b[1m      Param #\u001b[0m\u001b[1m \u001b[0m┃\n",
       "┡━━━━━━━━━━━━━━━━━━━━━━━━━━━━━━━━━╇━━━━━━━━━━━━━━━━━━━━━━━━╇━━━━━━━━━━━━━━━┩\n",
       "│ dense (\u001b[38;5;33mDense\u001b[0m)                   │ (\u001b[38;5;45mNone\u001b[0m, \u001b[38;5;34m32\u001b[0m)             │           \u001b[38;5;34m256\u001b[0m │\n",
       "├─────────────────────────────────┼────────────────────────┼───────────────┤\n",
       "│ dense_1 (\u001b[38;5;33mDense\u001b[0m)                 │ (\u001b[38;5;45mNone\u001b[0m, \u001b[38;5;34m32\u001b[0m)             │         \u001b[38;5;34m1,056\u001b[0m │\n",
       "├─────────────────────────────────┼────────────────────────┼───────────────┤\n",
       "│ dense_2 (\u001b[38;5;33mDense\u001b[0m)                 │ (\u001b[38;5;45mNone\u001b[0m, \u001b[38;5;34m32\u001b[0m)             │         \u001b[38;5;34m1,056\u001b[0m │\n",
       "├─────────────────────────────────┼────────────────────────┼───────────────┤\n",
       "│ dense_3 (\u001b[38;5;33mDense\u001b[0m)                 │ (\u001b[38;5;45mNone\u001b[0m, \u001b[38;5;34m3\u001b[0m)              │            \u001b[38;5;34m99\u001b[0m │\n",
       "├─────────────────────────────────┼────────────────────────┼───────────────┤\n",
       "│ activation (\u001b[38;5;33mActivation\u001b[0m)         │ (\u001b[38;5;45mNone\u001b[0m, \u001b[38;5;34m3\u001b[0m)              │             \u001b[38;5;34m0\u001b[0m │\n",
       "└─────────────────────────────────┴────────────────────────┴───────────────┘\n"
      ]
     },
     "metadata": {},
     "output_type": "display_data"
    },
    {
     "data": {
      "text/html": [
       "<pre style=\"white-space:pre;overflow-x:auto;line-height:normal;font-family:Menlo,'DejaVu Sans Mono',consolas,'Courier New',monospace\"><span style=\"font-weight: bold\"> Total params: </span><span style=\"color: #00af00; text-decoration-color: #00af00\">2,467</span> (9.64 KB)\n",
       "</pre>\n"
      ],
      "text/plain": [
       "\u001b[1m Total params: \u001b[0m\u001b[38;5;34m2,467\u001b[0m (9.64 KB)\n"
      ]
     },
     "metadata": {},
     "output_type": "display_data"
    },
    {
     "data": {
      "text/html": [
       "<pre style=\"white-space:pre;overflow-x:auto;line-height:normal;font-family:Menlo,'DejaVu Sans Mono',consolas,'Courier New',monospace\"><span style=\"font-weight: bold\"> Trainable params: </span><span style=\"color: #00af00; text-decoration-color: #00af00\">2,467</span> (9.64 KB)\n",
       "</pre>\n"
      ],
      "text/plain": [
       "\u001b[1m Trainable params: \u001b[0m\u001b[38;5;34m2,467\u001b[0m (9.64 KB)\n"
      ]
     },
     "metadata": {},
     "output_type": "display_data"
    },
    {
     "data": {
      "text/html": [
       "<pre style=\"white-space:pre;overflow-x:auto;line-height:normal;font-family:Menlo,'DejaVu Sans Mono',consolas,'Courier New',monospace\"><span style=\"font-weight: bold\"> Non-trainable params: </span><span style=\"color: #00af00; text-decoration-color: #00af00\">0</span> (0.00 B)\n",
       "</pre>\n"
      ],
      "text/plain": [
       "\u001b[1m Non-trainable params: \u001b[0m\u001b[38;5;34m0\u001b[0m (0.00 B)\n"
      ]
     },
     "metadata": {},
     "output_type": "display_data"
    }
   ],
   "source": [
    "# Get the top 2 models.\n",
    "models = grid.get_best_models(num_models=1)\n",
    "best_model = models[0]\n",
    "best_model.summary()"
   ]
  },
  {
   "cell_type": "code",
   "execution_count": 37,
   "id": "18b77a23-870e-4696-9dbb-e5d68ed83042",
   "metadata": {
    "tags": []
   },
   "outputs": [],
   "source": [
    "# Get the top 2 hyperparameters.\n",
    "best_hps = grid.get_best_hyperparameters(5)\n",
    "# Build the model with the best hp.\n",
    "model = create_model(best_hps[0])"
   ]
  },
  {
   "cell_type": "code",
   "execution_count": 38,
   "id": "e46f16f9-b761-4b09-a91f-1ab4440f6553",
   "metadata": {
    "tags": []
   },
   "outputs": [
    {
     "name": "stdout",
     "output_type": "stream",
     "text": [
      "Epoch 1/10\n",
      "\u001b[1m7/7\u001b[0m \u001b[32m━━━━━━━━━━━━━━━━━━━━\u001b[0m\u001b[37m\u001b[0m \u001b[1m1s\u001b[0m 3ms/step - loss: 0.0264 - mean_squared_error: 0.0264\n",
      "Epoch 2/10\n",
      "\u001b[1m7/7\u001b[0m \u001b[32m━━━━━━━━━━━━━━━━━━━━\u001b[0m\u001b[37m\u001b[0m \u001b[1m0s\u001b[0m 2ms/step - loss: 0.0156 - mean_squared_error: 0.0156 \n",
      "Epoch 3/10\n",
      "\u001b[1m7/7\u001b[0m \u001b[32m━━━━━━━━━━━━━━━━━━━━\u001b[0m\u001b[37m\u001b[0m \u001b[1m0s\u001b[0m 1ms/step - loss: 0.0137 - mean_squared_error: 0.0137 \n",
      "Epoch 4/10\n",
      "\u001b[1m7/7\u001b[0m \u001b[32m━━━━━━━━━━━━━━━━━━━━\u001b[0m\u001b[37m\u001b[0m \u001b[1m0s\u001b[0m 2ms/step - loss: 0.0126 - mean_squared_error: 0.0126 \n",
      "Epoch 5/10\n",
      "\u001b[1m7/7\u001b[0m \u001b[32m━━━━━━━━━━━━━━━━━━━━\u001b[0m\u001b[37m\u001b[0m \u001b[1m0s\u001b[0m 2ms/step - loss: 0.0116 - mean_squared_error: 0.0116 \n",
      "Epoch 6/10\n",
      "\u001b[1m7/7\u001b[0m \u001b[32m━━━━━━━━━━━━━━━━━━━━\u001b[0m\u001b[37m\u001b[0m \u001b[1m0s\u001b[0m 2ms/step - loss: 0.0129 - mean_squared_error: 0.0129 \n",
      "Epoch 7/10\n",
      "\u001b[1m7/7\u001b[0m \u001b[32m━━━━━━━━━━━━━━━━━━━━\u001b[0m\u001b[37m\u001b[0m \u001b[1m0s\u001b[0m 2ms/step - loss: 0.0122 - mean_squared_error: 0.0122 \n",
      "Epoch 8/10\n",
      "\u001b[1m7/7\u001b[0m \u001b[32m━━━━━━━━━━━━━━━━━━━━\u001b[0m\u001b[37m\u001b[0m \u001b[1m0s\u001b[0m 2ms/step - loss: 0.0101 - mean_squared_error: 0.0101 \n",
      "Epoch 9/10\n",
      "\u001b[1m7/7\u001b[0m \u001b[32m━━━━━━━━━━━━━━━━━━━━\u001b[0m\u001b[37m\u001b[0m \u001b[1m0s\u001b[0m 2ms/step - loss: 0.0122 - mean_squared_error: 0.0122 \n",
      "Epoch 10/10\n",
      "\u001b[1m7/7\u001b[0m \u001b[32m━━━━━━━━━━━━━━━━━━━━\u001b[0m\u001b[37m\u001b[0m \u001b[1m0s\u001b[0m 2ms/step - loss: 0.0103 - mean_squared_error: 0.0103 \n"
     ]
    },
    {
     "data": {
      "text/plain": [
       "<keras.src.callbacks.history.History at 0x12a7909f4d0>"
      ]
     },
     "execution_count": 38,
     "metadata": {},
     "output_type": "execute_result"
    }
   ],
   "source": [
    "model.fit(x=X_train, y=y_train, epochs=10)"
   ]
  },
  {
   "cell_type": "code",
   "execution_count": 39,
   "id": "c57f3405-0af4-4697-a6b3-873e3c7b66b7",
   "metadata": {
    "tags": []
   },
   "outputs": [
    {
     "name": "stdout",
     "output_type": "stream",
     "text": [
      "\u001b[1m5/5\u001b[0m \u001b[32m━━━━━━━━━━━━━━━━━━━━\u001b[0m\u001b[37m\u001b[0m \u001b[1m0s\u001b[0m 11ms/step\n",
      "Predicted values:\n",
      "[[0.2077068  0.22090186 0.57139134]\n",
      " [0.22620946 0.40106887 0.37272167]\n",
      " [0.20702805 0.13801646 0.65495545]\n",
      " [0.22516242 0.24111405 0.5337235 ]\n",
      " [0.21978672 0.15491696 0.6252963 ]\n",
      " [0.21737467 0.1817571  0.6008682 ]\n",
      " [0.21630646 0.14102492 0.64266866]\n",
      " [0.2175723  0.17157343 0.61085427]\n",
      " [0.21973038 0.1771297  0.60313994]\n",
      " [0.23832817 0.24748272 0.5141891 ]\n",
      " [0.22678007 0.4029131  0.37030682]\n",
      " [0.20407128 0.220138   0.5757907 ]\n",
      " [0.22418728 0.22755523 0.54825747]\n",
      " [0.21208283 0.17162813 0.6162891 ]\n",
      " [0.23042914 0.19307701 0.57649386]\n",
      " [0.20926303 0.1776236  0.61311334]\n",
      " [0.22444068 0.17231151 0.6032478 ]\n",
      " [0.22406052 0.18114829 0.5947912 ]\n",
      " [0.22558771 0.19828458 0.57612777]\n",
      " [0.22646949 0.15894748 0.6145831 ]\n",
      " [0.2153504  0.31372684 0.47092274]\n",
      " [0.21816768 0.17411175 0.6077206 ]\n",
      " [0.22629674 0.19234525 0.581358  ]\n",
      " [0.21878393 0.35966372 0.42155233]\n",
      " [0.20870472 0.21273254 0.57856274]\n",
      " [0.2173643  0.16227894 0.6203568 ]\n",
      " [0.23104116 0.20460676 0.56435204]\n",
      " [0.21429339 0.24464512 0.5410616 ]\n",
      " [0.22472249 0.23566099 0.5396165 ]\n",
      " [0.20962326 0.14560015 0.6447765 ]\n",
      " [0.21642412 0.21414615 0.56942976]\n",
      " [0.21596879 0.21745811 0.56657314]\n",
      " [0.23249294 0.40590167 0.36160544]\n",
      " [0.21642344 0.1580578  0.6255188 ]\n",
      " [0.23059173 0.3954913  0.37391698]\n",
      " [0.21791138 0.147857   0.63423157]\n",
      " [0.21063103 0.15850778 0.6308612 ]\n",
      " [0.21319187 0.32380608 0.46300203]\n",
      " [0.23731314 0.34853768 0.41414922]\n",
      " [0.20978926 0.13032469 0.659886  ]\n",
      " [0.21694419 0.18266201 0.60039383]\n",
      " [0.20869416 0.13907228 0.65223354]\n",
      " [0.21122618 0.23902084 0.549753  ]\n",
      " [0.2203296  0.1514181  0.62825227]\n",
      " [0.215054   0.15142547 0.63352054]\n",
      " [0.22875518 0.2201778  0.55106705]\n",
      " [0.22871923 0.38134757 0.3899333 ]\n",
      " [0.2329511  0.20617914 0.5608697 ]\n",
      " [0.21724238 0.16102344 0.62173426]\n",
      " [0.2021399  0.21670528 0.5811548 ]\n",
      " [0.21685193 0.26141027 0.5217378 ]\n",
      " [0.22205372 0.19637991 0.58156633]\n",
      " [0.21726786 0.16046041 0.6222717 ]\n",
      " [0.20646343 0.2119025  0.5816341 ]\n",
      " [0.23178667 0.20026386 0.5679495 ]\n",
      " [0.20601663 0.15696965 0.63701373]\n",
      " [0.21389437 0.13719541 0.6489102 ]\n",
      " [0.21966247 0.18543744 0.5949001 ]\n",
      " [0.20679669 0.18908188 0.6041215 ]\n",
      " [0.2369264  0.37325436 0.38981926]\n",
      " [0.23138562 0.3106718  0.45794255]\n",
      " [0.2111374  0.1312954  0.65756714]\n",
      " [0.2188504  0.14822638 0.63292325]\n",
      " [0.21814401 0.17566027 0.60619575]\n",
      " [0.23139766 0.29106408 0.47753826]\n",
      " [0.21141125 0.21405104 0.5745377 ]\n",
      " [0.22364035 0.1946898  0.5816699 ]\n",
      " [0.20420383 0.1721133  0.62368286]\n",
      " [0.23142529 0.2724941  0.4960806 ]\n",
      " [0.2242659  0.40929258 0.3664415 ]\n",
      " [0.21624118 0.15717365 0.6265851 ]\n",
      " [0.22986418 0.21183091 0.55830497]\n",
      " [0.22401164 0.14661281 0.6293756 ]\n",
      " [0.20393063 0.14998606 0.6460833 ]\n",
      " [0.22370987 0.32137388 0.45491627]\n",
      " [0.21713182 0.14835449 0.6345137 ]\n",
      " [0.22018261 0.20925798 0.5705594 ]\n",
      " [0.2237635  0.18067013 0.59556633]\n",
      " [0.22739488 0.32463714 0.44796792]\n",
      " [0.220214   0.17161715 0.6081689 ]\n",
      " [0.22060873 0.2101016  0.5692896 ]\n",
      " [0.22711837 0.28111142 0.49177024]\n",
      " [0.21366793 0.15156522 0.6347669 ]\n",
      " [0.20826094 0.16254403 0.6291951 ]\n",
      " [0.22128518 0.17107853 0.6076363 ]\n",
      " [0.2087531  0.21080044 0.5804465 ]\n",
      " [0.2115011  0.18007767 0.6084212 ]\n",
      " [0.22252208 0.16715483 0.61032313]\n",
      " [0.2227408  0.16790737 0.6093519 ]\n",
      " [0.22590876 0.17625391 0.5978373 ]\n",
      " [0.22235174 0.19267297 0.5849753 ]\n",
      " [0.20492874 0.22809534 0.56697595]\n",
      " [0.23360525 0.3819344  0.38446036]\n",
      " [0.22199059 0.25540912 0.52260035]\n",
      " [0.22090033 0.19871424 0.5803854 ]\n",
      " [0.20842552 0.13962327 0.6519512 ]\n",
      " [0.22350384 0.20838118 0.568115  ]\n",
      " [0.2310461  0.37733835 0.3916156 ]\n",
      " [0.21495166 0.1842087  0.6008396 ]\n",
      " [0.2342452  0.258365   0.5073898 ]\n",
      " [0.20152341 0.14867376 0.6498028 ]\n",
      " [0.23457521 0.23529516 0.5301296 ]\n",
      " [0.227738   0.36524314 0.40701884]\n",
      " [0.23190482 0.3240444  0.44405085]\n",
      " [0.21004052 0.18600905 0.6039504 ]\n",
      " [0.2280958  0.370378   0.40152627]\n",
      " [0.22101885 0.16284554 0.61613554]\n",
      " [0.20521203 0.5058514  0.2889366 ]\n",
      " [0.22452752 0.16430297 0.6111696 ]\n",
      " [0.2230189  0.24955022 0.5274309 ]\n",
      " [0.22175303 0.1811963  0.59705067]\n",
      " [0.21885407 0.1677753  0.61337066]\n",
      " [0.21422155 0.1500956  0.6356828 ]\n",
      " [0.23170981 0.27149785 0.4967923 ]\n",
      " [0.2081699  0.19590762 0.5959225 ]\n",
      " [0.23343252 0.328971   0.43759644]\n",
      " [0.23081231 0.41799676 0.3511909 ]\n",
      " [0.22117527 0.25561738 0.52320737]\n",
      " [0.22614916 0.42957625 0.34427458]\n",
      " [0.23386979 0.26334396 0.5027862 ]\n",
      " [0.2128963  0.48604146 0.30106226]\n",
      " [0.21640219 0.20074204 0.58285576]\n",
      " [0.23885089 0.23792094 0.5232282 ]\n",
      " [0.22509079 0.19118623 0.58372307]\n",
      " [0.20485829 0.130987   0.6641547 ]\n",
      " [0.2131922  0.15326235 0.63354546]\n",
      " [0.23510121 0.19904035 0.5658584 ]\n",
      " [0.22408238 0.18631297 0.5896046 ]\n",
      " [0.2007623  0.11564367 0.68359405]\n",
      " [0.22776484 0.4109664  0.36126876]\n",
      " [0.20685579 0.17228067 0.6208636 ]\n",
      " [0.2127251  0.21475507 0.57251984]\n",
      " [0.21342501 0.17686924 0.6097057 ]\n",
      " [0.22525214 0.17502023 0.5997276 ]\n",
      " [0.22499673 0.17768145 0.59732187]\n",
      " [0.21247895 0.14967874 0.63784224]]\n"
     ]
    }
   ],
   "source": [
    "# Predict using the best model\n",
    "y_pred = model.predict(X_test)\n",
    "\n",
    "# Print the predicted values\n",
    "print(\"Predicted values:\")\n",
    "print(y_pred)"
   ]
  },
  {
   "cell_type": "code",
   "execution_count": 40,
   "id": "9ae09790-0d38-4806-bf06-cce56fb84bba",
   "metadata": {
    "tags": []
   },
   "outputs": [
    {
     "data": {
      "text/html": [
       "<div>\n",
       "<style scoped>\n",
       "    .dataframe tbody tr th:only-of-type {\n",
       "        vertical-align: middle;\n",
       "    }\n",
       "\n",
       "    .dataframe tbody tr th {\n",
       "        vertical-align: top;\n",
       "    }\n",
       "\n",
       "    .dataframe thead th {\n",
       "        text-align: right;\n",
       "    }\n",
       "</style>\n",
       "<table border=\"1\" class=\"dataframe\">\n",
       "  <thead>\n",
       "    <tr style=\"text-align: right;\">\n",
       "      <th></th>\n",
       "      <th>RSP</th>\n",
       "      <th>DSP</th>\n",
       "      <th>LSP</th>\n",
       "    </tr>\n",
       "  </thead>\n",
       "  <tbody>\n",
       "    <tr>\n",
       "      <th>0</th>\n",
       "      <td>0.207707</td>\n",
       "      <td>0.220902</td>\n",
       "      <td>0.571391</td>\n",
       "    </tr>\n",
       "    <tr>\n",
       "      <th>1</th>\n",
       "      <td>0.226209</td>\n",
       "      <td>0.401069</td>\n",
       "      <td>0.372722</td>\n",
       "    </tr>\n",
       "    <tr>\n",
       "      <th>2</th>\n",
       "      <td>0.207028</td>\n",
       "      <td>0.138016</td>\n",
       "      <td>0.654955</td>\n",
       "    </tr>\n",
       "    <tr>\n",
       "      <th>3</th>\n",
       "      <td>0.225162</td>\n",
       "      <td>0.241114</td>\n",
       "      <td>0.533723</td>\n",
       "    </tr>\n",
       "    <tr>\n",
       "      <th>4</th>\n",
       "      <td>0.219787</td>\n",
       "      <td>0.154917</td>\n",
       "      <td>0.625296</td>\n",
       "    </tr>\n",
       "    <tr>\n",
       "      <th>...</th>\n",
       "      <td>...</td>\n",
       "      <td>...</td>\n",
       "      <td>...</td>\n",
       "    </tr>\n",
       "    <tr>\n",
       "      <th>131</th>\n",
       "      <td>0.212725</td>\n",
       "      <td>0.214755</td>\n",
       "      <td>0.572520</td>\n",
       "    </tr>\n",
       "    <tr>\n",
       "      <th>132</th>\n",
       "      <td>0.213425</td>\n",
       "      <td>0.176869</td>\n",
       "      <td>0.609706</td>\n",
       "    </tr>\n",
       "    <tr>\n",
       "      <th>133</th>\n",
       "      <td>0.225252</td>\n",
       "      <td>0.175020</td>\n",
       "      <td>0.599728</td>\n",
       "    </tr>\n",
       "    <tr>\n",
       "      <th>134</th>\n",
       "      <td>0.224997</td>\n",
       "      <td>0.177681</td>\n",
       "      <td>0.597322</td>\n",
       "    </tr>\n",
       "    <tr>\n",
       "      <th>135</th>\n",
       "      <td>0.212479</td>\n",
       "      <td>0.149679</td>\n",
       "      <td>0.637842</td>\n",
       "    </tr>\n",
       "  </tbody>\n",
       "</table>\n",
       "<p>136 rows × 3 columns</p>\n",
       "</div>"
      ],
      "text/plain": [
       "          RSP       DSP       LSP\n",
       "0    0.207707  0.220902  0.571391\n",
       "1    0.226209  0.401069  0.372722\n",
       "2    0.207028  0.138016  0.654955\n",
       "3    0.225162  0.241114  0.533723\n",
       "4    0.219787  0.154917  0.625296\n",
       "..        ...       ...       ...\n",
       "131  0.212725  0.214755  0.572520\n",
       "132  0.213425  0.176869  0.609706\n",
       "133  0.225252  0.175020  0.599728\n",
       "134  0.224997  0.177681  0.597322\n",
       "135  0.212479  0.149679  0.637842\n",
       "\n",
       "[136 rows x 3 columns]"
      ]
     },
     "execution_count": 40,
     "metadata": {},
     "output_type": "execute_result"
    }
   ],
   "source": [
    "results = pd.DataFrame(y_pred, columns=['RSP', 'DSP', 'LSP'])\n",
    "results"
   ]
  },
  {
   "cell_type": "code",
   "execution_count": 41,
   "id": "92be30db-44b2-4660-a722-fb896a12f258",
   "metadata": {
    "tags": []
   },
   "outputs": [
    {
     "data": {
      "text/html": [
       "<div>\n",
       "<style scoped>\n",
       "    .dataframe tbody tr th:only-of-type {\n",
       "        vertical-align: middle;\n",
       "    }\n",
       "\n",
       "    .dataframe tbody tr th {\n",
       "        vertical-align: top;\n",
       "    }\n",
       "\n",
       "    .dataframe thead th {\n",
       "        text-align: right;\n",
       "    }\n",
       "</style>\n",
       "<table border=\"1\" class=\"dataframe\">\n",
       "  <thead>\n",
       "    <tr style=\"text-align: right;\">\n",
       "      <th></th>\n",
       "      <th>RSP</th>\n",
       "      <th>DSP</th>\n",
       "      <th>LSP</th>\n",
       "      <th>sum_value</th>\n",
       "      <th>is_sum_one</th>\n",
       "    </tr>\n",
       "  </thead>\n",
       "  <tbody>\n",
       "    <tr>\n",
       "      <th>0</th>\n",
       "      <td>0.207707</td>\n",
       "      <td>0.220902</td>\n",
       "      <td>0.571391</td>\n",
       "      <td>1.0</td>\n",
       "      <td>True</td>\n",
       "    </tr>\n",
       "    <tr>\n",
       "      <th>1</th>\n",
       "      <td>0.226209</td>\n",
       "      <td>0.401069</td>\n",
       "      <td>0.372722</td>\n",
       "      <td>1.0</td>\n",
       "      <td>True</td>\n",
       "    </tr>\n",
       "    <tr>\n",
       "      <th>2</th>\n",
       "      <td>0.207028</td>\n",
       "      <td>0.138016</td>\n",
       "      <td>0.654955</td>\n",
       "      <td>1.0</td>\n",
       "      <td>True</td>\n",
       "    </tr>\n",
       "    <tr>\n",
       "      <th>3</th>\n",
       "      <td>0.225162</td>\n",
       "      <td>0.241114</td>\n",
       "      <td>0.533723</td>\n",
       "      <td>1.0</td>\n",
       "      <td>True</td>\n",
       "    </tr>\n",
       "    <tr>\n",
       "      <th>4</th>\n",
       "      <td>0.219787</td>\n",
       "      <td>0.154917</td>\n",
       "      <td>0.625296</td>\n",
       "      <td>1.0</td>\n",
       "      <td>True</td>\n",
       "    </tr>\n",
       "    <tr>\n",
       "      <th>...</th>\n",
       "      <td>...</td>\n",
       "      <td>...</td>\n",
       "      <td>...</td>\n",
       "      <td>...</td>\n",
       "      <td>...</td>\n",
       "    </tr>\n",
       "    <tr>\n",
       "      <th>131</th>\n",
       "      <td>0.212725</td>\n",
       "      <td>0.214755</td>\n",
       "      <td>0.572520</td>\n",
       "      <td>1.0</td>\n",
       "      <td>True</td>\n",
       "    </tr>\n",
       "    <tr>\n",
       "      <th>132</th>\n",
       "      <td>0.213425</td>\n",
       "      <td>0.176869</td>\n",
       "      <td>0.609706</td>\n",
       "      <td>1.0</td>\n",
       "      <td>True</td>\n",
       "    </tr>\n",
       "    <tr>\n",
       "      <th>133</th>\n",
       "      <td>0.225252</td>\n",
       "      <td>0.175020</td>\n",
       "      <td>0.599728</td>\n",
       "      <td>1.0</td>\n",
       "      <td>True</td>\n",
       "    </tr>\n",
       "    <tr>\n",
       "      <th>134</th>\n",
       "      <td>0.224997</td>\n",
       "      <td>0.177681</td>\n",
       "      <td>0.597322</td>\n",
       "      <td>1.0</td>\n",
       "      <td>True</td>\n",
       "    </tr>\n",
       "    <tr>\n",
       "      <th>135</th>\n",
       "      <td>0.212479</td>\n",
       "      <td>0.149679</td>\n",
       "      <td>0.637842</td>\n",
       "      <td>1.0</td>\n",
       "      <td>True</td>\n",
       "    </tr>\n",
       "  </tbody>\n",
       "</table>\n",
       "<p>136 rows × 5 columns</p>\n",
       "</div>"
      ],
      "text/plain": [
       "          RSP       DSP       LSP  sum_value  is_sum_one\n",
       "0    0.207707  0.220902  0.571391        1.0        True\n",
       "1    0.226209  0.401069  0.372722        1.0        True\n",
       "2    0.207028  0.138016  0.654955        1.0        True\n",
       "3    0.225162  0.241114  0.533723        1.0        True\n",
       "4    0.219787  0.154917  0.625296        1.0        True\n",
       "..        ...       ...       ...        ...         ...\n",
       "131  0.212725  0.214755  0.572520        1.0        True\n",
       "132  0.213425  0.176869  0.609706        1.0        True\n",
       "133  0.225252  0.175020  0.599728        1.0        True\n",
       "134  0.224997  0.177681  0.597322        1.0        True\n",
       "135  0.212479  0.149679  0.637842        1.0        True\n",
       "\n",
       "[136 rows x 5 columns]"
      ]
     },
     "metadata": {},
     "output_type": "display_data"
    },
    {
     "name": "stdout",
     "output_type": "stream",
     "text": [
      "Number of Rows:  136\n",
      "Number of True values in 'is_sum_one' column: 136\n"
     ]
    }
   ],
   "source": [
    "# Adding a new column with the sum of values from columns 'RSP', 'DSP', 'LSP'\n",
    "results.loc[:, 'sum_value'] = results['RSP'] + results['DSP'] + results['LSP']\n",
    "\n",
    "# Checking if each row in 'sum_value' column is equal to 1 and storing the result in a new column\n",
    "tolerance = 1e-10  # Define a tolerance level\n",
    "results['is_sum_one'] = np.isclose(results['sum_value'], 1.0, atol=tolerance)\n",
    "\n",
    "display(results)\n",
    "print(\"Number of Rows: \", results.shape[0])\n",
    "\n",
    "# Counting the number of True values in 'is_sum_one' column\n",
    "true_count = results['is_sum_one'].sum()\n",
    "\n",
    "print(\"Number of True values in 'is_sum_one' column:\", true_count)"
   ]
  },
  {
   "cell_type": "markdown",
   "id": "1d69192a-e3a7-4612-b9c1-1be2968a4204",
   "metadata": {},
   "source": [
    "The variables `REM Sleep Percentage`, `Deep Sleep Percentage`, and `Light Sleep percentage` are all accumulating to 100. This is shown in the following code:"
   ]
  },
  {
   "cell_type": "code",
   "execution_count": 42,
   "id": "4806e08f-4506-4041-abf3-8d3ad1a082e7",
   "metadata": {
    "tags": []
   },
   "outputs": [
    {
     "data": {
      "text/html": [
       "<div>\n",
       "<style scoped>\n",
       "    .dataframe tbody tr th:only-of-type {\n",
       "        vertical-align: middle;\n",
       "    }\n",
       "\n",
       "    .dataframe tbody tr th {\n",
       "        vertical-align: top;\n",
       "    }\n",
       "\n",
       "    .dataframe thead th {\n",
       "        text-align: right;\n",
       "    }\n",
       "</style>\n",
       "<table border=\"1\" class=\"dataframe\">\n",
       "  <thead>\n",
       "    <tr style=\"text-align: right;\">\n",
       "      <th></th>\n",
       "      <th>RSP</th>\n",
       "      <th>DSP</th>\n",
       "      <th>LSP</th>\n",
       "      <th>sum_value</th>\n",
       "      <th>is_sum_one</th>\n",
       "    </tr>\n",
       "  </thead>\n",
       "  <tbody>\n",
       "    <tr>\n",
       "      <th>0</th>\n",
       "      <td>0.18</td>\n",
       "      <td>0.70</td>\n",
       "      <td>0.12</td>\n",
       "      <td>1.0</td>\n",
       "      <td>True</td>\n",
       "    </tr>\n",
       "    <tr>\n",
       "      <th>1</th>\n",
       "      <td>0.19</td>\n",
       "      <td>0.28</td>\n",
       "      <td>0.53</td>\n",
       "      <td>1.0</td>\n",
       "      <td>True</td>\n",
       "    </tr>\n",
       "    <tr>\n",
       "      <th>2</th>\n",
       "      <td>0.20</td>\n",
       "      <td>0.70</td>\n",
       "      <td>0.10</td>\n",
       "      <td>1.0</td>\n",
       "      <td>True</td>\n",
       "    </tr>\n",
       "    <tr>\n",
       "      <th>3</th>\n",
       "      <td>0.23</td>\n",
       "      <td>0.25</td>\n",
       "      <td>0.52</td>\n",
       "      <td>1.0</td>\n",
       "      <td>True</td>\n",
       "    </tr>\n",
       "    <tr>\n",
       "      <th>4</th>\n",
       "      <td>0.27</td>\n",
       "      <td>0.55</td>\n",
       "      <td>0.18</td>\n",
       "      <td>1.0</td>\n",
       "      <td>True</td>\n",
       "    </tr>\n",
       "    <tr>\n",
       "      <th>...</th>\n",
       "      <td>...</td>\n",
       "      <td>...</td>\n",
       "      <td>...</td>\n",
       "      <td>...</td>\n",
       "      <td>...</td>\n",
       "    </tr>\n",
       "    <tr>\n",
       "      <th>447</th>\n",
       "      <td>0.22</td>\n",
       "      <td>0.57</td>\n",
       "      <td>0.21</td>\n",
       "      <td>1.0</td>\n",
       "      <td>True</td>\n",
       "    </tr>\n",
       "    <tr>\n",
       "      <th>448</th>\n",
       "      <td>0.28</td>\n",
       "      <td>0.57</td>\n",
       "      <td>0.15</td>\n",
       "      <td>1.0</td>\n",
       "      <td>True</td>\n",
       "    </tr>\n",
       "    <tr>\n",
       "      <th>449</th>\n",
       "      <td>0.20</td>\n",
       "      <td>0.32</td>\n",
       "      <td>0.48</td>\n",
       "      <td>1.0</td>\n",
       "      <td>True</td>\n",
       "    </tr>\n",
       "    <tr>\n",
       "      <th>450</th>\n",
       "      <td>0.18</td>\n",
       "      <td>0.72</td>\n",
       "      <td>0.10</td>\n",
       "      <td>1.0</td>\n",
       "      <td>True</td>\n",
       "    </tr>\n",
       "    <tr>\n",
       "      <th>451</th>\n",
       "      <td>0.22</td>\n",
       "      <td>0.23</td>\n",
       "      <td>0.55</td>\n",
       "      <td>1.0</td>\n",
       "      <td>True</td>\n",
       "    </tr>\n",
       "  </tbody>\n",
       "</table>\n",
       "<p>452 rows × 5 columns</p>\n",
       "</div>"
      ],
      "text/plain": [
       "      RSP   DSP   LSP  sum_value  is_sum_one\n",
       "0    0.18  0.70  0.12        1.0        True\n",
       "1    0.19  0.28  0.53        1.0        True\n",
       "2    0.20  0.70  0.10        1.0        True\n",
       "3    0.23  0.25  0.52        1.0        True\n",
       "4    0.27  0.55  0.18        1.0        True\n",
       "..    ...   ...   ...        ...         ...\n",
       "447  0.22  0.57  0.21        1.0        True\n",
       "448  0.28  0.57  0.15        1.0        True\n",
       "449  0.20  0.32  0.48        1.0        True\n",
       "450  0.18  0.72  0.10        1.0        True\n",
       "451  0.22  0.23  0.55        1.0        True\n",
       "\n",
       "[452 rows x 5 columns]"
      ]
     },
     "metadata": {},
     "output_type": "display_data"
    },
    {
     "name": "stdout",
     "output_type": "stream",
     "text": [
      "Number of Rows:  452\n",
      "Number of True values in 'is_sum_one' column: 452\n"
     ]
    }
   ],
   "source": [
    "df = sleep_df[['RSP', 'DSP', 'LSP']].copy()\n",
    "\n",
    "# Adding a new column with the sum of values from columns 'RSP', 'DSP', 'LSP'\n",
    "df.loc[:, 'sum_value'] = df['RSP'] + df['DSP'] + df['LSP']\n",
    "\n",
    "# Checking if each row in 'sum_value' column is equal to 1 and storing the result in a new column\n",
    "tolerance = 1e-10  # Define a tolerance level\n",
    "df['is_sum_one'] = np.isclose(df['sum_value'], 1.0, atol=tolerance)\n",
    "\n",
    "display(df)\n",
    "print(\"Number of Rows: \", df.shape[0])\n",
    "\n",
    "# Counting the number of True values in 'is_sum_one' column\n",
    "true_count = df['is_sum_one'].sum()\n",
    "\n",
    "print(\"Number of True values in 'is_sum_one' column:\", true_count)"
   ]
  },
  {
   "cell_type": "markdown",
   "id": "4ca3c2ee-fa43-4db3-8e2b-4c5bfa478643",
   "metadata": {},
   "source": [
    "The researchers viewed this as the probability of whether the instance's major type of sleep is either `REM Sleep`, `Deep Sleep`, and `Light Sleep`. Therefore, for the machine learning model to predict such classification, a new column named `Sleep_Type` is appended, where the values are the classifications `REM`, `Deep`, and `Light`."
   ]
  },
  {
   "cell_type": "code",
   "execution_count": 43,
   "id": "8290006f-4078-4dce-932e-2f8b246ea6a1",
   "metadata": {
    "tags": []
   },
   "outputs": [],
   "source": [
    "sleep_df['Sleep_Type'] = sleep_df[['RSP', 'DSP', 'LSP']].idxmax(axis=1)"
   ]
  },
  {
   "cell_type": "code",
   "execution_count": 44,
   "id": "33c369cc-8da2-4c22-bed3-d15301e7434d",
   "metadata": {
    "tags": []
   },
   "outputs": [],
   "source": [
    "# Mapping the max_value to sleep types\n",
    "sleep_type_map = {'RSP': 'REM', 'DSP': 'Deep', 'LSP': 'Light'}\n",
    "sleep_df['Sleep_Type'] = sleep_df['Sleep_Type'].map(sleep_type_map)"
   ]
  },
  {
   "cell_type": "code",
   "execution_count": 45,
   "id": "0a622993-1484-48f7-8dc6-1aa0adce409f",
   "metadata": {
    "tags": []
   },
   "outputs": [
    {
     "data": {
      "text/html": [
       "<div>\n",
       "<style scoped>\n",
       "    .dataframe tbody tr th:only-of-type {\n",
       "        vertical-align: middle;\n",
       "    }\n",
       "\n",
       "    .dataframe tbody tr th {\n",
       "        vertical-align: top;\n",
       "    }\n",
       "\n",
       "    .dataframe thead th {\n",
       "        text-align: right;\n",
       "    }\n",
       "</style>\n",
       "<table border=\"1\" class=\"dataframe\">\n",
       "  <thead>\n",
       "    <tr style=\"text-align: right;\">\n",
       "      <th></th>\n",
       "      <th>Age</th>\n",
       "      <th>Sleep_Duration</th>\n",
       "      <th>RSP</th>\n",
       "      <th>DSP</th>\n",
       "      <th>LSP</th>\n",
       "      <th>Awakenings</th>\n",
       "      <th>Caffeine</th>\n",
       "      <th>Alcohol</th>\n",
       "      <th>Smokes</th>\n",
       "      <th>Exercises</th>\n",
       "      <th>Sleep_Type</th>\n",
       "    </tr>\n",
       "  </thead>\n",
       "  <tbody>\n",
       "    <tr>\n",
       "      <th>0</th>\n",
       "      <td>65</td>\n",
       "      <td>6.0</td>\n",
       "      <td>0.18</td>\n",
       "      <td>0.70</td>\n",
       "      <td>0.12</td>\n",
       "      <td>0.0</td>\n",
       "      <td>0.0</td>\n",
       "      <td>0.0</td>\n",
       "      <td>1</td>\n",
       "      <td>3.0</td>\n",
       "      <td>Deep</td>\n",
       "    </tr>\n",
       "    <tr>\n",
       "      <th>1</th>\n",
       "      <td>69</td>\n",
       "      <td>7.0</td>\n",
       "      <td>0.19</td>\n",
       "      <td>0.28</td>\n",
       "      <td>0.53</td>\n",
       "      <td>3.0</td>\n",
       "      <td>0.0</td>\n",
       "      <td>85048.5</td>\n",
       "      <td>1</td>\n",
       "      <td>3.0</td>\n",
       "      <td>Light</td>\n",
       "    </tr>\n",
       "    <tr>\n",
       "      <th>2</th>\n",
       "      <td>40</td>\n",
       "      <td>8.0</td>\n",
       "      <td>0.20</td>\n",
       "      <td>0.70</td>\n",
       "      <td>0.10</td>\n",
       "      <td>1.0</td>\n",
       "      <td>0.0</td>\n",
       "      <td>0.0</td>\n",
       "      <td>0</td>\n",
       "      <td>3.0</td>\n",
       "      <td>Deep</td>\n",
       "    </tr>\n",
       "    <tr>\n",
       "      <th>3</th>\n",
       "      <td>40</td>\n",
       "      <td>6.0</td>\n",
       "      <td>0.23</td>\n",
       "      <td>0.25</td>\n",
       "      <td>0.52</td>\n",
       "      <td>3.0</td>\n",
       "      <td>50.0</td>\n",
       "      <td>141747.5</td>\n",
       "      <td>1</td>\n",
       "      <td>1.0</td>\n",
       "      <td>Light</td>\n",
       "    </tr>\n",
       "    <tr>\n",
       "      <th>4</th>\n",
       "      <td>57</td>\n",
       "      <td>8.0</td>\n",
       "      <td>0.27</td>\n",
       "      <td>0.55</td>\n",
       "      <td>0.18</td>\n",
       "      <td>3.0</td>\n",
       "      <td>0.0</td>\n",
       "      <td>85048.5</td>\n",
       "      <td>0</td>\n",
       "      <td>3.0</td>\n",
       "      <td>Deep</td>\n",
       "    </tr>\n",
       "    <tr>\n",
       "      <th>...</th>\n",
       "      <td>...</td>\n",
       "      <td>...</td>\n",
       "      <td>...</td>\n",
       "      <td>...</td>\n",
       "      <td>...</td>\n",
       "      <td>...</td>\n",
       "      <td>...</td>\n",
       "      <td>...</td>\n",
       "      <td>...</td>\n",
       "      <td>...</td>\n",
       "      <td>...</td>\n",
       "    </tr>\n",
       "    <tr>\n",
       "      <th>447</th>\n",
       "      <td>27</td>\n",
       "      <td>7.5</td>\n",
       "      <td>0.22</td>\n",
       "      <td>0.57</td>\n",
       "      <td>0.21</td>\n",
       "      <td>0.0</td>\n",
       "      <td>0.0</td>\n",
       "      <td>0.0</td>\n",
       "      <td>0</td>\n",
       "      <td>5.0</td>\n",
       "      <td>Deep</td>\n",
       "    </tr>\n",
       "    <tr>\n",
       "      <th>448</th>\n",
       "      <td>52</td>\n",
       "      <td>6.0</td>\n",
       "      <td>0.28</td>\n",
       "      <td>0.57</td>\n",
       "      <td>0.15</td>\n",
       "      <td>4.0</td>\n",
       "      <td>25.0</td>\n",
       "      <td>0.0</td>\n",
       "      <td>0</td>\n",
       "      <td>3.0</td>\n",
       "      <td>Deep</td>\n",
       "    </tr>\n",
       "    <tr>\n",
       "      <th>449</th>\n",
       "      <td>40</td>\n",
       "      <td>8.5</td>\n",
       "      <td>0.20</td>\n",
       "      <td>0.32</td>\n",
       "      <td>0.48</td>\n",
       "      <td>1.0</td>\n",
       "      <td>0.0</td>\n",
       "      <td>85048.5</td>\n",
       "      <td>1</td>\n",
       "      <td>0.0</td>\n",
       "      <td>Light</td>\n",
       "    </tr>\n",
       "    <tr>\n",
       "      <th>450</th>\n",
       "      <td>45</td>\n",
       "      <td>7.0</td>\n",
       "      <td>0.18</td>\n",
       "      <td>0.72</td>\n",
       "      <td>0.10</td>\n",
       "      <td>3.0</td>\n",
       "      <td>0.0</td>\n",
       "      <td>0.0</td>\n",
       "      <td>0</td>\n",
       "      <td>3.0</td>\n",
       "      <td>Deep</td>\n",
       "    </tr>\n",
       "    <tr>\n",
       "      <th>451</th>\n",
       "      <td>18</td>\n",
       "      <td>7.5</td>\n",
       "      <td>0.22</td>\n",
       "      <td>0.23</td>\n",
       "      <td>0.55</td>\n",
       "      <td>1.0</td>\n",
       "      <td>50.0</td>\n",
       "      <td>0.0</td>\n",
       "      <td>0</td>\n",
       "      <td>1.0</td>\n",
       "      <td>Light</td>\n",
       "    </tr>\n",
       "  </tbody>\n",
       "</table>\n",
       "<p>452 rows × 11 columns</p>\n",
       "</div>"
      ],
      "text/plain": [
       "     Age  Sleep_Duration   RSP   DSP   LSP  Awakenings  Caffeine   Alcohol  \\\n",
       "0     65             6.0  0.18  0.70  0.12         0.0       0.0       0.0   \n",
       "1     69             7.0  0.19  0.28  0.53         3.0       0.0   85048.5   \n",
       "2     40             8.0  0.20  0.70  0.10         1.0       0.0       0.0   \n",
       "3     40             6.0  0.23  0.25  0.52         3.0      50.0  141747.5   \n",
       "4     57             8.0  0.27  0.55  0.18         3.0       0.0   85048.5   \n",
       "..   ...             ...   ...   ...   ...         ...       ...       ...   \n",
       "447   27             7.5  0.22  0.57  0.21         0.0       0.0       0.0   \n",
       "448   52             6.0  0.28  0.57  0.15         4.0      25.0       0.0   \n",
       "449   40             8.5  0.20  0.32  0.48         1.0       0.0   85048.5   \n",
       "450   45             7.0  0.18  0.72  0.10         3.0       0.0       0.0   \n",
       "451   18             7.5  0.22  0.23  0.55         1.0      50.0       0.0   \n",
       "\n",
       "     Smokes  Exercises Sleep_Type  \n",
       "0         1        3.0       Deep  \n",
       "1         1        3.0      Light  \n",
       "2         0        3.0       Deep  \n",
       "3         1        1.0      Light  \n",
       "4         0        3.0       Deep  \n",
       "..      ...        ...        ...  \n",
       "447       0        5.0       Deep  \n",
       "448       0        3.0       Deep  \n",
       "449       1        0.0      Light  \n",
       "450       0        3.0       Deep  \n",
       "451       0        1.0      Light  \n",
       "\n",
       "[452 rows x 11 columns]"
      ]
     },
     "execution_count": 45,
     "metadata": {},
     "output_type": "execute_result"
    }
   ],
   "source": [
    "sleep_df"
   ]
  },
  {
   "cell_type": "markdown",
   "id": "b139464b-28af-49f0-8d4e-3d95919ac8a3",
   "metadata": {},
   "source": [
    "Since the `Sleep_Type` feature will be used as the ground truth classes for machine learning, it is important to change its string values to integer. The code below maps the classifications into the following: `REM = 0`, `Deep = 1`, and `Light = 2`."
   ]
  },
  {
   "cell_type": "code",
   "execution_count": 46,
   "id": "a8e3655b-110d-42f9-b371-5edffd5d6010",
   "metadata": {
    "tags": []
   },
   "outputs": [],
   "source": [
    "classes = {\n",
    "    \"REM\": 0,\n",
    "    \"Deep\": 1,\n",
    "    \"Light\": 2\n",
    "}\n",
    "\n",
    "sleep_df['Sleep_Type'] =  sleep_df['Sleep_Type'].map(classes)"
   ]
  },
  {
   "cell_type": "code",
   "execution_count": 47,
   "id": "e79a239a-7a17-4446-8815-d6de16cd45f3",
   "metadata": {
    "tags": []
   },
   "outputs": [
    {
     "data": {
      "text/html": [
       "<div>\n",
       "<style scoped>\n",
       "    .dataframe tbody tr th:only-of-type {\n",
       "        vertical-align: middle;\n",
       "    }\n",
       "\n",
       "    .dataframe tbody tr th {\n",
       "        vertical-align: top;\n",
       "    }\n",
       "\n",
       "    .dataframe thead th {\n",
       "        text-align: right;\n",
       "    }\n",
       "</style>\n",
       "<table border=\"1\" class=\"dataframe\">\n",
       "  <thead>\n",
       "    <tr style=\"text-align: right;\">\n",
       "      <th></th>\n",
       "      <th>Age</th>\n",
       "      <th>Sleep_Duration</th>\n",
       "      <th>RSP</th>\n",
       "      <th>DSP</th>\n",
       "      <th>LSP</th>\n",
       "      <th>Awakenings</th>\n",
       "      <th>Caffeine</th>\n",
       "      <th>Alcohol</th>\n",
       "      <th>Smokes</th>\n",
       "      <th>Exercises</th>\n",
       "      <th>Sleep_Type</th>\n",
       "    </tr>\n",
       "  </thead>\n",
       "  <tbody>\n",
       "    <tr>\n",
       "      <th>0</th>\n",
       "      <td>65</td>\n",
       "      <td>6.0</td>\n",
       "      <td>0.18</td>\n",
       "      <td>0.70</td>\n",
       "      <td>0.12</td>\n",
       "      <td>0.0</td>\n",
       "      <td>0.0</td>\n",
       "      <td>0.0</td>\n",
       "      <td>1</td>\n",
       "      <td>3.0</td>\n",
       "      <td>1</td>\n",
       "    </tr>\n",
       "    <tr>\n",
       "      <th>1</th>\n",
       "      <td>69</td>\n",
       "      <td>7.0</td>\n",
       "      <td>0.19</td>\n",
       "      <td>0.28</td>\n",
       "      <td>0.53</td>\n",
       "      <td>3.0</td>\n",
       "      <td>0.0</td>\n",
       "      <td>85048.5</td>\n",
       "      <td>1</td>\n",
       "      <td>3.0</td>\n",
       "      <td>2</td>\n",
       "    </tr>\n",
       "    <tr>\n",
       "      <th>2</th>\n",
       "      <td>40</td>\n",
       "      <td>8.0</td>\n",
       "      <td>0.20</td>\n",
       "      <td>0.70</td>\n",
       "      <td>0.10</td>\n",
       "      <td>1.0</td>\n",
       "      <td>0.0</td>\n",
       "      <td>0.0</td>\n",
       "      <td>0</td>\n",
       "      <td>3.0</td>\n",
       "      <td>1</td>\n",
       "    </tr>\n",
       "    <tr>\n",
       "      <th>3</th>\n",
       "      <td>40</td>\n",
       "      <td>6.0</td>\n",
       "      <td>0.23</td>\n",
       "      <td>0.25</td>\n",
       "      <td>0.52</td>\n",
       "      <td>3.0</td>\n",
       "      <td>50.0</td>\n",
       "      <td>141747.5</td>\n",
       "      <td>1</td>\n",
       "      <td>1.0</td>\n",
       "      <td>2</td>\n",
       "    </tr>\n",
       "    <tr>\n",
       "      <th>4</th>\n",
       "      <td>57</td>\n",
       "      <td>8.0</td>\n",
       "      <td>0.27</td>\n",
       "      <td>0.55</td>\n",
       "      <td>0.18</td>\n",
       "      <td>3.0</td>\n",
       "      <td>0.0</td>\n",
       "      <td>85048.5</td>\n",
       "      <td>0</td>\n",
       "      <td>3.0</td>\n",
       "      <td>1</td>\n",
       "    </tr>\n",
       "    <tr>\n",
       "      <th>...</th>\n",
       "      <td>...</td>\n",
       "      <td>...</td>\n",
       "      <td>...</td>\n",
       "      <td>...</td>\n",
       "      <td>...</td>\n",
       "      <td>...</td>\n",
       "      <td>...</td>\n",
       "      <td>...</td>\n",
       "      <td>...</td>\n",
       "      <td>...</td>\n",
       "      <td>...</td>\n",
       "    </tr>\n",
       "    <tr>\n",
       "      <th>447</th>\n",
       "      <td>27</td>\n",
       "      <td>7.5</td>\n",
       "      <td>0.22</td>\n",
       "      <td>0.57</td>\n",
       "      <td>0.21</td>\n",
       "      <td>0.0</td>\n",
       "      <td>0.0</td>\n",
       "      <td>0.0</td>\n",
       "      <td>0</td>\n",
       "      <td>5.0</td>\n",
       "      <td>1</td>\n",
       "    </tr>\n",
       "    <tr>\n",
       "      <th>448</th>\n",
       "      <td>52</td>\n",
       "      <td>6.0</td>\n",
       "      <td>0.28</td>\n",
       "      <td>0.57</td>\n",
       "      <td>0.15</td>\n",
       "      <td>4.0</td>\n",
       "      <td>25.0</td>\n",
       "      <td>0.0</td>\n",
       "      <td>0</td>\n",
       "      <td>3.0</td>\n",
       "      <td>1</td>\n",
       "    </tr>\n",
       "    <tr>\n",
       "      <th>449</th>\n",
       "      <td>40</td>\n",
       "      <td>8.5</td>\n",
       "      <td>0.20</td>\n",
       "      <td>0.32</td>\n",
       "      <td>0.48</td>\n",
       "      <td>1.0</td>\n",
       "      <td>0.0</td>\n",
       "      <td>85048.5</td>\n",
       "      <td>1</td>\n",
       "      <td>0.0</td>\n",
       "      <td>2</td>\n",
       "    </tr>\n",
       "    <tr>\n",
       "      <th>450</th>\n",
       "      <td>45</td>\n",
       "      <td>7.0</td>\n",
       "      <td>0.18</td>\n",
       "      <td>0.72</td>\n",
       "      <td>0.10</td>\n",
       "      <td>3.0</td>\n",
       "      <td>0.0</td>\n",
       "      <td>0.0</td>\n",
       "      <td>0</td>\n",
       "      <td>3.0</td>\n",
       "      <td>1</td>\n",
       "    </tr>\n",
       "    <tr>\n",
       "      <th>451</th>\n",
       "      <td>18</td>\n",
       "      <td>7.5</td>\n",
       "      <td>0.22</td>\n",
       "      <td>0.23</td>\n",
       "      <td>0.55</td>\n",
       "      <td>1.0</td>\n",
       "      <td>50.0</td>\n",
       "      <td>0.0</td>\n",
       "      <td>0</td>\n",
       "      <td>1.0</td>\n",
       "      <td>2</td>\n",
       "    </tr>\n",
       "  </tbody>\n",
       "</table>\n",
       "<p>452 rows × 11 columns</p>\n",
       "</div>"
      ],
      "text/plain": [
       "     Age  Sleep_Duration   RSP   DSP   LSP  Awakenings  Caffeine   Alcohol  \\\n",
       "0     65             6.0  0.18  0.70  0.12         0.0       0.0       0.0   \n",
       "1     69             7.0  0.19  0.28  0.53         3.0       0.0   85048.5   \n",
       "2     40             8.0  0.20  0.70  0.10         1.0       0.0       0.0   \n",
       "3     40             6.0  0.23  0.25  0.52         3.0      50.0  141747.5   \n",
       "4     57             8.0  0.27  0.55  0.18         3.0       0.0   85048.5   \n",
       "..   ...             ...   ...   ...   ...         ...       ...       ...   \n",
       "447   27             7.5  0.22  0.57  0.21         0.0       0.0       0.0   \n",
       "448   52             6.0  0.28  0.57  0.15         4.0      25.0       0.0   \n",
       "449   40             8.5  0.20  0.32  0.48         1.0       0.0   85048.5   \n",
       "450   45             7.0  0.18  0.72  0.10         3.0       0.0       0.0   \n",
       "451   18             7.5  0.22  0.23  0.55         1.0      50.0       0.0   \n",
       "\n",
       "     Smokes  Exercises  Sleep_Type  \n",
       "0         1        3.0           1  \n",
       "1         1        3.0           2  \n",
       "2         0        3.0           1  \n",
       "3         1        1.0           2  \n",
       "4         0        3.0           1  \n",
       "..      ...        ...         ...  \n",
       "447       0        5.0           1  \n",
       "448       0        3.0           1  \n",
       "449       1        0.0           2  \n",
       "450       0        3.0           1  \n",
       "451       0        1.0           2  \n",
       "\n",
       "[452 rows x 11 columns]"
      ]
     },
     "execution_count": 47,
     "metadata": {},
     "output_type": "execute_result"
    }
   ],
   "source": [
    "sleep_df"
   ]
  },
  {
   "cell_type": "code",
   "execution_count": 48,
   "id": "b24e099e-a331-49f7-82b4-aec9f4922e99",
   "metadata": {
    "tags": []
   },
   "outputs": [
    {
     "name": "stdout",
     "output_type": "stream",
     "text": [
      "Count of 0s: 0\n",
      "Count of 1s: 339\n",
      "Count of 2s: 113\n"
     ]
    }
   ],
   "source": [
    "# Count occurrences of 0, 1, and 2 in the specified column\n",
    "count_0 = (sleep_df['Sleep_Type'] == 0).sum()\n",
    "count_1 = (sleep_df['Sleep_Type'] == 1).sum()\n",
    "count_2 = (sleep_df['Sleep_Type'] == 2).sum()\n",
    "\n",
    "print(\"Count of 0s:\", count_0)\n",
    "print(\"Count of 1s:\", count_1)\n",
    "print(\"Count of 2s:\", count_2)"
   ]
  },
  {
   "cell_type": "markdown",
   "id": "9ac38430-3045-49c2-8022-4220046aad73",
   "metadata": {},
   "source": [
    "Looking at the counts per sleep type, it is evident that there are *zero* counts for REM Sleep. This results in the machine learning model not being able to account for the REM Sleep type. Because of the fact that the preliminary dataset Sleep Efficiency Dataset does not have any data with REM Sleep as its highest probability, the researchers opted to drop the `RSP`, `DSP`, and `LSP` columns ans use the `Sleep_Type` column as the target variable. "
   ]
  },
  {
   "cell_type": "code",
   "execution_count": 49,
   "id": "0cc63a2f-6b4a-4c88-bb4a-6ef91138b1bf",
   "metadata": {},
   "outputs": [],
   "source": [
    "sleep_df.drop(['RSP', 'DSP', 'LSP'], axis=1, inplace = True)"
   ]
  },
  {
   "cell_type": "markdown",
   "id": "9a20528b-0674-4581-9551-73d2188546f9",
   "metadata": {},
   "source": [
    "Note that the target variable only consists of classifications `Deep Sleep` and `Light Sleep` types. `Sleep_Type` will have its values decremented to have it inlined with the logic of only having two classfications."
   ]
  },
  {
   "cell_type": "code",
   "execution_count": 50,
   "id": "10a64db1-6162-435f-8579-23352a458dea",
   "metadata": {
    "tags": []
   },
   "outputs": [
    {
     "data": {
      "text/html": [
       "<div>\n",
       "<style scoped>\n",
       "    .dataframe tbody tr th:only-of-type {\n",
       "        vertical-align: middle;\n",
       "    }\n",
       "\n",
       "    .dataframe tbody tr th {\n",
       "        vertical-align: top;\n",
       "    }\n",
       "\n",
       "    .dataframe thead th {\n",
       "        text-align: right;\n",
       "    }\n",
       "</style>\n",
       "<table border=\"1\" class=\"dataframe\">\n",
       "  <thead>\n",
       "    <tr style=\"text-align: right;\">\n",
       "      <th></th>\n",
       "      <th>Age</th>\n",
       "      <th>Sleep_Duration</th>\n",
       "      <th>Awakenings</th>\n",
       "      <th>Caffeine</th>\n",
       "      <th>Alcohol</th>\n",
       "      <th>Smokes</th>\n",
       "      <th>Exercises</th>\n",
       "      <th>Sleep_Type</th>\n",
       "    </tr>\n",
       "  </thead>\n",
       "  <tbody>\n",
       "    <tr>\n",
       "      <th>0</th>\n",
       "      <td>65</td>\n",
       "      <td>6.0</td>\n",
       "      <td>0.0</td>\n",
       "      <td>0.0</td>\n",
       "      <td>0.0</td>\n",
       "      <td>1</td>\n",
       "      <td>3.0</td>\n",
       "      <td>0</td>\n",
       "    </tr>\n",
       "    <tr>\n",
       "      <th>1</th>\n",
       "      <td>69</td>\n",
       "      <td>7.0</td>\n",
       "      <td>3.0</td>\n",
       "      <td>0.0</td>\n",
       "      <td>85048.5</td>\n",
       "      <td>1</td>\n",
       "      <td>3.0</td>\n",
       "      <td>1</td>\n",
       "    </tr>\n",
       "    <tr>\n",
       "      <th>2</th>\n",
       "      <td>40</td>\n",
       "      <td>8.0</td>\n",
       "      <td>1.0</td>\n",
       "      <td>0.0</td>\n",
       "      <td>0.0</td>\n",
       "      <td>0</td>\n",
       "      <td>3.0</td>\n",
       "      <td>0</td>\n",
       "    </tr>\n",
       "    <tr>\n",
       "      <th>3</th>\n",
       "      <td>40</td>\n",
       "      <td>6.0</td>\n",
       "      <td>3.0</td>\n",
       "      <td>50.0</td>\n",
       "      <td>141747.5</td>\n",
       "      <td>1</td>\n",
       "      <td>1.0</td>\n",
       "      <td>1</td>\n",
       "    </tr>\n",
       "    <tr>\n",
       "      <th>4</th>\n",
       "      <td>57</td>\n",
       "      <td>8.0</td>\n",
       "      <td>3.0</td>\n",
       "      <td>0.0</td>\n",
       "      <td>85048.5</td>\n",
       "      <td>0</td>\n",
       "      <td>3.0</td>\n",
       "      <td>0</td>\n",
       "    </tr>\n",
       "    <tr>\n",
       "      <th>...</th>\n",
       "      <td>...</td>\n",
       "      <td>...</td>\n",
       "      <td>...</td>\n",
       "      <td>...</td>\n",
       "      <td>...</td>\n",
       "      <td>...</td>\n",
       "      <td>...</td>\n",
       "      <td>...</td>\n",
       "    </tr>\n",
       "    <tr>\n",
       "      <th>447</th>\n",
       "      <td>27</td>\n",
       "      <td>7.5</td>\n",
       "      <td>0.0</td>\n",
       "      <td>0.0</td>\n",
       "      <td>0.0</td>\n",
       "      <td>0</td>\n",
       "      <td>5.0</td>\n",
       "      <td>0</td>\n",
       "    </tr>\n",
       "    <tr>\n",
       "      <th>448</th>\n",
       "      <td>52</td>\n",
       "      <td>6.0</td>\n",
       "      <td>4.0</td>\n",
       "      <td>25.0</td>\n",
       "      <td>0.0</td>\n",
       "      <td>0</td>\n",
       "      <td>3.0</td>\n",
       "      <td>0</td>\n",
       "    </tr>\n",
       "    <tr>\n",
       "      <th>449</th>\n",
       "      <td>40</td>\n",
       "      <td>8.5</td>\n",
       "      <td>1.0</td>\n",
       "      <td>0.0</td>\n",
       "      <td>85048.5</td>\n",
       "      <td>1</td>\n",
       "      <td>0.0</td>\n",
       "      <td>1</td>\n",
       "    </tr>\n",
       "    <tr>\n",
       "      <th>450</th>\n",
       "      <td>45</td>\n",
       "      <td>7.0</td>\n",
       "      <td>3.0</td>\n",
       "      <td>0.0</td>\n",
       "      <td>0.0</td>\n",
       "      <td>0</td>\n",
       "      <td>3.0</td>\n",
       "      <td>0</td>\n",
       "    </tr>\n",
       "    <tr>\n",
       "      <th>451</th>\n",
       "      <td>18</td>\n",
       "      <td>7.5</td>\n",
       "      <td>1.0</td>\n",
       "      <td>50.0</td>\n",
       "      <td>0.0</td>\n",
       "      <td>0</td>\n",
       "      <td>1.0</td>\n",
       "      <td>1</td>\n",
       "    </tr>\n",
       "  </tbody>\n",
       "</table>\n",
       "<p>452 rows × 8 columns</p>\n",
       "</div>"
      ],
      "text/plain": [
       "     Age  Sleep_Duration  Awakenings  Caffeine   Alcohol  Smokes  Exercises  \\\n",
       "0     65             6.0         0.0       0.0       0.0       1        3.0   \n",
       "1     69             7.0         3.0       0.0   85048.5       1        3.0   \n",
       "2     40             8.0         1.0       0.0       0.0       0        3.0   \n",
       "3     40             6.0         3.0      50.0  141747.5       1        1.0   \n",
       "4     57             8.0         3.0       0.0   85048.5       0        3.0   \n",
       "..   ...             ...         ...       ...       ...     ...        ...   \n",
       "447   27             7.5         0.0       0.0       0.0       0        5.0   \n",
       "448   52             6.0         4.0      25.0       0.0       0        3.0   \n",
       "449   40             8.5         1.0       0.0   85048.5       1        0.0   \n",
       "450   45             7.0         3.0       0.0       0.0       0        3.0   \n",
       "451   18             7.5         1.0      50.0       0.0       0        1.0   \n",
       "\n",
       "     Sleep_Type  \n",
       "0             0  \n",
       "1             1  \n",
       "2             0  \n",
       "3             1  \n",
       "4             0  \n",
       "..          ...  \n",
       "447           0  \n",
       "448           0  \n",
       "449           1  \n",
       "450           0  \n",
       "451           1  \n",
       "\n",
       "[452 rows x 8 columns]"
      ]
     },
     "execution_count": 50,
     "metadata": {},
     "output_type": "execute_result"
    }
   ],
   "source": [
    "sleep_df['Sleep_Type'] = sleep_df['Sleep_Type'] - 1\n",
    "sleep_df"
   ]
  },
  {
   "cell_type": "markdown",
   "id": "17cdb88b-4d53-4212-8ec5-65b3cb99e98e",
   "metadata": {},
   "source": [
    "The `Sleep_Type` column now maps the classifications into the following: `Deep = 0`, and `Light = 1`."
   ]
  },
  {
   "cell_type": "markdown",
   "id": "5d084de6-9417-4e4a-a1db-e5eeaf53ed32",
   "metadata": {
    "tags": []
   },
   "source": [
    "## IV. Exploratory Data Analysis"
   ]
  },
  {
   "cell_type": "code",
   "execution_count": 51,
   "id": "83d0d71a-fe4a-478d-9b23-f778b9f1db4c",
   "metadata": {
    "tags": []
   },
   "outputs": [
    {
     "name": "stdout",
     "output_type": "stream",
     "text": [
      "Correlation Matrix:\n",
      "                     Age  Sleep_Duration  Awakenings  Caffeine   Alcohol  \\\n",
      "Age             1.000000       -0.088073    0.054843 -0.158273  0.059188   \n",
      "Sleep_Duration -0.088073        1.000000    0.013623 -0.018846 -0.027821   \n",
      "Awakenings      0.054843        0.013623    1.000000 -0.068213  0.184654   \n",
      "Caffeine       -0.158273       -0.018846   -0.068213  1.000000 -0.114564   \n",
      "Alcohol         0.059188       -0.027821    0.184654 -0.114564  1.000000   \n",
      "Smokes          0.013731       -0.028036   -0.001186  0.037660  0.161915   \n",
      "Exercises       0.038256       -0.097830   -0.304760 -0.079452 -0.035417   \n",
      "\n",
      "                  Smokes  Exercises  \n",
      "Age             0.013731   0.038256  \n",
      "Sleep_Duration -0.028036  -0.097830  \n",
      "Awakenings     -0.001186  -0.304760  \n",
      "Caffeine        0.037660  -0.079452  \n",
      "Alcohol         0.161915  -0.035417  \n",
      "Smokes          1.000000  -0.038923  \n",
      "Exercises      -0.038923   1.000000  \n"
     ]
    },
    {
     "data": {
      "image/png": "[encoded data removed]",
      "text/plain": [
       "<Figure size 1000x700 with 2 Axes>"
      ]
     },
     "metadata": {},
     "output_type": "display_data"
    }
   ],
   "source": [
    "correlation_matrix = X_train.select_dtypes(include='number').corr()\n",
    "\n",
    "# Display correlation coefficients\n",
    "print(\"Correlation Matrix:\")\n",
    "print(correlation_matrix)\n",
    "\n",
    "# Visualize correlation matrix as a heatmap\n",
    "plt.figure(figsize=(10, 7))\n",
    "sns.heatmap(correlation_matrix, annot=True, cmap='coolwarm', fmt=\".2f\", linewidths=.5)\n",
    "plt.title('Correlation Heatmap')\n",
    "plt.show()"
   ]
  }
 ],
 "metadata": {
  "kernelspec": {
   "display_name": "Python 3 (ipykernel)",
   "language": "python",
   "name": "python3"
  },
  "language_info": {
   "codemirror_mode": {
    "name": "ipython",
    "version": 3
   },
   "file_extension": ".py",
   "mimetype": "text/x-python",
   "name": "python",
   "nbconvert_exporter": "python",
   "pygments_lexer": "ipython3",
   "version": "3.11.5"
  }
 },
 "nbformat": 4,
 "nbformat_minor": 5
}
